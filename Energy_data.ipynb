{
 "cells": [
  {
   "cell_type": "code",
   "execution_count": 1,
   "metadata": {},
   "outputs": [],
   "source": [
    "import os\n",
    "import fnmatch\n",
    "import fitz #pip install PyMuPDF\n",
    "import re\n",
    "from datetime import datetime\n",
    "\n",
    "import pandas as pd\n",
    "import matplotlib.pyplot as plt\n",
    "import numpy as np"
   ]
  },
  {
   "cell_type": "code",
   "execution_count": 2,
   "metadata": {},
   "outputs": [],
   "source": [
    "\n",
    "#read all PDF files\n",
    "def find_all_files(path):\n",
    "    all_files = []\n",
    "\n",
    "    for root, dirs, files in os.walk(path):\n",
    "        for file in fnmatch.filter(files,'*.pdf'):\n",
    "#\n",
    "            full_path=os.path.abspath(file)\n",
    "            all_files.append(os.path.join(root, file))\n",
    "    return all_files"
   ]
  },
  {
   "cell_type": "code",
   "execution_count": 3,
   "metadata": {},
   "outputs": [],
   "source": [
    "#Specify the path of the folder to look the PDFs of the bills\n",
    "initial_folder='.'\n",
    "pdf_files=find_all_files(initial_folder)\n",
    "# List of every page's text.\n",
    "# # The index will correspond to the pdf number.\n",
    "pdf_text = []\n",
    "for file in pdf_files:\n",
    "   doc = fitz.open(file)\n",
    "   text = \"\"\n",
    "   for page in doc:\n",
    "      text+=page.get_text()\n",
    "   pdf_text.append(text)"
   ]
  },
  {
   "cell_type": "code",
   "execution_count": 4,
   "metadata": {},
   "outputs": [],
   "source": [
    "#Function to read the amount to pay. It always has the symbol * before the amount (in Euros), e.g., *195,00 \n",
    "def find_amount(text,amount):\n",
    "    match=re.search(r'\\*\\d{1,},\\d{1,}',text)\n",
    "    #add exception when there is a refund and no amount is written\n",
    "    try:\n",
    "        #print(match.group(0))\n",
    "        value=match.group(0)[1:]\n",
    "        value=value[:-1]\n",
    "        value=value.replace(',', '.')\n",
    "        amount.append(float(value))\n",
    "    except:\n",
    "        print('Add zero if the bill is negative')\n",
    "        amount.append(0)\n",
    "    else:\n",
    "         pass\n",
    "    return amount"
   ]
  },
  {
   "cell_type": "code",
   "execution_count": 5,
   "metadata": {},
   "outputs": [],
   "source": [
    "#Function to read the consumption of kWh \n",
    "def find_consumption(text,amount):\n",
    "    match=re.search(r\"\\d{1,} kWh|\\d.\\d{1,} kWh\",text)\n",
    "    #print(match)\n",
    "    #add exception when there is a refund and no amount is written\n",
    "    # ATTENTION::: FIX The \n",
    "    try:\n",
    "        #print(match.group(0))\n",
    "        value=match.group(0).split()\n",
    "        amount.append(float(value[0]))\n",
    "    except:\n",
    "        print('Add zero if there is no consumption')\n",
    "        amount.append(0)\n",
    "\n",
    "    return amount"
   ]
  },
  {
   "cell_type": "code",
   "execution_count": 6,
   "metadata": {},
   "outputs": [],
   "source": [
    "#Function to read the date of consumption \n",
    "def find_date_old(text,begin,end,bill,dts):\n",
    "    match=re.findall(r\"\\d{2}/\\d{2}/\\d{4}\",text)\n",
    "    #print(match)\n",
    "    #25/06/2022\n",
    "    #add exception when there is a refund and no amount is written\n",
    "    # try:\n",
    "    #     print(match.group(0))\n",
    "    #     #value=match.group(0).split()\n",
    "    #     #amount.append(value[0])\n",
    "    # except:\n",
    "    #     print('No data for period of consumption available')\n",
    "    #     amount.append(0)\n",
    "    #amount.append(match[1:3])\n",
    "    dts=[]\n",
    "    for dt in match:\n",
    "        date_time_obj = datetime.strptime(dt,'%d/%m/%Y')\n",
    "        #print(date_time_obj)\n",
    "        dts.append(date_time_obj.date())\n",
    "        #print(dts)\n",
    "    #check date because the format of date changes after some bills\n",
    "    #Before the change in the bills (last bill of 2020)\n",
    "    if (dts[1]<dts[2] and dts[2]<dts[3]):\n",
    "        begin.append(dts[1])\n",
    "        end.append(dts[2])\n",
    "        bill.append(dts[0])\n",
    "    else:\n",
    "        begin.append(dts[2])\n",
    "        end.append(dts[3])\n",
    "        bill.append(dts[4])       \n",
    "    #Add date of bill\n",
    "    #match_bill==re.search(r\"Έκδοσης\\n\\d{2}/\\d{2}/\\d{4}\",text)\n",
    "    #chk=re.match(r\"Έκδοσης\\n\\d{2}/\\d{2}/\\d{4}\",text==True)\n",
    "    #if chk:\n",
    "    #    date_time_obj = datetime.strptime(chk,'%d/%m/%Y')\n",
    "    #    bill.append(dts[0])\n",
    "    #else:\n",
    "    #    bill.append(dts[0])\n",
    "\n",
    "    return begin,end,bill,dts"
   ]
  },
  {
   "cell_type": "code",
   "execution_count": 31,
   "metadata": {},
   "outputs": [],
   "source": [
    "#Function to read the dates of consumption \n",
    "def find_date(text,begin,end,bill,dts):\n",
    "    match=re.findall(r\"\\d{2}/\\d{2}/\\d{4}\",text)\n",
    "    dts=[]\n",
    "    for dt in match:\n",
    "        date_time_obj = datetime.strptime(dt,'%d/%m/%Y')\n",
    "        #print(date_time_obj)\n",
    "        dts.append(date_time_obj.date())\n",
    "        #print(dts)\n",
    "\n",
    "    #Older bills dont have the pattern while the new ones do\n",
    "    regex_date_publish = re.compile(r'(Έκδοσης)\\n(\\d{2}/\\d{2}/\\d{4})')\n",
    "    regex_date_publish_2 = re.compile(r'(\\d{10})\\s*-\\s*(\\d{2}/\\d{2}/\\d{4})')\n",
    "    \n",
    "    match = regex_date_publish.search(text)\n",
    "    match_2 = regex_date_publish_2.search(text)\n",
    "    print(match,match_2)\n",
    "    if match: #New bill\n",
    "        word = match.group(1)\n",
    "        dt=match.group(2)\n",
    "        dt = datetime.strptime(dt,'%d/%m/%Y')\n",
    "        bill.append(dt.date())\n",
    "        #print(word) # output: Έκδοσης\n",
    "        #print(match.group(2)) # output: 24/03/2023\n",
    "    elif match_2: #Older bills\n",
    "        dt=match_2.group(2)\n",
    "        dt = datetime.strptime(dt,'%d/%m/%Y')\n",
    "        bill.append(dt.date())       \n",
    "        #print('Middle bill')\n",
    "    \n",
    "    #else: \n",
    "        #Old bill\n",
    "        #print('old bill')\n",
    "    #    bill.append(dts[0])\n",
    "\n",
    "    #Consumption period\n",
    "    regex_date_period = re.compile(r'(Κατανάλωσης)\\n(\\d{2}/\\d{2}/\\d{4})\\s+-\\s+(\\d{2}/\\d{2}/\\d{4})')\n",
    "    regex_date_period_2 = re.compile(r'\\n(\\d{2}/\\d{2}/\\d{4})\\s+-\\s+(\\d{2}/\\d{2}/\\d{4})\\n')\n",
    "    match = regex_date_period.search(text)\n",
    "    match_2 = regex_date_period_2.search(text)\n",
    "    #print(match)\n",
    "    if match: #New bill\n",
    "        title = match.group(1)\n",
    "        start_date = match.group(2)\n",
    "        end_date= match.group(3)\n",
    "        \n",
    "        start_date=datetime.strptime(start_date,'%d/%m/%Y')\n",
    "        end_date=datetime.strptime(end_date,'%d/%m/%Y')\n",
    "        \n",
    "        begin.append( start_date.date())\n",
    "        end.append(end_date.date())\n",
    "        \n",
    "        print(f\"Title: {title}\\nStart Date: {start_date}\\nEnd Date: {end_date}\")\n",
    "    elif match_2:\n",
    "        start_date = match_2.group(1)\n",
    "        end_date= match_2.group(2)\n",
    "        print('Middle bill')\n",
    "        start_date=datetime.strptime(start_date,'%d/%m/%Y')\n",
    "        end_date=datetime.strptime(end_date,'%d/%m/%Y')\n",
    "        \n",
    "        begin.append( start_date.date())\n",
    "        end.append(end_date.date())     \n",
    "\n",
    "    else: #Find start and end date based on the date of the bill\n",
    "        check_date=datetime.strptime('01/12/2020','%d/%m/%Y')\n",
    "        if dt<check_date:\n",
    "            begin.append(dts[1])\n",
    "            end.append(dts[2])\n",
    "        else:\n",
    "            begin.append(dts[2])\n",
    "            end.append(dts[4])             \n",
    "\n",
    "\n",
    "\n",
    "        #old bill\n",
    "        # if (dts[1]<dts[2] and dts[2]<dts[3]):\n",
    "        #     begin.append(dts[1])\n",
    "        #     end.append(dts[2])\n",
    "        # else:\n",
    "        #     begin.append(dts[2])\n",
    "        #     end.append(dts[3])  \n",
    "\n",
    "    return begin,end,bill,dts"
   ]
  },
  {
   "cell_type": "code",
   "execution_count": 30,
   "metadata": {},
   "outputs": [
    {
     "data": {
      "text/plain": [
       "\"λογαριασμός\\nΈναντι Κατανάλωσης\\nΠροηγούμενο Ανεξόφλητο Ποσό\\nΣυνολικό ποσό πληρωμής\\nΑγνοήστε το εάν έχει πληρωθεί\\nΧρεώσεις προμήθειας ΔΕΗ\\nΔιάφορα - Δήμος - ΕΡΤ\\nΦΠΑ\\nΔΕΗ A.E.\\nΧαλκοκονδύλη 30, 104 32 Αθήνα,\\nΑ.Φ.Μ. 090000045, Δ.Ο.Υ. ΦΑΕ ΑΘΗΝΩΝ\\ndei.gr\\nΚωδικός ηλεκτρονικής πληρωμής\\nΕΞΥΠΗΡΕΤΗΣΗ  ΔΕΔΔΗΕ\\nΕΞΥΠΗΡΕΤΗΣΗ ΠΕΛΑΤΩΝ ΔΕΗ\\nΡυθμιζόμενες χρεώσεις\\nΕπόμενη καταμέτρηση:\\nΑριθμός παροχής\\nΤιμολόγιο:\\nΔιεύθυνση ακινήτου:\\nΠΟΣΟ ΠΛΗΡΩΜΗΣ\\nΕΞΟΦΛΗΣΗ ΕΩΣ\\nΗ κατανάλωσή σας\\nΚατανάλωση Ηλεκτρικής Ενέργειας\\nΠερίοδος Κατανάλωσης\\nΗμέρες\\nΗμ/νία Έκδοσης\\nΑ/Α Λογαριασμού\\nΣκανάρετε\\nγια άμεση εξόφληση\\n1\\nΈχετε ενεργοποιήσει Σύμβαση για το προϊόν\\nMyHomeEnter. Η Σύμβαση λήγει 29/12/2022\\n-64 , 99€\\nΚλείστε τώρα ραντεβού, εύκολα & γρήγορα, σε ένα από τα επιλεγμένα καταστήματα, με ένα κλικ στο dei.gr\\nΕΝΕΡΓΕΙΑΚΟ ΜΕΙΓΜΑ 2018 ΓΙΑ ΤΗ ΔΕΗ ΑΕ   (πηγή ΔΑΠΕΕΠ 25.10.2019)\\n \\n.\\nΠρωτογενής Παραγωγή & Εισαγωγή\\n  Ανανεώσιμες Πηγές Ενέργειας   30,75%   |   Λιγνίτης   30,53%   |   Φυσικό Αέριο   27,41%\\n  Πετρέλαιο   8,07%     |     Λοιπά Ορυκτά Καύσιμα   2,06%     |    Πυρηνική Ενέργεια   1,17%\\n  Περιβαλλοντικές Επιπτώσεις\\n  Εκπομπές CO2 (gr CO2/kWh)   638,39      |      Ραδιενεργά Απόβλητα (mgRW/kW)   0,033\\nRF53907738000300005250337 \\n���������\\n     0276084510010\\n00013362\\nΚΑΤΑΣΤΗΜΑ ΛΑΡΙΣΑΣ\\nΚΑΡΔΙΤΣΑΣ 99 & ΑΜΟΡΓΟΥ 413 35\\nΈναντι\\nΤΣΙΜΠΟΥΚΗΣ ΑΘΑΝΑΣΙΟΣ ΧΡΗΣΤΟΣ\\n25ΗΣ ΜΑΡΤΙΟΥ 25\\n412 21 ΛΑΡΙΣΑ\\n     4\\n25ΗΣ ΜΑΡΤΙΟΥ 25\\n \\n412 21 ΛΑΡΙΣΑ\\n27/01/2021\\n22/12/2020\\n36\\n4 40611581-01 1\\n335 kWh\\n23/02/2021\\n************€\\n3 , 10€\\n1245234608\\n027-2021\\n800 900 1000 (ΔΩΡΕΑΝ)\\n440611581014\\n myHome Enter N\\nΕΠΙΣΤΡΟΦΗ\\nΠοσό επιστροφής ή συμψηφισμού στον επόμενο λογ/σμό -19,00\\n11500\\n2111900500\\nΠληροφορίες | Βλάβες|\\nΚαταμέτρηση\\n************€\\n26 , 26€\\n16 , 63€\\n027 608451\\nΑΔΜΗΕ-ΔΕΔΔΗΕ ....:\\n      8,61\\nΥΚΩ..............:\\n      2,31\\nΕΤΜΕΑΡ...........:\\n      5,70\\nΛΟΙΠΕΣ ΧΡΕΩΣΕΙΣ..:\\n      0,01\\nΔΙΑΦΟΡΕΣ ΧΡΕΩΣΕΙΣ:\\n          0,08\\nΔΗΜΟΣ............:\\n25,39\\nΕΡΤ .............:\\n0,79\\nΚΑΤΑΝΑΛΩΣΗ ......:\\n335\\n26/01/2021\\n -\\nλογαριασμός\\nΈναντι Κατανάλωσης\\nΠροηγούμενο Ανεξόφλητο Ποσό\\nΣυνολικό ποσό πληρωμής\\nΑγνοήστε το εάν έχει πληρωθεί\\nΧρεώσεις προμήθειας ΔΕΗ\\nΔιάφορα - Δήμος - ΕΡΤ\\nΦΠΑ\\nΔΕΗ A.E.\\nΧαλκοκονδύλη 30, 104 32 Αθήνα,\\nΑ.Φ.Μ. 090000045, Δ.Ο.Υ. ΦΑΕ ΑΘΗΝΩΝ\\ndei.gr\\nΚωδικός ηλεκτρονικής πληρωμής\\nΕΞΥΠΗΡΕΤΗΣΗ  ΔΕΔΔΗΕ\\nΕΞΥΠΗΡΕΤΗΣΗ ΠΕΛΑΤΩΝ ΔΕΗ\\nΡυθμιζόμενες χρεώσεις\\nΕπόμενη καταμέτρηση:\\nΑριθμός παροχής\\nΤιμολόγιο:\\nΔιεύθυνση ακινήτου:\\nΠΟΣΟ ΠΛΗΡΩΜΗΣ\\nΕΞΟΦΛΗΣΗ ΕΩΣ\\nΗ κατανάλωσή σας\\nΚατανάλωση Ηλεκτρικής Ενέργειας\\nΠερίοδος Κατανάλωσης\\nΗμέρες\\nΗμ/νία Έκδοσης\\nΑ/Α Λογαριασμού\\nΣκανάρετε\\nγια άμεση εξόφληση\\n1\\nΈχετε ενεργοποιήσει Σύμβαση για το προϊόν\\nMyHomeEnter. Η Σύμβαση λήγει 29/12/2022\\n-64 , 99€\\nΚλείστε τώρα ραντεβού, εύκολα & γρήγορα, σε ένα από τα επιλεγμένα καταστήματα, με ένα κλικ στο dei.gr\\nΕΝΕΡΓΕΙΑΚΟ ΜΕΙΓΜΑ 2018 ΓΙΑ ΤΗ ΔΕΗ ΑΕ   (πηγή ΔΑΠΕΕΠ 25.10.2019)\\n \\n.\\nΠρωτογενής Παραγωγή & Εισαγωγή\\n  Ανανεώσιμες Πηγές Ενέργειας   30,75%   |   Λιγνίτης   30,53%   |   Φυσικό Αέριο   27,41%\\n  Πετρέλαιο   8,07%     |     Λοιπά Ορυκτά Καύσιμα   2,06%     |    Πυρηνική Ενέργεια   1,17%\\n  Περιβαλλοντικές Επιπτώσεις\\n  Εκπομπές CO2 (gr CO2/kWh)   638,39      |      Ραδιενεργά Απόβλητα (mgRW/kW)   0,033\\nRF53907738000300005250337 \\n���������\\n     0276084510010\\n00013362\\nΚΑΤΑΣΤΗΜΑ ΛΑΡΙΣΑΣ\\nΚΑΡΔΙΤΣΑΣ 99 & ΑΜΟΡΓΟΥ 413 35\\nΈναντι\\nΤΣΙΜΠΟΥΚΗΣ ΑΘΑΝΑΣΙΟΣ ΧΡΗΣΤΟΣ\\n25ΗΣ ΜΑΡΤΙΟΥ 25\\n412 21 ΛΑΡΙΣΑ\\n     4\\n25ΗΣ ΜΑΡΤΙΟΥ 25\\n \\n412 21 ΛΑΡΙΣΑ\\n27/01/2021\\n22/12/2020\\n36\\n4 40611581-01 1\\n335 kWh\\n23/02/2021\\n************€\\n3 , 10€\\n1245234608\\n027-2021\\n800 900 1000 (ΔΩΡΕΑΝ)\\n440611581014\\n myHome Enter N\\nΕΠΙΣΤΡΟΦΗ\\nΠοσό επιστροφής ή συμψηφισμού στον επόμενο λογ/σμό -19,00\\n11500\\n2111900500\\nΠληροφορίες | Βλάβες|\\nΚαταμέτρηση\\n************€\\n26 , 26€\\n16 , 63€\\n027 608451\\nΑΔΜΗΕ-ΔΕΔΔΗΕ ....:\\n      8,61\\nΥΚΩ..............:\\n      2,31\\nΕΤΜΕΑΡ...........:\\n      5,70\\nΛΟΙΠΕΣ ΧΡΕΩΣΕΙΣ..:\\n      0,01\\nΔΙΑΦΟΡΕΣ ΧΡΕΩΣΕΙΣ:\\n          0,08\\nΔΗΜΟΣ............:\\n25,39\\nΕΡΤ .............:\\n0,79\\nΚΑΤΑΝΑΛΩΣΗ ......:\\n335\\n26/01/2021\\n -\\nΕΡΤ\\nΔήμος\\nΦΠΑ\\nΔιάφορα\\nΈναντι Κατανάλωσης\\nΡυθμιζόμενες Χρεώσεις\\nΧρεώσεις Προμήθειας ΔΕΗ\\nΑναλυτικά οι χρεώσεις\\nΑξία σε €\\nΤρόποι εξόφλησης λογαριασμών\\n① Στα ταμεία της ΔΕΗ, (με μετρητά ή χρήση κάρτας), χωρίς\\n    επιβάρυνση\\n② Ηλεκτρονικά με χρήση κάρτας στο dei.gr, χωρίς επιβάρυνση\\n③ Στις συνεργαζόμενες τράπεζες με πάγια εντολή, e-banking,\\n    phone-banking, στα ΑΤΜ, στα Μηχανήματα Αυτόματων\\n    Συναλλαγών και στα ταμεία των καταστημάτων τους\\n④ Στα ιδρύματα πληρωμών, ιδρύματα ηλεκτρονικού χρήματος και\\n    τους πιστοποιημένους αντιπροσώπους αυτών (Ν.4021/2011 και\\n    Ν.4537.2018)  , όπως, σε καταστήματα ΟΠΑΠ σε όλη την Ελλάδα\\n⑤ Μέσω εμβασμάτων SEPA χρησιμοποιώντας τα στοιχεία BIC\\n    ETHNGRAA και IBAN GR6901100400000004020086700\\n    (υποχρεωτικός ο Κωδικός Ηλεκτρονικής Πληρωμής)\\nΠερισσότερες πληροφορίες στο dei.gr. Oι λογαριασμοί μετά τη λήξη\\nτους εξοφλούνται με δική σας ευθύνη, με όλους τους παραπάνω\\nτρόπους.\\n \\nΣημαντική ενημέρωση\\nΣε περίπτωση εκπρόθεσμης εξόφλησης του λογαριασμού,\\nεπιβαρύνεστε με τόκους υπερημερίας και ενδέχεται:\\n① Να διακοπεί η ηλεκτροδότησή σας μετά από σχετική\\n    ειδοποίηση\\n② Να γίνει καταγγελία της σύμβασης προμήθειας ηλεκτρικής\\n    ενέργειας\\nΣε περίπτωση διακοπής ρεύματος, για την επανασύνδεση επιβαρύνεστε\\nμε έξοδα επανασύνδεσης & εφόσον απαιτείται, αναπροσαρμόζεται η\\nεγγύηση. Εφόσον υπάρχουν ληξιπρόθεσμες οφειλές, εξουσιοδοτημένοι\\nσυνεργάτες δύναται να επικοινωνήσουν μαζί σας με σκοπό τη σχετική\\nενημέρωσή σας (Ν.3758/09 & Κώδικας Προμήθειας σε Πελάτες ΦΕΚ 832/\\nτΒ/9.4.13). Η συλλογή και επεξεργασία των δεδομένων προσωπικού\\nχαρακτήρα από τη ΔΕΗ πραγματοποιείται σύννομα και σύμφωνα με τις\\nπροβλέψεις του Κανονισμού (ΕΕ) 679/2016, όπως αυτές ενσωματώνονται\\nστη Δήλωση Προστασίας Προσωπικών Δεδομένων της ΔΕΗ.\\n \\n                 Χρήσιμες πληροφορίες\\n                     Για οποιαδήποτε πληροφορία, αίτημα ή παράπονο\\n                     καλέστε στο 800 900 1000 ΔΩΡΕΑΝ (ή στο +30 211 211 0770\\n                     από το εξωτερικό), επισκεφθείτε το dei.gr ή απευθυνθείτε\\n                     σε οποιοδήποτε κατάστημα ΔΕΗ. • Σε περίπτωση\\n                     διαφωνίας ως προς τις χρεώσεις του λογαριασμού,\\n                     αντιρρήσεις υποβάλλονται εγγράφως, πριν τη λήξη του\\n                     επόμενου λογαριασμού από αυτόν που αμφισβητείται.\\n                     • Ανεξάρτητη Αρχή στην οποία μπορείτε να απευθυνθείτε\\n                     για εξωδικαστική επίλυση της διαφοράς σας, είναι\\n                     ο Συνήγορος του Καταναλωτή (Λ. Αλεξάνδρας 144, 114 71\\n                     Αθήνα, τηλ: 210 6460862, 210 6460814). • Σε περίπτωση\\n                     παραβίασης του θεσμικού πλαισίου εκ μέρους της ΔΕΗ,\\n                     έχετε τη δυνατότητα υποβολής αιτιολογημένης καταγγελίας\\n                     ενώπιον της PAE, σύμφωνα με το Ν.4001/2011, άρθρο 34.\\n                     • Η κατανάλωση στους έναντι λογαριασμούς εκτιμάται\\n                    βάσει καταναλώσεων αντίστοιχης χρονικής περιόδου του\\n                    προηγούμενου έτους και οι χρεώσεις, Προμήθειας και\\n                    Ρυθμιζόμενες, αποτυπώνονται  αναλυτικά.\\nΤα στοιχεία σας\\nΚωδικός Εταίρου :\\nΛογ. Συμβολαίου :\\nΣτοιχεία Πελάτη :\\nΑρ. Παραστατικού :\\nΑΦΜ/ΑΔΤ :\\nΕγγύηση :\\nΕνδείξεις Μετρητή\\nΑριθμός\\nΜετρητή\\nΤύπος\\nΈνδειξης\\nΤελευταία\\nΚαταμέτρηση\\nΠροηγούμενη\\nΚαταμέτρηση\\nΔιαφορά\\nΚαταμέτρησης\\nΠροσθ.\\nKwh\\nΣύνολο\\nΚατανάλωσης\\nΣυμφωνημένη Ισχύς\\nΠαροχής (kVA)\\nΣυντ.\\nΜετ/σμού\\nΣυντ.\\nΧρησ/σης\\nσυνφ.\\nΧρεωστέα\\nΖήτηση (kW)\\n08113170\\n11\\n0\\n262\\n08113170\\n12\\n0\\n73\\n���������\\n     0276084510010\\nΠάγια Χρέωση\\n1 , 40\\nkWh 58X0,11052€/kWh\\n6 , 41\\nkWh 204X0,10505€/kWh      \\n2 1 , 43\\nkWh 73X0,07904€/kWh        \\n5 , 77\\nΕπιστροφή myHome Enter  \\n- 100 , 00\\n ΛΑΡΙΣΑΙΩΝ\\n36,00 x\\n8/365  \\n108x1250,00x0,60x0,00030x36/365 =\\n0, 79\\n25\\n1\\n1,0000\\nΔΤ :\\nΔΦ:\\nτμ      x      €/τμ     x   συντ.ημερών\\nτμ     x   τιμή ζώνης x παλαιότητα  x  συντ.ΤΑΠ  x  συντ.ημερών\\nΤΑΠ:\\n25,39\\nετήσια χρέωση  χ   συντ.ημερών   -  ΕΝΑΝΤΙ ΕΡΤ\\n=\\n22 , 1 5\\n144 x \\n1,56 x\\n36/365\\nΦΠΑ\\n51,64 x\\n6%\\n=\\n3 , 10\\nΑΔΜΗΕ:Σύστημα Μεταφοράς Η/Ε\\n      1 , 74\\n(25kVAx36/365x0,130€/kVA)+(262kWhx0,00542€/kWh)\\nΔΕΔΔΗΕ:Δίκτυο Διανομής Η/Ε\\n      6 , 87\\n(25kVAx36/365x0,520€/kVA)+(262kWhx0,02130€/kWh)\\nΥΚΩ:Υπηρεσίες Κοινής Ωφέλειας\\n      2 , 3 1\\nΗΜΕΡΑΣ   8νημ (58kWh x 0,00690€/kWh) +\\n                  8νημ (204kWh x 0,00690€/kWh)\\nΝΥΧΤΑΣ    8νημ (16kWh x 0,00690€/kWh) +\\n                  8νημ (57kWh x 0,00690€/kWh)\\nΕΤΜΕΑΡ\\n     5 , 70\\n335kWhx0,01700€/kWh\\nΛοιπές Χρεώσεις\\n      0 , 01\\n262kWhx0,00007€/kWh\\n73kWhx0,00007€/kWh\\nΣτρογγ/ση Πληρ.Ποσού       \\n0 , 45\\nΠοσό Στρογγ.Προηγ.Λογ.    \\n-0 , 37\\n108 x\\n 0,08 x\\n36/365\\n=\\n0 , 85\\n00013362\\nA M\\n027-2021\\n2 , 39\\n-64,99\\n16 ,63\\n3, 10\\nΕπόμενη καταχώριση ένδειξης στον ΔΕΔΔΗΕ:\\nστο 11500 ή www.deddie.gr από  13/04/2021   έως  19/04/2021\\n0 , 79\\n          0,08\\n300005250337\\n4020 18 58 113000\\n612502857666\\n018057610\\n71,31 €\\n1104756372\\nΣε συνέχεια του υπ' αριθμού A/A Λογαριασμού  1245234608 - 27/01/2021   με αριθμό παροχής    4 40611581-01 1\\nΕΡΤ\\nΔήμος\\nΦΠΑ\\nΔιάφορα\\nΈναντι Κατανάλωσης\\nΡυθμιζόμενες Χρεώσεις\\nΧρεώσεις Προμήθειας ΔΕΗ\\nΑναλυτικά οι χρεώσεις\\nΑξία σε €\\nΤρόποι εξόφλησης λογαριασμών\\n① Στα ταμεία της ΔΕΗ, (με μετρητά ή χρήση κάρτας), χωρίς\\n    επιβάρυνση\\n② Ηλεκτρονικά με χρήση κάρτας στο dei.gr, χωρίς επιβάρυνση\\n③ Στις συνεργαζόμενες τράπεζες με πάγια εντολή, e-banking,\\n    phone-banking, στα ΑΤΜ, στα Μηχανήματα Αυτόματων\\n    Συναλλαγών και στα ταμεία των καταστημάτων τους\\n④ Στα ιδρύματα πληρωμών, ιδρύματα ηλεκτρονικού χρήματος και\\n    τους πιστοποιημένους αντιπροσώπους αυτών (Ν.4021/2011 και\\n    Ν.4537.2018)  , όπως, σε καταστήματα ΟΠΑΠ σε όλη την Ελλάδα\\n⑤ Μέσω εμβασμάτων SEPA χρησιμοποιώντας τα στοιχεία BIC\\n    ETHNGRAA και IBAN GR6901100400000004020086700\\n    (υποχρεωτικός ο Κωδικός Ηλεκτρονικής Πληρωμής)\\nΠερισσότερες πληροφορίες στο dei.gr. Oι λογαριασμοί μετά τη λήξη\\nτους εξοφλούνται με δική σας ευθύνη, με όλους τους παραπάνω\\nτρόπους.\\n \\nΣημαντική ενημέρωση\\nΣε περίπτωση εκπρόθεσμης εξόφλησης του λογαριασμού,\\nεπιβαρύνεστε με τόκους υπερημερίας και ενδέχεται:\\n① Να διακοπεί η ηλεκτροδότησή σας μετά από σχετική\\n    ειδοποίηση\\n② Να γίνει καταγγελία της σύμβασης προμήθειας ηλεκτρικής\\n    ενέργειας\\nΣε περίπτωση διακοπής ρεύματος, για την επανασύνδεση επιβαρύνεστε\\nμε έξοδα επανασύνδεσης & εφόσον απαιτείται, αναπροσαρμόζεται η\\nεγγύηση. Εφόσον υπάρχουν ληξιπρόθεσμες οφειλές, εξουσιοδοτημένοι\\nσυνεργάτες δύναται να επικοινωνήσουν μαζί σας με σκοπό τη σχετική\\nενημέρωσή σας (Ν.3758/09 & Κώδικας Προμήθειας σε Πελάτες ΦΕΚ 832/\\nτΒ/9.4.13). Η συλλογή και επεξεργασία των δεδομένων προσωπικού\\nχαρακτήρα από τη ΔΕΗ πραγματοποιείται σύννομα και σύμφωνα με τις\\nπροβλέψεις του Κανονισμού (ΕΕ) 679/2016, όπως αυτές ενσωματώνονται\\nστη Δήλωση Προστασίας Προσωπικών Δεδομένων της ΔΕΗ.\\n \\n                 Χρήσιμες πληροφορίες\\n                     Για οποιαδήποτε πληροφορία, αίτημα ή παράπονο\\n                     καλέστε στο 800 900 1000 ΔΩΡΕΑΝ (ή στο +30 211 211 0770\\n                     από το εξωτερικό), επισκεφθείτε το dei.gr ή απευθυνθείτε\\n                     σε οποιοδήποτε κατάστημα ΔΕΗ. • Σε περίπτωση\\n                     διαφωνίας ως προς τις χρεώσεις του λογαριασμού,\\n                     αντιρρήσεις υποβάλλονται εγγράφως, πριν τη λήξη του\\n                     επόμενου λογαριασμού από αυτόν που αμφισβητείται.\\n                     • Ανεξάρτητη Αρχή στην οποία μπορείτε να απευθυνθείτε\\n                     για εξωδικαστική επίλυση της διαφοράς σας, είναι\\n                     ο Συνήγορος του Καταναλωτή (Λ. Αλεξάνδρας 144, 114 71\\n                     Αθήνα, τηλ: 210 6460862, 210 6460814). • Σε περίπτωση\\n                     παραβίασης του θεσμικού πλαισίου εκ μέρους της ΔΕΗ,\\n                     έχετε τη δυνατότητα υποβολής αιτιολογημένης καταγγελίας\\n                     ενώπιον της PAE, σύμφωνα με το Ν.4001/2011, άρθρο 34.\\n                     • Η κατανάλωση στους έναντι λογαριασμούς εκτιμάται\\n                    βάσει καταναλώσεων αντίστοιχης χρονικής περιόδου του\\n                    προηγούμενου έτους και οι χρεώσεις, Προμήθειας και\\n                    Ρυθμιζόμενες, αποτυπώνονται  αναλυτικά.\\nΤα στοιχεία σας\\nΚωδικός Εταίρου :\\nΛογ. Συμβολαίου :\\nΣτοιχεία Πελάτη :\\nΑρ. Παραστατικού :\\nΑΦΜ/ΑΔΤ :\\nΕγγύηση :\\nΕνδείξεις Μετρητή\\nΑριθμός\\nΜετρητή\\nΤύπος\\nΈνδειξης\\nΤελευταία\\nΚαταμέτρηση\\nΠροηγούμενη\\nΚαταμέτρηση\\nΔιαφορά\\nΚαταμέτρησης\\nΠροσθ.\\nKwh\\nΣύνολο\\nΚατανάλωσης\\nΣυμφωνημένη Ισχύς\\nΠαροχής (kVA)\\nΣυντ.\\nΜετ/σμού\\nΣυντ.\\nΧρησ/σης\\nσυνφ.\\nΧρεωστέα\\nΖήτηση (kW)\\n08113170\\n11\\n0\\n262\\n08113170\\n12\\n0\\n73\\n���������\\n     0276084510010\\nΠάγια Χρέωση\\n1 , 40\\nkWh 58X0,11052€/kWh\\n6 , 41\\nkWh 204X0,10505€/kWh      \\n2 1 , 43\\nkWh 73X0,07904€/kWh        \\n5 , 77\\nΕπιστροφή myHome Enter  \\n- 100 , 00\\n ΛΑΡΙΣΑΙΩΝ\\n36,00 x\\n8/365  \\n108x1250,00x0,60x0,00030x36/365 =\\n0, 79\\n25\\n1\\n1,0000\\nΔΤ :\\nΔΦ:\\nτμ      x      €/τμ     x   συντ.ημερών\\nτμ     x   τιμή ζώνης x παλαιότητα  x  συντ.ΤΑΠ  x  συντ.ημερών\\nΤΑΠ:\\n25,39\\nετήσια χρέωση  χ   συντ.ημερών   -  ΕΝΑΝΤΙ ΕΡΤ\\n=\\n22 , 1 5\\n144 x \\n1,56 x\\n36/365\\nΦΠΑ\\n51,64 x\\n6%\\n=\\n3 , 10\\nΑΔΜΗΕ:Σύστημα Μεταφοράς Η/Ε\\n      1 , 74\\n(25kVAx36/365x0,130€/kVA)+(262kWhx0,00542€/kWh)\\nΔΕΔΔΗΕ:Δίκτυο Διανομής Η/Ε\\n      6 , 87\\n(25kVAx36/365x0,520€/kVA)+(262kWhx0,02130€/kWh)\\nΥΚΩ:Υπηρεσίες Κοινής Ωφέλειας\\n      2 , 3 1\\nΗΜΕΡΑΣ   8νημ (58kWh x 0,00690€/kWh) +\\n                  8νημ (204kWh x 0,00690€/kWh)\\nΝΥΧΤΑΣ    8νημ (16kWh x 0,00690€/kWh) +\\n                  8νημ (57kWh x 0,00690€/kWh)\\nΕΤΜΕΑΡ\\n     5 , 70\\n335kWhx0,01700€/kWh\\nΛοιπές Χρεώσεις\\n      0 , 01\\n262kWhx0,00007€/kWh\\n73kWhx0,00007€/kWh\\nΣτρογγ/ση Πληρ.Ποσού       \\n0 , 45\\nΠοσό Στρογγ.Προηγ.Λογ.    \\n-0 , 37\\n108 x\\n 0,08 x\\n36/365\\n=\\n0 , 85\\n00013362\\nA M\\n027-2021\\n2 , 39\\n-64,99\\n16 ,63\\n3, 10\\nΕπόμενη καταχώριση ένδειξης στον ΔΕΔΔΗΕ:\\nστο 11500 ή www.deddie.gr από  13/04/2021   έως  19/04/2021\\n0 , 79\\n          0,08\\n300005250337\\n4020 18 58 113000\\n612502857666\\n018057610\\n71,31 €\\n1104756372\\nΣε συνέχεια του υπ' αριθμού A/A Λογαριασμού  1245234608 - 27/01/2021   με αριθμό παροχής    4 40611581-01 1\\n\""
      ]
     },
     "execution_count": 30,
     "metadata": {},
     "output_type": "execute_result"
    }
   ],
   "source": [
    "pdf_text[28]"
   ]
  },
  {
   "cell_type": "code",
   "execution_count": 9,
   "metadata": {},
   "outputs": [
    {
     "name": "stdout",
     "output_type": "stream",
     "text": [
      "26/05/2021\n"
     ]
    }
   ],
   "source": [
    "import re\n",
    "\n",
    "text = \"Σε συνέχεια του υπ' αριθμού A/A Λογαριασμού 1259012181 - 26/05/2021 με αριθμό παροχής\"\n",
    "pattern = r'(\\d+)\\s*-\\s*(\\d{2}/\\d{2}/\\d{4})'\n",
    "\n",
    "match = re.search(pattern, pdf_text[32])\n",
    "if match:\n",
    "    date = match.group(2)\n",
    "    print(date)\n",
    "else:\n",
    "    print(\"No match found\")\n"
   ]
  },
  {
   "cell_type": "code",
   "execution_count": 10,
   "metadata": {},
   "outputs": [
    {
     "name": "stdout",
     "output_type": "stream",
     "text": [
      "<re.Match object; span=(1255, 1298), match='Κατανάλωσης\\n23/02/2023     -     23/03/2023'>\n"
     ]
    }
   ],
   "source": [
    "import re\n",
    "\n",
    "# Define the text to search\n",
    "text = \"ότι Η Έκδοσης του βιβλίου ολοκληρώθηκε επιτέλους!\"\n",
    "#re.findall(r\"\\d{2}/\\d{2}/\\d{4}\",text)\n",
    "# Define the regular expression to search for Greek letters\n",
    "#regex = \"[Α-Ωα-ωάέ]+\"\n",
    "#Έκδοσης\\n24/03/2023\n",
    "regex_date_publish = re.compile(r'Έκδοσης\\n\\d{2}/\\d{2}/\\d{4}')\n",
    "regex_date_period = re.compile(r'Κατανάλωσης\\n\\d{2}/\\d{2}/\\d{4}')\n",
    "regex_date_period = re.compile(r'(Κατανάλωσης)\\n(\\d{2}/\\d{2}/\\d{4})\\s+-\\s+(\\d{2}/\\d{2}/\\d{4})')\n",
    "# Use the findall method to search for all occurrences of Greek letters in the text\n",
    "matches = re.search(regex_date_period, pdf_text[-1])\n",
    "\n",
    "# Print the matches\n",
    "print(matches)"
   ]
  },
  {
   "cell_type": "code",
   "execution_count": 11,
   "metadata": {},
   "outputs": [
    {
     "name": "stdout",
     "output_type": "stream",
     "text": [
      "<re.Match object; span=(12, 30), match='Έκδοσης\\n24/03/2023'>\n",
      "Έκδοσης\n",
      "24/03/2023\n"
     ]
    }
   ],
   "source": [
    "import re\n",
    "\n",
    "text = 'Lorem ipsum Έκδοσης\\n24/03/2023 dolor sit amet.'\n",
    "\n",
    "pattern = re.compile(r'(Έκδοσης)\\n(\\d{2}/\\d{2}/\\d{4})')\n",
    "\n",
    "match = pattern.search(text)\n",
    "print(match)\n",
    "if match:\n",
    "    word = match.group(1)\n",
    "    date = match.group(2)\n",
    "    print(word) # output: Έκδοσης\n",
    "    print(date) # output: 24/03/2023"
   ]
  },
  {
   "cell_type": "code",
   "execution_count": 12,
   "metadata": {},
   "outputs": [
    {
     "name": "stdout",
     "output_type": "stream",
     "text": [
      "10 days, 0:00:00\n"
     ]
    }
   ],
   "source": [
    "# # date in yyyy/mm/dd format\n",
    "# d1 = dt.datetime(2018, 5, 3)\n",
    "# d2 = dt.datetime(2018, 6, 1)\n",
    "  \n",
    "# # Comparing the dates will return\n",
    "# # either True or False\n",
    "# print(\"d1 is greater than d2 : \", d1 > d2)\n",
    "# print(\"d1 is less than d2 : \", d1 < d2)\n",
    "# print(\"d1 is not equal to d2 : \", d1 != d2)\n",
    "from datetime import datetime\n",
    "date_time_obj = datetime.strptime('30/06/2016','%d/%m/%Y')\n",
    "date_time_obj_2 = datetime.strptime('20/06/2016','%d/%m/%Y')\n",
    "print(date_time_obj.date()-date_time_obj_2.date())"
   ]
  },
  {
   "cell_type": "code",
   "execution_count": 32,
   "metadata": {},
   "outputs": [
    {
     "name": "stdout",
     "output_type": "stream",
     "text": [
      "None <re.Match object; span=(10562, 10585), match='1050174792 - 28/06/2016'>\n",
      "None <re.Match object; span=(9980, 10003), match='1057276420 - 24/08/2016'>\n",
      "Add zero if there is no consumption\n",
      "None <re.Match object; span=(10500, 10523), match='1065453458 - 27/10/2016'>\n",
      "None <re.Match object; span=(10005, 10028), match='1072395150 - 22/12/2016'>\n",
      "Add zero if there is no consumption\n",
      "None <re.Match object; span=(8162, 8185), match='1080086238 - 23/02/2017'>\n",
      "Middle bill\n",
      "None <re.Match object; span=(7723, 7746), match='1087106893 - 21/04/2017'>\n",
      "Middle bill\n",
      "Add zero if there is no consumption\n",
      "None <re.Match object; span=(8455, 8478), match='1094989728 - 28/06/2017'>\n",
      "Middle bill\n",
      "None <re.Match object; span=(7760, 7783), match='1102197586 - 24/08/2017'>\n",
      "Middle bill\n",
      "Add zero if there is no consumption\n",
      "None <re.Match object; span=(8388, 8411), match='1109882944 - 27/10/2017'>\n",
      "Middle bill\n",
      "None <re.Match object; span=(7522, 7545), match='1116939081 - 20/12/2017'>\n",
      "Middle bill\n",
      "Add zero if there is no consumption\n",
      "None <re.Match object; span=(8733, 8756), match='1124579662 - 26/02/2018'>\n",
      "Middle bill\n",
      "None <re.Match object; span=(7938, 7961), match='1131016608 - 23/04/2018'>\n",
      "Middle bill\n",
      "Add zero if there is no consumption\n",
      "None <re.Match object; span=(8481, 8504), match='1138682217 - 27/06/2018'>\n",
      "Middle bill\n",
      "None <re.Match object; span=(7779, 7802), match='1145536647 - 25/08/2018'>\n",
      "Middle bill\n",
      "Add zero if there is no consumption\n",
      "None <re.Match object; span=(8446, 8469), match='1153350409 - 29/10/2018'>\n",
      "Middle bill\n",
      "None <re.Match object; span=(8385, 8408), match='1159946909 - 20/12/2018'>\n",
      "Middle bill\n",
      "None <re.Match object; span=(8449, 8472), match='1167312753 - 22/02/2019'>\n",
      "Middle bill\n",
      "None <re.Match object; span=(8361, 8384), match='1173908575 - 18/04/2019'>\n",
      "Middle bill\n",
      "None <re.Match object; span=(8465, 8488), match='1181276966 - 26/06/2019'>\n",
      "Middle bill\n",
      "None <re.Match object; span=(8552, 8575), match='1187946522 - 22/08/2019'>\n",
      "Middle bill\n",
      "None <re.Match object; span=(8925, 8948), match='1195255091 - 25/10/2019'>\n",
      "Middle bill\n",
      "None <re.Match object; span=(8645, 8668), match='1201645555 - 20/12/2019'>\n",
      "Middle bill\n",
      "None <re.Match object; span=(8964, 8987), match='1208708165 - 26/02/2020'>\n",
      "Middle bill\n",
      "None <re.Match object; span=(8337, 8360), match='1214935554 - 24/04/2020'>\n",
      "Middle bill\n",
      "None <re.Match object; span=(8106, 8129), match='1221898285 - 29/06/2020'>\n",
      "Middle bill\n",
      "None <re.Match object; span=(8022, 8045), match='1228941623 - 24/08/2020'>\n",
      "Middle bill\n",
      "None <re.Match object; span=(8620, 8643), match='1235685230 - 26/10/2020'>\n",
      "Middle bill\n",
      "None <re.Match object; span=(8735, 8758), match='1241899844 - 23/12/2020'>\n",
      "Add zero if the bill is negative\n",
      "None <re.Match object; span=(8732, 8755), match='1245234608 - 27/01/2021'>\n",
      "None <re.Match object; span=(9385, 9408), match='1248567010 - 25/02/2021'>\n",
      "None <re.Match object; span=(8984, 9007), match='1251562029 - 26/03/2021'>\n",
      "None <re.Match object; span=(8892, 8915), match='1254713580 - 23/04/2021'>\n",
      "None <re.Match object; span=(8895, 8918), match='1257929181 - 26/05/2021'>\n",
      "None <re.Match object; span=(9109, 9132), match='1261138280 - 25/06/2021'>\n",
      "None <re.Match object; span=(8980, 9003), match='1264230067 - 26/07/2021'>\n",
      "None <re.Match object; span=(8964, 8987), match='1267409206 - 25/08/2021'>\n",
      "None <re.Match object; span=(8788, 8811), match='1270502982 - 24/09/2021'>\n",
      "None <re.Match object; span=(9066, 9089), match='1273700757 - 26/10/2021'>\n",
      "None <re.Match object; span=(8874, 8897), match='1276737708 - 25/11/2021'>\n",
      "<re.Match object; span=(1320, 1338), match='Έκδοσης\\n27/12/2021'> <re.Match object; span=(3924, 3947), match='1279792320 - 27/12/2021'>\n",
      "Title: Κατανάλωσης\n",
      "Start Date: 2021-11-25 00:00:00\n",
      "End Date: 2021-12-24 00:00:00\n",
      "<re.Match object; span=(1317, 1335), match='Έκδοσης\\n26/01/2022'> <re.Match object; span=(3918, 3941), match='1282856804 - 26/01/2022'>\n",
      "Title: Κατανάλωσης\n",
      "Start Date: 2021-12-25 00:00:00\n",
      "End Date: 2022-01-25 00:00:00\n",
      "<re.Match object; span=(1349, 1367), match='Έκδοσης\\n28/02/2022'> <re.Match object; span=(4276, 4299), match='1286331240 - 28/02/2022'>\n",
      "Title: Κατανάλωσης\n",
      "Start Date: 2021-10-22 00:00:00\n",
      "End Date: 2022-02-23 00:00:00\n",
      "<re.Match object; span=(1323, 1341), match='Έκδοσης\\n24/03/2022'> <re.Match object; span=(4194, 4217), match='1289079431 - 24/03/2022'>\n",
      "Title: Κατανάλωσης\n",
      "Start Date: 2022-02-24 00:00:00\n",
      "End Date: 2022-03-23 00:00:00\n",
      "<re.Match object; span=(1322, 1340), match='Έκδοσης\\n28/04/2022'> <re.Match object; span=(3900, 3923), match='1292205520 - 28/04/2022'>\n",
      "Title: Κατανάλωσης\n",
      "Start Date: 2022-03-24 00:00:00\n",
      "End Date: 2022-04-21 00:00:00\n",
      "<re.Match object; span=(1323, 1341), match='Έκδοσης\\n25/05/2022'> <re.Match object; span=(3902, 3925), match='1295323496 - 25/05/2022'>\n",
      "Title: Κατανάλωσης\n",
      "Start Date: 2022-04-22 00:00:00\n",
      "End Date: 2022-05-24 00:00:00\n",
      "<re.Match object; span=(1350, 1368), match='Έκδοσης\\n28/06/2022'> <re.Match object; span=(3956, 3979), match='1298584758 - 28/06/2022'>\n",
      "Title: Κατανάλωσης\n",
      "Start Date: 2022-02-24 00:00:00\n",
      "End Date: 2022-06-24 00:00:00\n",
      "<re.Match object; span=(1322, 1340), match='Έκδοσης\\n25/07/2022'> <re.Match object; span=(4192, 4215), match='1301592468 - 25/07/2022'>\n",
      "Title: Κατανάλωσης\n",
      "Start Date: 2022-06-25 00:00:00\n",
      "End Date: 2022-07-22 00:00:00\n",
      "<re.Match object; span=(1326, 1344), match='Έκδοσης\\n25/08/2022'> <re.Match object; span=(3908, 3931), match='1304604755 - 25/08/2022'>\n",
      "Title: Κατανάλωσης\n",
      "Start Date: 2022-07-23 00:00:00\n",
      "End Date: 2022-08-24 00:00:00\n",
      "<re.Match object; span=(1318, 1336), match='Έκδοσης\\n26/09/2022'> <re.Match object; span=(3892, 3915), match='1307702776 - 26/09/2022'>\n",
      "Title: Κατανάλωσης\n",
      "Start Date: 2022-08-25 00:00:00\n",
      "End Date: 2022-09-23 00:00:00\n",
      "<re.Match object; span=(1351, 1369), match='Έκδοσης\\n26/10/2022'> <re.Match object; span=(3958, 3981), match='1310962402 - 26/10/2022'>\n",
      "Title: Κατανάλωσης\n",
      "Start Date: 2022-06-25 00:00:00\n",
      "End Date: 2022-10-24 00:00:00\n",
      "<re.Match object; span=(1316, 1334), match='Έκδοσης\\n24/03/2023'> <re.Match object; span=(4270, 4293), match='1326321308 - 24/03/2023'>\n",
      "Title: Κατανάλωσης\n",
      "Start Date: 2023-02-23 00:00:00\n",
      "End Date: 2023-03-23 00:00:00\n"
     ]
    }
   ],
   "source": [
    "#Extract the info that we want\n",
    "#Katanalosi, euro and date\n",
    "monthly_pay=[]\n",
    "consumption=[]\n",
    "begin_consumption=[]\n",
    "end_consumption=[]\n",
    "date_bill=[]\n",
    "dates=[]\n",
    "\n",
    "#Iterate over the extracted PDF text.\n",
    "for f in pdf_text:\n",
    "    #First, find what do we pay each month.\n",
    "    find_amount(f,monthly_pay)\n",
    "    #Next, find the date of consumption.\n",
    "    find_date(f,begin_consumption,end_consumption,date_bill,dates)\n",
    "    #Finally, find the consumption of kWh.\n",
    "    find_consumption(f,consumption)\n"
   ]
  },
  {
   "cell_type": "code",
   "execution_count": 14,
   "metadata": {},
   "outputs": [
    {
     "name": "stdout",
     "output_type": "stream",
     "text": [
      "False\n",
      "2800.0\n"
     ]
    }
   ],
   "source": [
    "#fix delimiter in new bills\n",
    "\n",
    "number = consumption[-1]  # Float value with a point as a thousand separator\n",
    "tst=str(number).split(\".\")\n",
    "print(tst[1]>tst[0])\n",
    "number = str(number).replace(\".\", \"\")  # Remove the point\n",
    "number = float(number)  # Convert the result back to float\n",
    "print(number)"
   ]
  },
  {
   "cell_type": "code",
   "execution_count": 33,
   "metadata": {},
   "outputs": [],
   "source": [
    "#fix point delimiter considered as thousand in new bills\n",
    "for month in consumption:\n",
    "    try:\n",
    "        #Check if consumption has a point delimiter that denotes thousand instead of decimal\n",
    "        check=str(month).split(\".\")\n",
    "        if check[1]>check[0]: #It is going to have at least 3 values after the point that denotes thousands\n",
    "            number = str(month).replace(\".\", \"\")  # Remove the point\n",
    "            consumption[consumption.index(month)] = float(number)  # Convert the result back to float\n",
    "    except:\n",
    "        pass"
   ]
  },
  {
   "cell_type": "code",
   "execution_count": 34,
   "metadata": {},
   "outputs": [],
   "source": [
    "# Calling DataFrame constructor after zipping\n",
    "# both lists, with columns specified\n",
    "df = pd.DataFrame(list(zip(date_bill,begin_consumption, end_consumption,consumption,monthly_pay,pdf_files)),\n",
    "               columns =['Date_bill','Start', 'End','Consumption','Bill','Pdf_file'])\n",
    "# forming dataframe\n",
    "data = pd.DataFrame(df) \n",
    "\n",
    "#\n",
    "# storing into the excel file\n",
    "data.to_excel(\"output.xlsx\")"
   ]
  },
  {
   "cell_type": "code",
   "execution_count": 17,
   "metadata": {},
   "outputs": [
    {
     "data": {
      "text/plain": [
       "\"ΑΝΤΙΓΡΑΦΟ\\nΔΗΜΟΣΙΑ ΕΠΙΧΕΙΡΗΣΗ ΗΛΕΚΤΡΙΣΜΟΥ Α.Ε.\\nΧαλκοκονδύλη 30,104 32 Αθήνα, e-mail: info@dei.com.gr\\nΑ.Φ.Μ. 090000045, Δ.Ο.Υ. ΦΑΕ ΑΘΗΝΩΝ\\nwww.dei.gr\\nΚωδικός Ηλεκτρονικής Πληρωμής\\nΛήξη Προθεσμίας Πληρωμής\\nΑριθμός Παροχής\\nΕπόμενη Καταμέτρηση:\\nΔιεύθυνση Ακινήτου\\nΚαταμέτρηση:\\nΠληροφορίες:\\n Βλάβες:\\nΕξυπηρέτηση Πελατών ΔΕΗ\\nΕξυπηρέτηση ΔΕΔΔΗΕ\\nΜάθετε περισσότερα στο www.dei.gr\\nΕίδος Λογαριασμού\\nΑρ. Παραστατικού\\nΠερίοδος Κατανάλωσης\\nΗμέρες\\nΚατανάλωση Ηλεκτρικής Ενέργειας\\nΗμερομηνία Έκδοσης\\nΑ/Α Λογαριασμού\\nΑΦΜ/ΑΔΤ\\nΕγγύηση\\nΛογαριασμός Συμβολαίου\\nΤιμολόγιο\\nΣτοιχεία Πελάτη\\nΚωδικός Εταίρου\\nΠιο απλός,\\nπιο φιλικός,\\nπιο κατανοητός\\nλογαριασμός!\\nΟ λογαριασμός  σας  συνοπτικά\\nΑΔΜΗΕ- ΔΕΔΔΗΕ\\nΥΚΩ\\nΕΤΜΕΑΡ\\nΛοιπές Χρεώσεις\\nΈναντι Κατανάλωσης\\nΔιάφορα\\nΠροηγούμενο Ανεξόφλητο Ποσό\\nΣΥΝΟΛΙΚΟ  ΠΟΣΟ  ΠΛΗΡΩΜΗΣ\\n(Αγνοήστε το εάν έχει πληρωθεί)\\nΑξία σε €\\nΔΕΗ\\nΝησιά / Κοινωνικό Τιμολόγιο / Πολύτεκνοι κ.λπ.\\nΑνανεώσιμες Πηγές Ενέργειας\\nΕΦΚ / Ειδικό Τέλος 5        κ.λπ.\\nΧρεώσεις  ΔΗΜΟΥ\\nΦΠΑ\\nΕΡΤ\\n���������\\n     1110723870010\\n00012631\\nΚΑΤΑΣΤΗΜΑ ΛΑΡΙΣΑΣ\\nΚΑΡΔΙΤΣΑΣ 99 & ΑΜΟΡΓΟΥ 413 35\\nΕΝΑΝΤΙ\\n11500\\nΤΣΙΜΠΟΥΚΗΣ ΑΘΑΝΑΣΙΟΣ\\n25ΗΣ ΜΑΡΤΙΟΥ 25\\n412 21 ΛΑΡΙΣΑ\\n   359\\n71,31 €\\n018057610\\n25ΗΣ ΜΑΡΤΙΟΥ 25\\n412 21 ΛΑΡΙΣΑ\\n1104756372\\n21/04/2017\\n20/02/2017 - 19/04/2017\\n  59\\n4020 18 58 113000\\n4 40611581-01 1\\n \\n    -18,52\\n23/06/2017\\n17/05/2017\\n111 072387\\n440611581014\\n2410 622995\\n2410 623002\\n    *114,00\\n         75,42\\n          0,39\\n7,39\\n300005250337\\n647500913507\\n1087106893\\n111-2017\\nΓια  οποιοδήποτε  θέμα  σχετικά  με  τον  λογαριασμό\\nσας καλέστε στο 11 770.\\nΕίναι ΑΠΛΟ!  Κερδίστε χρόνο πληρώνοντας τον λογαριασμό σας αυτόματα μέσω πάγιας τραπεζικής εντολής\\nστην ημερομηνία λήξης του.\\n43,50\\n5,82\\n11 770\\n \\nΈκπτωση συνέπειας 15%\\n18,52 €\\nΣας ενημερώνουμε για τη δυνατότητα ένταξης των οικιακών\\nπελατών στο Μητρώο των Ευάλωτων Πελατών (κατόπιν\\nελέγχου των προϋποθέσεων και έγκρισης από την Πολιτεία)\\nμε μια απλή αίτηση. Για πληροφορίες σχετικά με τα μέτρα\\nπροστασίας που ισχύουν για τους Ευάλωτους και κυρίως για\\nτα άτομα που έχουν ανάγκη μηχανικής υποστήριξης ή την\\nυποβολή αίτησης καλέστε στο 11770.\\n440611581014\\nΓ1Ν Οικιακό Τιμολόγιο\\nΑΝΤΙΓΡΑΦΟ\\nΔΗΜΟΣΙΑ ΕΠΙΧΕΙΡΗΣΗ ΗΛΕΚΤΡΙΣΜΟΥ Α.Ε.\\nΧαλκοκονδύλη 30,104 32 Αθήνα, e-mail: info@dei.com.gr\\nΑ.Φ.Μ. 090000045, Δ.Ο.Υ. ΦΑΕ ΑΘΗΝΩΝ\\nwww.dei.gr\\nΚωδικός Ηλεκτρονικής Πληρωμής\\nΛήξη Προθεσμίας Πληρωμής\\nΑριθμός Παροχής\\nΕπόμενη Καταμέτρηση:\\nΔιεύθυνση Ακινήτου\\nΚαταμέτρηση:\\nΠληροφορίες:\\n Βλάβες:\\nΕξυπηρέτηση Πελατών ΔΕΗ\\nΕξυπηρέτηση ΔΕΔΔΗΕ\\nΜάθετε περισσότερα στο www.dei.gr\\nΕίδος Λογαριασμού\\nΑρ. Παραστατικού\\nΠερίοδος Κατανάλωσης\\nΗμέρες\\nΚατανάλωση Ηλεκτρικής Ενέργειας\\nΗμερομηνία Έκδοσης\\nΑ/Α Λογαριασμού\\nΑΦΜ/ΑΔΤ\\nΕγγύηση\\nΛογαριασμός Συμβολαίου\\nΤιμολόγιο\\nΣτοιχεία Πελάτη\\nΚωδικός Εταίρου\\nΠιο απλός,\\nπιο φιλικός,\\nπιο κατανοητός\\nλογαριασμός!\\nΟ λογαριασμός  σας  συνοπτικά\\nΑΔΜΗΕ- ΔΕΔΔΗΕ\\nΥΚΩ\\nΕΤΜΕΑΡ\\nΛοιπές Χρεώσεις\\nΈναντι Κατανάλωσης\\nΔιάφορα\\nΠροηγούμενο Ανεξόφλητο Ποσό\\nΣΥΝΟΛΙΚΟ  ΠΟΣΟ  ΠΛΗΡΩΜΗΣ\\n(Αγνοήστε το εάν έχει πληρωθεί)\\nΑξία σε €\\nΔΕΗ\\nΝησιά / Κοινωνικό Τιμολόγιο / Πολύτεκνοι κ.λπ.\\nΑνανεώσιμες Πηγές Ενέργειας\\nΕΦΚ / Ειδικό Τέλος 5        κ.λπ.\\nΧρεώσεις  ΔΗΜΟΥ\\nΦΠΑ\\nΕΡΤ\\n���������\\n     1110723870010\\n00012631\\nΚΑΤΑΣΤΗΜΑ ΛΑΡΙΣΑΣ\\nΚΑΡΔΙΤΣΑΣ 99 & ΑΜΟΡΓΟΥ 413 35\\nΕΝΑΝΤΙ\\n11500\\nΤΣΙΜΠΟΥΚΗΣ ΑΘΑΝΑΣΙΟΣ\\n25ΗΣ ΜΑΡΤΙΟΥ 25\\n412 21 ΛΑΡΙΣΑ\\n   359\\n71,31 €\\n018057610\\n25ΗΣ ΜΑΡΤΙΟΥ 25\\n412 21 ΛΑΡΙΣΑ\\n1104756372\\n21/04/2017\\n20/02/2017 - 19/04/2017\\n  59\\n4020 18 58 113000\\n4 40611581-01 1\\n \\n    -18,52\\n23/06/2017\\n17/05/2017\\n111 072387\\n440611581014\\n2410 622995\\n2410 623002\\n    *114,00\\n         75,42\\n          0,39\\n7,39\\n300005250337\\n647500913507\\n1087106893\\n111-2017\\nΓια  οποιοδήποτε  θέμα  σχετικά  με  τον  λογαριασμό\\nσας καλέστε στο 11 770.\\nΕίναι ΑΠΛΟ!  Κερδίστε χρόνο πληρώνοντας τον λογαριασμό σας αυτόματα μέσω πάγιας τραπεζικής εντολής\\nστην ημερομηνία λήξης του.\\n43,50\\n5,82\\n11 770\\n \\nΈκπτωση συνέπειας 15%\\n18,52 €\\nΣας ενημερώνουμε για τη δυνατότητα ένταξης των οικιακών\\nπελατών στο Μητρώο των Ευάλωτων Πελατών (κατόπιν\\nελέγχου των προϋποθέσεων και έγκρισης από την Πολιτεία)\\nμε μια απλή αίτηση. Για πληροφορίες σχετικά με τα μέτρα\\nπροστασίας που ισχύουν για τους Ευάλωτους και κυρίως για\\nτα άτομα που έχουν ανάγκη μηχανικής υποστήριξης ή την\\nυποβολή αίτησης καλέστε στο 11770.\\n440611581014\\nΓ1Ν Οικιακό Τιμολόγιο\\nΑρμόδιο Κατάστημα\\nΑριθμός Παροχής\\nΣτοιχεία Πελάτη\\nΠερίοδος Κατανάλωσης\\nΛογαριασμός Συμβολαίου\\nΧρεώσεις Προμήθειας ΔΕΗ\\nΡυθμιζόμενες Χρεώσεις\\nΈναντι Κατανάλωσης\\nΔιάφορα\\nΦΠΑ\\nΔΗΜΟΣ\\nΕΡΤ\\nΠροηγούμενο Ανεξόφλητο Ποσό\\n(Αγνοήστε το εάν έχει πληρωθεί)\\nΣΥΝΟΛΙΚΟ  ΠΟΣΟ  ΠΛΗΡΩΜΗΣ:\\nΤ Α Χ Υ Π Λ Η Ρ Ω Μ Η     Α Π Ο Κ Ο Μ Μ Α  ΤAMEIOY     ΕΙΣΠΡΑΞΗ  / ΜΕΤΑΒΙΒΑΣΗ     Ο\\nΑριθμός Λογαριασμού Ταχυπληρωμής    Τέλη\\n10 12 - 4\\nΛΗΞΗ ΠΡΟΘΕΣΜΙΑΣ\\nΠ  Λ  Η  Ρ  Ω  Μ  Η  Σ\\nΠΟΣΟ ΠΛΗΡΩΜΗΣ\\nΧρονολογικό Σήμαντρο\\nΗ - Αριθμός\\nΑρ. Λογ/κής Απόδοσης\\nΜΗ ΣΗΜΕΙΩΝΕΤΕ\\nΚΑΤΩ ΑΠΟ ΑΥΤΗ\\nΤ Η    Γ Ρ Α Μ Μ Η\\nBARCODE\\nΕΛΤΑ\\nΠ  α  ρ  α  κ   α  λ  ο  ύ  μ   ε     κ  ό  ψ  τ   ε     ε  δ  ώ\\nΑξία σε €\\nΣε περίπτωση διαφωνίας ως  προς  τις χρεώσεις του λογαριασμού,\\nΣε περίπτωση εκπρόθεσμης εξόφλησης του λογαριασμού, επιβαρύνεστε με\\nΣΗΜΑΝΤΙΚΗ ΕΝΗΜΕΡΩΣΗ\\nΣε περίπτωση διακοπής ρεύματος, για την επανασύνδεση επιβαρύνεστε με\\nΕφόσον υπάρχουν ληξιπρόθεσμες οφειλές, εξουσιοδοτημένοι συνεργάτες\\nΤΡΟΠΟΙ ΕΞΟΦΛΗΣΗΣ ΛΟΓΑΡΙΑΣΜΩΝ\\nΧΡΗΣΙΜΕΣ ΠΛΗΡΟΦΟΡΙΕΣ\\n    Να διακοπεί η ηλεκτροδότησή σας μετά από σχετική ειδοποίηση\\n    Να γίνει καταγγελία της σύμβασης προμήθειας ηλεκτρικής ενέργειας\\nτόκους υπερημερίας και ενδέχεται:\\nέξοδα επανασύνδεσης & εφόσον απαιτείται, αναπροσαρμόζεται η εγγύηση.\\nδύναται να επικοινωνήσουν μαζί σας με σκοπό τη σχετική ενημέρωσή σας\\n(Ν.3758/09 & Κώδικας Προμήθειας σε Πελάτες ΦΕΚ 832/τΒ/9.4.13).\\n    Στα ταμεία της ΔΕΗ, (με μετρητά ή χρήση κάρτας), χωρίς επιβάρυνση\\nΗλεκτρονικά με χρήση κάρτας στο www.dei.gr, χωρίς επιβάρυνση\\nΣτα ΕΛΤΑ (καταστήματα & αγροτικούς διανομείς)\\nΣτις συνεργαζόμενες τράπεζες με πάγια εντολή, e-banking,\\n    ταμεία των καταστημάτων τους (κατάλογος τραπεζών στο www.dei.gr)\\n    Σε συνεργαζόμενα καταστήματα, Super Market και εταιρίες είσπραξης\\nΟι λογαριασμοί μετά τη λήξη τους μπορούν να εξοφλούνται στα ταμεία της\\nphone-banking, ATM, Μηχανήματα Αυτόματων Συναλλάγών και στα\\n ΔΕΗ, μέσω ΑΤΜ/e-banking/phone banking, των συνεργαζόμενων τραπεζών\\n και στα ΕΛΤΑ, με δική σας ευθύνη.\\n11770, στο www.dei.gr ή  απευθυνθείτε σε οποιοδήποτε κατάστημα ΔΕΗ.\\nΓια οποιαδήποτε πληροφορία, αίτημα ή παράπονο επικοινωνήστε στο\\nαντιρρήσεις υποβάλλονται εγγράφως, πριν τη λήξη του επόμενου\\nλογαριασμού από αυτόν που αμφισβητείται.\\nΑνεξάρτητη Αρχή στην οποία μπορείτε να απευθυνθείτε για εξωδικαστική\\nεπίλυση της διαφοράς σας, είναι ο Συνήγορος του Καταναλωτή\\n(Λ. Αλεξάνδρας 144, 114 71 Αθήνα, τηλ: 210 6460862, 210 6460814).\\nΟ έναντι λογαριασμός εκτιμάται με βάση τα ιστορικά στοιχεία\\nτου πελάτη, όπως καταναλώσεις αντίστοιχης χρονικής περιόδου\\nπροηγούμενου έτους.\\nΕνδείξεις Μετρητή\\nΑριθμός\\nΜετρητή\\nΤύπος\\nΈνδειξης\\nΚαταμέτρηση\\nΤελευταία Προηγούμενη\\nΔιαφορά\\nΠροσθ.\\nKwh\\nΣύνολο\\nΚατανάλωσης\\nΣυμφωνημένη\\nΙσχύς Παροχής (kVA)\\nΣυντ.\\nΜετ/σμού\\nΣυνφ.\\nΧρεωστέα\\nΖήτηση (kW)\\nΣυντ.\\nΧρησ/σης\\nΈκπτωση 15%\\n-18,52\\n ΛΑΡΙΣΑΙΩΝ\\n36,00 x\\n59/365  \\n108x1250,00x0,60x0,00030x59/365 =\\n    *114,00\\n5,82\\n08113170\\n11\\n74292\\n08113170\\n12\\n19821\\n25\\n1\\n1,0000\\nΔΤ :\\nΔΦ:\\nτμ      χ      €/τμ     χ   συντ.ημερών\\nτμ     χ   τιμή ζώνης χ παλαιότητα χ  συντ.ΤΑΠ  χ  συντ.ημερών\\nΤΑΠ:\\n43,50\\nετήσια χρέωση  χ   συντ.ημερών   -  ΕΝΑΝΤΙ ΕΡΤ\\n=\\n38,17\\n144 x 1,64 x59/365\\nΦΠΑ\\n56,90 x\\n13%\\n=\\n7,39\\nΣτρογγ/ση Πληρ.Ποσού      \\n-0,06\\nΠοσό Στρογγ.Προηγ.Λογ.     \\n0,45\\n108 x 0,08 x59/365\\n=\\n1,40\\n   359\\nΛΑΡΙΣΑΣ\\n4 40611581-01 1\\n4020 18 58 113000\\n20/02/2017 - 19/04/2017\\n17/05/2017\\n    *114,00€\\n00012631\\n>4406115810126050<\\n    114009>\\n10124<  25>\\nA 4\\n���������\\n     1110723870010\\n]4406115810126050[114009]10124[25]\\n������������������������������\\n300005250337\\nΤΣΙΜΠΟΥΚΗΣ ΑΘΑΝΑΣΙΟΣ\\n25ΗΣ ΜΑΡΤΙΟΥ 25\\n412 21 ΛΑΡΙΣΑ\\n111-2017\\n3,93\\nΣε συνέχεια του υπ' αριθμού A/A Λογαριασμού  1087106893 - 21/04/2017   με αριθμό παροχής    4 40611581-01 1\\n    -18,52\\n7,39\\n \\n         75,42\\n5,82\\n    114,00   9\\n          0,39\\nΈναντι Αξίας Ρεύματος\\n75,42\\n4  40611581   01      0      2605\\n25/07/2017\\n����������������\\nΑρμόδιο Κατάστημα\\nΑριθμός Παροχής\\nΣτοιχεία Πελάτη\\nΠερίοδος Κατανάλωσης\\nΛογαριασμός Συμβολαίου\\nΧρεώσεις Προμήθειας ΔΕΗ\\nΡυθμιζόμενες Χρεώσεις\\nΈναντι Κατανάλωσης\\nΔιάφορα\\nΦΠΑ\\nΔΗΜΟΣ\\nΕΡΤ\\nΠροηγούμενο Ανεξόφλητο Ποσό\\n(Αγνοήστε το εάν έχει πληρωθεί)\\nΣΥΝΟΛΙΚΟ  ΠΟΣΟ  ΠΛΗΡΩΜΗΣ:\\nΤ Α Χ Υ Π Λ Η Ρ Ω Μ Η     Α Π Ο Κ Ο Μ Μ Α  ΤAMEIOY     ΕΙΣΠΡΑΞΗ  / ΜΕΤΑΒΙΒΑΣΗ     Ο\\nΑριθμός Λογαριασμού Ταχυπληρωμής    Τέλη\\n10 12 - 4\\nΛΗΞΗ ΠΡΟΘΕΣΜΙΑΣ\\nΠ  Λ  Η  Ρ  Ω  Μ  Η  Σ\\nΠΟΣΟ ΠΛΗΡΩΜΗΣ\\nΧρονολογικό Σήμαντρο\\nΗ - Αριθμός\\nΑρ. Λογ/κής Απόδοσης\\nΜΗ ΣΗΜΕΙΩΝΕΤΕ\\nΚΑΤΩ ΑΠΟ ΑΥΤΗ\\nΤ Η    Γ Ρ Α Μ Μ Η\\nBARCODE\\nΕΛΤΑ\\nΠ  α  ρ  α  κ   α  λ  ο  ύ  μ   ε     κ  ό  ψ  τ   ε     ε  δ  ώ\\nΑξία σε €\\nΣε περίπτωση διαφωνίας ως  προς  τις χρεώσεις του λογαριασμού,\\nΣε περίπτωση εκπρόθεσμης εξόφλησης του λογαριασμού, επιβαρύνεστε με\\nΣΗΜΑΝΤΙΚΗ ΕΝΗΜΕΡΩΣΗ\\nΣε περίπτωση διακοπής ρεύματος, για την επανασύνδεση επιβαρύνεστε με\\nΕφόσον υπάρχουν ληξιπρόθεσμες οφειλές, εξουσιοδοτημένοι συνεργάτες\\nΤΡΟΠΟΙ ΕΞΟΦΛΗΣΗΣ ΛΟΓΑΡΙΑΣΜΩΝ\\nΧΡΗΣΙΜΕΣ ΠΛΗΡΟΦΟΡΙΕΣ\\n    Να διακοπεί η ηλεκτροδότησή σας μετά από σχετική ειδοποίηση\\n    Να γίνει καταγγελία της σύμβασης προμήθειας ηλεκτρικής ενέργειας\\nτόκους υπερημερίας και ενδέχεται:\\nέξοδα επανασύνδεσης & εφόσον απαιτείται, αναπροσαρμόζεται η εγγύηση.\\nδύναται να επικοινωνήσουν μαζί σας με σκοπό τη σχετική ενημέρωσή σας\\n(Ν.3758/09 & Κώδικας Προμήθειας σε Πελάτες ΦΕΚ 832/τΒ/9.4.13).\\n    Στα ταμεία της ΔΕΗ, (με μετρητά ή χρήση κάρτας), χωρίς επιβάρυνση\\nΗλεκτρονικά με χρήση κάρτας στο www.dei.gr, χωρίς επιβάρυνση\\nΣτα ΕΛΤΑ (καταστήματα & αγροτικούς διανομείς)\\nΣτις συνεργαζόμενες τράπεζες με πάγια εντολή, e-banking,\\n    ταμεία των καταστημάτων τους (κατάλογος τραπεζών στο www.dei.gr)\\n    Σε συνεργαζόμενα καταστήματα, Super Market και εταιρίες είσπραξης\\nΟι λογαριασμοί μετά τη λήξη τους μπορούν να εξοφλούνται στα ταμεία της\\nphone-banking, ATM, Μηχανήματα Αυτόματων Συναλλάγών και στα\\n ΔΕΗ, μέσω ΑΤΜ/e-banking/phone banking, των συνεργαζόμενων τραπεζών\\n και στα ΕΛΤΑ, με δική σας ευθύνη.\\n11770, στο www.dei.gr ή  απευθυνθείτε σε οποιοδήποτε κατάστημα ΔΕΗ.\\nΓια οποιαδήποτε πληροφορία, αίτημα ή παράπονο επικοινωνήστε στο\\nαντιρρήσεις υποβάλλονται εγγράφως, πριν τη λήξη του επόμενου\\nλογαριασμού από αυτόν που αμφισβητείται.\\nΑνεξάρτητη Αρχή στην οποία μπορείτε να απευθυνθείτε για εξωδικαστική\\nεπίλυση της διαφοράς σας, είναι ο Συνήγορος του Καταναλωτή\\n(Λ. Αλεξάνδρας 144, 114 71 Αθήνα, τηλ: 210 6460862, 210 6460814).\\nΟ έναντι λογαριασμός εκτιμάται με βάση τα ιστορικά στοιχεία\\nτου πελάτη, όπως καταναλώσεις αντίστοιχης χρονικής περιόδου\\nπροηγούμενου έτους.\\nΕνδείξεις Μετρητή\\nΑριθμός\\nΜετρητή\\nΤύπος\\nΈνδειξης\\nΚαταμέτρηση\\nΤελευταία Προηγούμενη\\nΔιαφορά\\nΠροσθ.\\nKwh\\nΣύνολο\\nΚατανάλωσης\\nΣυμφωνημένη\\nΙσχύς Παροχής (kVA)\\nΣυντ.\\nΜετ/σμού\\nΣυνφ.\\nΧρεωστέα\\nΖήτηση (kW)\\nΣυντ.\\nΧρησ/σης\\nΈκπτωση 15%\\n-18,52\\n ΛΑΡΙΣΑΙΩΝ\\n36,00 x\\n59/365  \\n108x1250,00x0,60x0,00030x59/365 =\\n    *114,00\\n5,82\\n08113170\\n11\\n74292\\n08113170\\n12\\n19821\\n25\\n1\\n1,0000\\nΔΤ :\\nΔΦ:\\nτμ      χ      €/τμ     χ   συντ.ημερών\\nτμ     χ   τιμή ζώνης χ παλαιότητα χ  συντ.ΤΑΠ  χ  συντ.ημερών\\nΤΑΠ:\\n43,50\\nετήσια χρέωση  χ   συντ.ημερών   -  ΕΝΑΝΤΙ ΕΡΤ\\n=\\n38,17\\n144 x 1,64 x59/365\\nΦΠΑ\\n56,90 x\\n13%\\n=\\n7,39\\nΣτρογγ/ση Πληρ.Ποσού      \\n-0,06\\nΠοσό Στρογγ.Προηγ.Λογ.     \\n0,45\\n108 x 0,08 x59/365\\n=\\n1,40\\n   359\\nΛΑΡΙΣΑΣ\\n4 40611581-01 1\\n4020 18 58 113000\\n20/02/2017 - 19/04/2017\\n17/05/2017\\n    *114,00€\\n00012631\\n>4406115810126050<\\n    114009>\\n10124<  25>\\nA 4\\n���������\\n     1110723870010\\n]4406115810126050[114009]10124[25]\\n������������������������������\\n300005250337\\nΤΣΙΜΠΟΥΚΗΣ ΑΘΑΝΑΣΙΟΣ\\n25ΗΣ ΜΑΡΤΙΟΥ 25\\n412 21 ΛΑΡΙΣΑ\\n111-2017\\n3,93\\nΣε συνέχεια του υπ' αριθμού A/A Λογαριασμού  1087106893 - 21/04/2017   με αριθμό παροχής    4 40611581-01 1\\n    -18,52\\n7,39\\n \\n         75,42\\n5,82\\n    114,00   9\\n          0,39\\nΈναντι Αξίας Ρεύματος\\n75,42\\n4  40611581   01      0      2605\\n25/07/2017\\n����������������\\n\""
      ]
     },
     "execution_count": 17,
     "metadata": {},
     "output_type": "execute_result"
    }
   ],
   "source": [
    "pdf_text[5]"
   ]
  },
  {
   "cell_type": "code",
   "execution_count": 18,
   "metadata": {},
   "outputs": [
    {
     "data": {
      "text/plain": [
       "\"ΑΝΤΙΓΡΑΦΟ\\nΔΗΜΟΣΙΑ ΕΠΙΧΕΙΡΗΣΗ ΗΛΕΚΤΡΙΣΜΟΥ Α.Ε.\\nΧαλκοκονδύλη 30,104 32 Αθήνα, e-mail: info@dei.com.gr\\nΑ.Φ.Μ. 090000045, Δ.Ο.Υ. ΦΑΕ ΑΘΗΝΩΝ\\nwww.dei.gr\\nΚωδικός Ηλεκτρονικής Πληρωμής\\nΛήξη Προθεσμίας Πληρωμής\\nΑριθμός Παροχής\\nΕπόμενη Καταμέτρηση:\\nΔιεύθυνση Ακινήτου\\nΚαταμέτρηση:\\nΠληροφορίες:\\n Βλάβες:\\nΕξυπηρέτηση Πελατών ΔΕΗ\\nΕξυπηρέτηση ΔΕΔΔΗΕ\\nΜάθετε περισσότερα στο www.dei.gr\\nΕίδος Λογαριασμού\\nΑρ. Παραστατικού\\nΠερίοδος Κατανάλωσης\\nΗμέρες\\nΚατανάλωση Ηλεκτρικής Ενέργειας\\nΗμερομηνία Έκδοσης\\nΑ/Α Λογαριασμού\\nΑΦΜ/ΑΔΤ\\nΕγγύηση\\nΛογαριασμός Συμβολαίου\\nΤιμολόγιο\\nΣτοιχεία Πελάτη\\nΚωδικός Εταίρου\\nΠιο απλός,\\nπιο φιλικός,\\nπιο κατανοητός\\nλογαριασμός!\\nΟ λογαριασμός  σας  συνοπτικά\\nΑΔΜΗΕ- ΔΕΔΔΗΕ\\nΥΚΩ\\nΕΤΜΕΑΡ\\nΛοιπές Χρεώσεις\\nΈναντι Κατανάλωσης\\nΔιάφορα\\nΠροηγούμενο Ανεξόφλητο Ποσό\\nΣΥΝΟΛΙΚΟ  ΠΟΣΟ  ΠΛΗΡΩΜΗΣ\\n(Αγνοήστε το εάν έχει πληρωθεί)\\nΑξία σε €\\nΔΕΗ\\nΝησιά / Κοινωνικό Τιμολόγιο / Πολύτεκνοι κ.λπ.\\nΑνανεώσιμες Πηγές Ενέργειας\\nΕΦΚ / Ειδικό Τέλος 5        κ.λπ.\\nΧρεώσεις  ΔΗΜΟΥ\\nΦΠΑ\\nΕΡΤ\\n���������\\n     1110723870010\\n00012631\\nΚΑΤΑΣΤΗΜΑ ΛΑΡΙΣΑΣ\\nΚΑΡΔΙΤΣΑΣ 99 & ΑΜΟΡΓΟΥ 413 35\\nΕΝΑΝΤΙ\\n11500\\nΤΣΙΜΠΟΥΚΗΣ ΑΘΑΝΑΣΙΟΣ\\n25ΗΣ ΜΑΡΤΙΟΥ 25\\n412 21 ΛΑΡΙΣΑ\\n   359\\n71,31 €\\n018057610\\n25ΗΣ ΜΑΡΤΙΟΥ 25\\n412 21 ΛΑΡΙΣΑ\\n1104756372\\n21/04/2017\\n20/02/2017 - 19/04/2017\\n  59\\n4020 18 58 113000\\n4 40611581-01 1\\n \\n    -18,52\\n23/06/2017\\n17/05/2017\\n111 072387\\n440611581014\\n2410 622995\\n2410 623002\\n    *114,00\\n         75,42\\n          0,39\\n7,39\\n300005250337\\n647500913507\\n1087106893\\n111-2017\\nΓια  οποιοδήποτε  θέμα  σχετικά  με  τον  λογαριασμό\\nσας καλέστε στο 11 770.\\nΕίναι ΑΠΛΟ!  Κερδίστε χρόνο πληρώνοντας τον λογαριασμό σας αυτόματα μέσω πάγιας τραπεζικής εντολής\\nστην ημερομηνία λήξης του.\\n43,50\\n5,82\\n11 770\\n \\nΈκπτωση συνέπειας 15%\\n18,52 €\\nΣας ενημερώνουμε για τη δυνατότητα ένταξης των οικιακών\\nπελατών στο Μητρώο των Ευάλωτων Πελατών (κατόπιν\\nελέγχου των προϋποθέσεων και έγκρισης από την Πολιτεία)\\nμε μια απλή αίτηση. Για πληροφορίες σχετικά με τα μέτρα\\nπροστασίας που ισχύουν για τους Ευάλωτους και κυρίως για\\nτα άτομα που έχουν ανάγκη μηχανικής υποστήριξης ή την\\nυποβολή αίτησης καλέστε στο 11770.\\n440611581014\\nΓ1Ν Οικιακό Τιμολόγιο\\nΑΝΤΙΓΡΑΦΟ\\nΔΗΜΟΣΙΑ ΕΠΙΧΕΙΡΗΣΗ ΗΛΕΚΤΡΙΣΜΟΥ Α.Ε.\\nΧαλκοκονδύλη 30,104 32 Αθήνα, e-mail: info@dei.com.gr\\nΑ.Φ.Μ. 090000045, Δ.Ο.Υ. ΦΑΕ ΑΘΗΝΩΝ\\nwww.dei.gr\\nΚωδικός Ηλεκτρονικής Πληρωμής\\nΛήξη Προθεσμίας Πληρωμής\\nΑριθμός Παροχής\\nΕπόμενη Καταμέτρηση:\\nΔιεύθυνση Ακινήτου\\nΚαταμέτρηση:\\nΠληροφορίες:\\n Βλάβες:\\nΕξυπηρέτηση Πελατών ΔΕΗ\\nΕξυπηρέτηση ΔΕΔΔΗΕ\\nΜάθετε περισσότερα στο www.dei.gr\\nΕίδος Λογαριασμού\\nΑρ. Παραστατικού\\nΠερίοδος Κατανάλωσης\\nΗμέρες\\nΚατανάλωση Ηλεκτρικής Ενέργειας\\nΗμερομηνία Έκδοσης\\nΑ/Α Λογαριασμού\\nΑΦΜ/ΑΔΤ\\nΕγγύηση\\nΛογαριασμός Συμβολαίου\\nΤιμολόγιο\\nΣτοιχεία Πελάτη\\nΚωδικός Εταίρου\\nΠιο απλός,\\nπιο φιλικός,\\nπιο κατανοητός\\nλογαριασμός!\\nΟ λογαριασμός  σας  συνοπτικά\\nΑΔΜΗΕ- ΔΕΔΔΗΕ\\nΥΚΩ\\nΕΤΜΕΑΡ\\nΛοιπές Χρεώσεις\\nΈναντι Κατανάλωσης\\nΔιάφορα\\nΠροηγούμενο Ανεξόφλητο Ποσό\\nΣΥΝΟΛΙΚΟ  ΠΟΣΟ  ΠΛΗΡΩΜΗΣ\\n(Αγνοήστε το εάν έχει πληρωθεί)\\nΑξία σε €\\nΔΕΗ\\nΝησιά / Κοινωνικό Τιμολόγιο / Πολύτεκνοι κ.λπ.\\nΑνανεώσιμες Πηγές Ενέργειας\\nΕΦΚ / Ειδικό Τέλος 5        κ.λπ.\\nΧρεώσεις  ΔΗΜΟΥ\\nΦΠΑ\\nΕΡΤ\\n���������\\n     1110723870010\\n00012631\\nΚΑΤΑΣΤΗΜΑ ΛΑΡΙΣΑΣ\\nΚΑΡΔΙΤΣΑΣ 99 & ΑΜΟΡΓΟΥ 413 35\\nΕΝΑΝΤΙ\\n11500\\nΤΣΙΜΠΟΥΚΗΣ ΑΘΑΝΑΣΙΟΣ\\n25ΗΣ ΜΑΡΤΙΟΥ 25\\n412 21 ΛΑΡΙΣΑ\\n   359\\n71,31 €\\n018057610\\n25ΗΣ ΜΑΡΤΙΟΥ 25\\n412 21 ΛΑΡΙΣΑ\\n1104756372\\n21/04/2017\\n20/02/2017 - 19/04/2017\\n  59\\n4020 18 58 113000\\n4 40611581-01 1\\n \\n    -18,52\\n23/06/2017\\n17/05/2017\\n111 072387\\n440611581014\\n2410 622995\\n2410 623002\\n    *114,00\\n         75,42\\n          0,39\\n7,39\\n300005250337\\n647500913507\\n1087106893\\n111-2017\\nΓια  οποιοδήποτε  θέμα  σχετικά  με  τον  λογαριασμό\\nσας καλέστε στο 11 770.\\nΕίναι ΑΠΛΟ!  Κερδίστε χρόνο πληρώνοντας τον λογαριασμό σας αυτόματα μέσω πάγιας τραπεζικής εντολής\\nστην ημερομηνία λήξης του.\\n43,50\\n5,82\\n11 770\\n \\nΈκπτωση συνέπειας 15%\\n18,52 €\\nΣας ενημερώνουμε για τη δυνατότητα ένταξης των οικιακών\\nπελατών στο Μητρώο των Ευάλωτων Πελατών (κατόπιν\\nελέγχου των προϋποθέσεων και έγκρισης από την Πολιτεία)\\nμε μια απλή αίτηση. Για πληροφορίες σχετικά με τα μέτρα\\nπροστασίας που ισχύουν για τους Ευάλωτους και κυρίως για\\nτα άτομα που έχουν ανάγκη μηχανικής υποστήριξης ή την\\nυποβολή αίτησης καλέστε στο 11770.\\n440611581014\\nΓ1Ν Οικιακό Τιμολόγιο\\nΑρμόδιο Κατάστημα\\nΑριθμός Παροχής\\nΣτοιχεία Πελάτη\\nΠερίοδος Κατανάλωσης\\nΛογαριασμός Συμβολαίου\\nΧρεώσεις Προμήθειας ΔΕΗ\\nΡυθμιζόμενες Χρεώσεις\\nΈναντι Κατανάλωσης\\nΔιάφορα\\nΦΠΑ\\nΔΗΜΟΣ\\nΕΡΤ\\nΠροηγούμενο Ανεξόφλητο Ποσό\\n(Αγνοήστε το εάν έχει πληρωθεί)\\nΣΥΝΟΛΙΚΟ  ΠΟΣΟ  ΠΛΗΡΩΜΗΣ:\\nΤ Α Χ Υ Π Λ Η Ρ Ω Μ Η     Α Π Ο Κ Ο Μ Μ Α  ΤAMEIOY     ΕΙΣΠΡΑΞΗ  / ΜΕΤΑΒΙΒΑΣΗ     Ο\\nΑριθμός Λογαριασμού Ταχυπληρωμής    Τέλη\\n10 12 - 4\\nΛΗΞΗ ΠΡΟΘΕΣΜΙΑΣ\\nΠ  Λ  Η  Ρ  Ω  Μ  Η  Σ\\nΠΟΣΟ ΠΛΗΡΩΜΗΣ\\nΧρονολογικό Σήμαντρο\\nΗ - Αριθμός\\nΑρ. Λογ/κής Απόδοσης\\nΜΗ ΣΗΜΕΙΩΝΕΤΕ\\nΚΑΤΩ ΑΠΟ ΑΥΤΗ\\nΤ Η    Γ Ρ Α Μ Μ Η\\nBARCODE\\nΕΛΤΑ\\nΠ  α  ρ  α  κ   α  λ  ο  ύ  μ   ε     κ  ό  ψ  τ   ε     ε  δ  ώ\\nΑξία σε €\\nΣε περίπτωση διαφωνίας ως  προς  τις χρεώσεις του λογαριασμού,\\nΣε περίπτωση εκπρόθεσμης εξόφλησης του λογαριασμού, επιβαρύνεστε με\\nΣΗΜΑΝΤΙΚΗ ΕΝΗΜΕΡΩΣΗ\\nΣε περίπτωση διακοπής ρεύματος, για την επανασύνδεση επιβαρύνεστε με\\nΕφόσον υπάρχουν ληξιπρόθεσμες οφειλές, εξουσιοδοτημένοι συνεργάτες\\nΤΡΟΠΟΙ ΕΞΟΦΛΗΣΗΣ ΛΟΓΑΡΙΑΣΜΩΝ\\nΧΡΗΣΙΜΕΣ ΠΛΗΡΟΦΟΡΙΕΣ\\n    Να διακοπεί η ηλεκτροδότησή σας μετά από σχετική ειδοποίηση\\n    Να γίνει καταγγελία της σύμβασης προμήθειας ηλεκτρικής ενέργειας\\nτόκους υπερημερίας και ενδέχεται:\\nέξοδα επανασύνδεσης & εφόσον απαιτείται, αναπροσαρμόζεται η εγγύηση.\\nδύναται να επικοινωνήσουν μαζί σας με σκοπό τη σχετική ενημέρωσή σας\\n(Ν.3758/09 & Κώδικας Προμήθειας σε Πελάτες ΦΕΚ 832/τΒ/9.4.13).\\n    Στα ταμεία της ΔΕΗ, (με μετρητά ή χρήση κάρτας), χωρίς επιβάρυνση\\nΗλεκτρονικά με χρήση κάρτας στο www.dei.gr, χωρίς επιβάρυνση\\nΣτα ΕΛΤΑ (καταστήματα & αγροτικούς διανομείς)\\nΣτις συνεργαζόμενες τράπεζες με πάγια εντολή, e-banking,\\n    ταμεία των καταστημάτων τους (κατάλογος τραπεζών στο www.dei.gr)\\n    Σε συνεργαζόμενα καταστήματα, Super Market και εταιρίες είσπραξης\\nΟι λογαριασμοί μετά τη λήξη τους μπορούν να εξοφλούνται στα ταμεία της\\nphone-banking, ATM, Μηχανήματα Αυτόματων Συναλλάγών και στα\\n ΔΕΗ, μέσω ΑΤΜ/e-banking/phone banking, των συνεργαζόμενων τραπεζών\\n και στα ΕΛΤΑ, με δική σας ευθύνη.\\n11770, στο www.dei.gr ή  απευθυνθείτε σε οποιοδήποτε κατάστημα ΔΕΗ.\\nΓια οποιαδήποτε πληροφορία, αίτημα ή παράπονο επικοινωνήστε στο\\nαντιρρήσεις υποβάλλονται εγγράφως, πριν τη λήξη του επόμενου\\nλογαριασμού από αυτόν που αμφισβητείται.\\nΑνεξάρτητη Αρχή στην οποία μπορείτε να απευθυνθείτε για εξωδικαστική\\nεπίλυση της διαφοράς σας, είναι ο Συνήγορος του Καταναλωτή\\n(Λ. Αλεξάνδρας 144, 114 71 Αθήνα, τηλ: 210 6460862, 210 6460814).\\nΟ έναντι λογαριασμός εκτιμάται με βάση τα ιστορικά στοιχεία\\nτου πελάτη, όπως καταναλώσεις αντίστοιχης χρονικής περιόδου\\nπροηγούμενου έτους.\\nΕνδείξεις Μετρητή\\nΑριθμός\\nΜετρητή\\nΤύπος\\nΈνδειξης\\nΚαταμέτρηση\\nΤελευταία Προηγούμενη\\nΔιαφορά\\nΠροσθ.\\nKwh\\nΣύνολο\\nΚατανάλωσης\\nΣυμφωνημένη\\nΙσχύς Παροχής (kVA)\\nΣυντ.\\nΜετ/σμού\\nΣυνφ.\\nΧρεωστέα\\nΖήτηση (kW)\\nΣυντ.\\nΧρησ/σης\\nΈκπτωση 15%\\n-18,52\\n ΛΑΡΙΣΑΙΩΝ\\n36,00 x\\n59/365  \\n108x1250,00x0,60x0,00030x59/365 =\\n    *114,00\\n5,82\\n08113170\\n11\\n74292\\n08113170\\n12\\n19821\\n25\\n1\\n1,0000\\nΔΤ :\\nΔΦ:\\nτμ      χ      €/τμ     χ   συντ.ημερών\\nτμ     χ   τιμή ζώνης χ παλαιότητα χ  συντ.ΤΑΠ  χ  συντ.ημερών\\nΤΑΠ:\\n43,50\\nετήσια χρέωση  χ   συντ.ημερών   -  ΕΝΑΝΤΙ ΕΡΤ\\n=\\n38,17\\n144 x 1,64 x59/365\\nΦΠΑ\\n56,90 x\\n13%\\n=\\n7,39\\nΣτρογγ/ση Πληρ.Ποσού      \\n-0,06\\nΠοσό Στρογγ.Προηγ.Λογ.     \\n0,45\\n108 x 0,08 x59/365\\n=\\n1,40\\n   359\\nΛΑΡΙΣΑΣ\\n4 40611581-01 1\\n4020 18 58 113000\\n20/02/2017 - 19/04/2017\\n17/05/2017\\n    *114,00€\\n00012631\\n>4406115810126050<\\n    114009>\\n10124<  25>\\nA 4\\n���������\\n     1110723870010\\n]4406115810126050[114009]10124[25]\\n������������������������������\\n300005250337\\nΤΣΙΜΠΟΥΚΗΣ ΑΘΑΝΑΣΙΟΣ\\n25ΗΣ ΜΑΡΤΙΟΥ 25\\n412 21 ΛΑΡΙΣΑ\\n111-2017\\n3,93\\nΣε συνέχεια του υπ' αριθμού A/A Λογαριασμού  1087106893 - 21/04/2017   με αριθμό παροχής    4 40611581-01 1\\n    -18,52\\n7,39\\n \\n         75,42\\n5,82\\n    114,00   9\\n          0,39\\nΈναντι Αξίας Ρεύματος\\n75,42\\n4  40611581   01      0      2605\\n25/07/2017\\n����������������\\nΑρμόδιο Κατάστημα\\nΑριθμός Παροχής\\nΣτοιχεία Πελάτη\\nΠερίοδος Κατανάλωσης\\nΛογαριασμός Συμβολαίου\\nΧρεώσεις Προμήθειας ΔΕΗ\\nΡυθμιζόμενες Χρεώσεις\\nΈναντι Κατανάλωσης\\nΔιάφορα\\nΦΠΑ\\nΔΗΜΟΣ\\nΕΡΤ\\nΠροηγούμενο Ανεξόφλητο Ποσό\\n(Αγνοήστε το εάν έχει πληρωθεί)\\nΣΥΝΟΛΙΚΟ  ΠΟΣΟ  ΠΛΗΡΩΜΗΣ:\\nΤ Α Χ Υ Π Λ Η Ρ Ω Μ Η     Α Π Ο Κ Ο Μ Μ Α  ΤAMEIOY     ΕΙΣΠΡΑΞΗ  / ΜΕΤΑΒΙΒΑΣΗ     Ο\\nΑριθμός Λογαριασμού Ταχυπληρωμής    Τέλη\\n10 12 - 4\\nΛΗΞΗ ΠΡΟΘΕΣΜΙΑΣ\\nΠ  Λ  Η  Ρ  Ω  Μ  Η  Σ\\nΠΟΣΟ ΠΛΗΡΩΜΗΣ\\nΧρονολογικό Σήμαντρο\\nΗ - Αριθμός\\nΑρ. Λογ/κής Απόδοσης\\nΜΗ ΣΗΜΕΙΩΝΕΤΕ\\nΚΑΤΩ ΑΠΟ ΑΥΤΗ\\nΤ Η    Γ Ρ Α Μ Μ Η\\nBARCODE\\nΕΛΤΑ\\nΠ  α  ρ  α  κ   α  λ  ο  ύ  μ   ε     κ  ό  ψ  τ   ε     ε  δ  ώ\\nΑξία σε €\\nΣε περίπτωση διαφωνίας ως  προς  τις χρεώσεις του λογαριασμού,\\nΣε περίπτωση εκπρόθεσμης εξόφλησης του λογαριασμού, επιβαρύνεστε με\\nΣΗΜΑΝΤΙΚΗ ΕΝΗΜΕΡΩΣΗ\\nΣε περίπτωση διακοπής ρεύματος, για την επανασύνδεση επιβαρύνεστε με\\nΕφόσον υπάρχουν ληξιπρόθεσμες οφειλές, εξουσιοδοτημένοι συνεργάτες\\nΤΡΟΠΟΙ ΕΞΟΦΛΗΣΗΣ ΛΟΓΑΡΙΑΣΜΩΝ\\nΧΡΗΣΙΜΕΣ ΠΛΗΡΟΦΟΡΙΕΣ\\n    Να διακοπεί η ηλεκτροδότησή σας μετά από σχετική ειδοποίηση\\n    Να γίνει καταγγελία της σύμβασης προμήθειας ηλεκτρικής ενέργειας\\nτόκους υπερημερίας και ενδέχεται:\\nέξοδα επανασύνδεσης & εφόσον απαιτείται, αναπροσαρμόζεται η εγγύηση.\\nδύναται να επικοινωνήσουν μαζί σας με σκοπό τη σχετική ενημέρωσή σας\\n(Ν.3758/09 & Κώδικας Προμήθειας σε Πελάτες ΦΕΚ 832/τΒ/9.4.13).\\n    Στα ταμεία της ΔΕΗ, (με μετρητά ή χρήση κάρτας), χωρίς επιβάρυνση\\nΗλεκτρονικά με χρήση κάρτας στο www.dei.gr, χωρίς επιβάρυνση\\nΣτα ΕΛΤΑ (καταστήματα & αγροτικούς διανομείς)\\nΣτις συνεργαζόμενες τράπεζες με πάγια εντολή, e-banking,\\n    ταμεία των καταστημάτων τους (κατάλογος τραπεζών στο www.dei.gr)\\n    Σε συνεργαζόμενα καταστήματα, Super Market και εταιρίες είσπραξης\\nΟι λογαριασμοί μετά τη λήξη τους μπορούν να εξοφλούνται στα ταμεία της\\nphone-banking, ATM, Μηχανήματα Αυτόματων Συναλλάγών και στα\\n ΔΕΗ, μέσω ΑΤΜ/e-banking/phone banking, των συνεργαζόμενων τραπεζών\\n και στα ΕΛΤΑ, με δική σας ευθύνη.\\n11770, στο www.dei.gr ή  απευθυνθείτε σε οποιοδήποτε κατάστημα ΔΕΗ.\\nΓια οποιαδήποτε πληροφορία, αίτημα ή παράπονο επικοινωνήστε στο\\nαντιρρήσεις υποβάλλονται εγγράφως, πριν τη λήξη του επόμενου\\nλογαριασμού από αυτόν που αμφισβητείται.\\nΑνεξάρτητη Αρχή στην οποία μπορείτε να απευθυνθείτε για εξωδικαστική\\nεπίλυση της διαφοράς σας, είναι ο Συνήγορος του Καταναλωτή\\n(Λ. Αλεξάνδρας 144, 114 71 Αθήνα, τηλ: 210 6460862, 210 6460814).\\nΟ έναντι λογαριασμός εκτιμάται με βάση τα ιστορικά στοιχεία\\nτου πελάτη, όπως καταναλώσεις αντίστοιχης χρονικής περιόδου\\nπροηγούμενου έτους.\\nΕνδείξεις Μετρητή\\nΑριθμός\\nΜετρητή\\nΤύπος\\nΈνδειξης\\nΚαταμέτρηση\\nΤελευταία Προηγούμενη\\nΔιαφορά\\nΠροσθ.\\nKwh\\nΣύνολο\\nΚατανάλωσης\\nΣυμφωνημένη\\nΙσχύς Παροχής (kVA)\\nΣυντ.\\nΜετ/σμού\\nΣυνφ.\\nΧρεωστέα\\nΖήτηση (kW)\\nΣυντ.\\nΧρησ/σης\\nΈκπτωση 15%\\n-18,52\\n ΛΑΡΙΣΑΙΩΝ\\n36,00 x\\n59/365  \\n108x1250,00x0,60x0,00030x59/365 =\\n    *114,00\\n5,82\\n08113170\\n11\\n74292\\n08113170\\n12\\n19821\\n25\\n1\\n1,0000\\nΔΤ :\\nΔΦ:\\nτμ      χ      €/τμ     χ   συντ.ημερών\\nτμ     χ   τιμή ζώνης χ παλαιότητα χ  συντ.ΤΑΠ  χ  συντ.ημερών\\nΤΑΠ:\\n43,50\\nετήσια χρέωση  χ   συντ.ημερών   -  ΕΝΑΝΤΙ ΕΡΤ\\n=\\n38,17\\n144 x 1,64 x59/365\\nΦΠΑ\\n56,90 x\\n13%\\n=\\n7,39\\nΣτρογγ/ση Πληρ.Ποσού      \\n-0,06\\nΠοσό Στρογγ.Προηγ.Λογ.     \\n0,45\\n108 x 0,08 x59/365\\n=\\n1,40\\n   359\\nΛΑΡΙΣΑΣ\\n4 40611581-01 1\\n4020 18 58 113000\\n20/02/2017 - 19/04/2017\\n17/05/2017\\n    *114,00€\\n00012631\\n>4406115810126050<\\n    114009>\\n10124<  25>\\nA 4\\n���������\\n     1110723870010\\n]4406115810126050[114009]10124[25]\\n������������������������������\\n300005250337\\nΤΣΙΜΠΟΥΚΗΣ ΑΘΑΝΑΣΙΟΣ\\n25ΗΣ ΜΑΡΤΙΟΥ 25\\n412 21 ΛΑΡΙΣΑ\\n111-2017\\n3,93\\nΣε συνέχεια του υπ' αριθμού A/A Λογαριασμού  1087106893 - 21/04/2017   με αριθμό παροχής    4 40611581-01 1\\n    -18,52\\n7,39\\n \\n         75,42\\n5,82\\n    114,00   9\\n          0,39\\nΈναντι Αξίας Ρεύματος\\n75,42\\n4  40611581   01      0      2605\\n25/07/2017\\n����������������\\n\""
      ]
     },
     "execution_count": 18,
     "metadata": {},
     "output_type": "execute_result"
    }
   ],
   "source": [
    "pdf_text[5]"
   ]
  },
  {
   "cell_type": "code",
   "execution_count": 19,
   "metadata": {},
   "outputs": [],
   "source": [
    "#df.groupby(pd.to_datetime(df['Start of consumption']).dt.year).sum()\n",
    "\n",
    "df['quarter'] = pd.to_datetime(df['End']).dt.quarter\n",
    "df['year'] = pd.to_datetime(df['End']).dt.year\n",
    "#df.quarter=df.quarter.astype(str)\n",
    "#df.groupby(df['quarter']).sum()\n",
    "#type(df['quarter'])"
   ]
  },
  {
   "cell_type": "code",
   "execution_count": 20,
   "metadata": {},
   "outputs": [],
   "source": [
    "#test=df.groupby(df['quarter']).sum()\n",
    "#test.dtypes"
   ]
  },
  {
   "cell_type": "code",
   "execution_count": 21,
   "metadata": {},
   "outputs": [
    {
     "data": {
      "text/plain": [
       "<matplotlib.legend.Legend at 0x19d8168d520>"
      ]
     },
     "execution_count": 21,
     "metadata": {},
     "output_type": "execute_result"
    },
    {
     "data": {
      "image/png": "[encoded data removed]",
      "text/plain": [
       "<Figure size 720x432 with 1 Axes>"
      ]
     },
     "metadata": {
      "needs_background": "light"
     },
     "output_type": "display_data"
    }
   ],
   "source": [
    "import pandas as pd\n",
    "import matplotlib.pyplot as plt\n",
    "import numpy as np\n",
    "\n",
    "# group data by year and quarter\n",
    "grouped = df.groupby(['year','quarter']).sum()\n",
    "\n",
    "# reshape data into a pivot table\n",
    "pivot = grouped.pivot_table(index='quarter', columns='year', values='Bill', aggfunc=np.sum)\n",
    "\n",
    "# create the bar chart\n",
    "ax = pivot.plot(kind='bar', figsize=(10,6))\n",
    "\n",
    "# set the x-axis label and tick labels\n",
    "ax.set_xlabel('Quarter')\n",
    "ax.set_xticklabels(pivot.index, rotation=0)\n",
    "\n",
    "# set the y-axis label\n",
    "ax.set_ylabel('Bill [Euro]')\n",
    "\n",
    "# set the legend\n",
    "ax.legend(title='Year', bbox_to_anchor=(1.05, 1), loc='upper left')"
   ]
  },
  {
   "cell_type": "code",
   "execution_count": 22,
   "metadata": {},
   "outputs": [
    {
     "ename": "NameError",
     "evalue": "name 'test' is not defined",
     "output_type": "error",
     "traceback": [
      "\u001b[1;31m---------------------------------------------------------------------------\u001b[0m",
      "\u001b[1;31mNameError\u001b[0m                                 Traceback (most recent call last)",
      "\u001b[1;32m~\\AppData\\Local\\Temp/ipykernel_12172/16657757.py\u001b[0m in \u001b[0;36m<module>\u001b[1;34m\u001b[0m\n\u001b[0;32m      1\u001b[0m \u001b[1;31m# # Bar chart\u001b[0m\u001b[1;33m\u001b[0m\u001b[1;33m\u001b[0m\u001b[1;33m\u001b[0m\u001b[0m\n\u001b[0;32m      2\u001b[0m \u001b[0mfig\u001b[0m\u001b[1;33m,\u001b[0m \u001b[0max\u001b[0m \u001b[1;33m=\u001b[0m \u001b[0mplt\u001b[0m\u001b[1;33m.\u001b[0m\u001b[0msubplots\u001b[0m\u001b[1;33m(\u001b[0m\u001b[1;33m)\u001b[0m\u001b[1;33m\u001b[0m\u001b[1;33m\u001b[0m\u001b[0m\n\u001b[1;32m----> 3\u001b[1;33m \u001b[0max\u001b[0m\u001b[1;33m.\u001b[0m\u001b[0mbar\u001b[0m\u001b[1;33m(\u001b[0m\u001b[0mtest\u001b[0m\u001b[1;33m.\u001b[0m\u001b[0mindex\u001b[0m\u001b[1;33m,\u001b[0m \u001b[0mtest\u001b[0m\u001b[1;33m[\u001b[0m\u001b[1;34m'Bill [EURO]'\u001b[0m\u001b[1;33m]\u001b[0m\u001b[1;33m)\u001b[0m\u001b[1;33m\u001b[0m\u001b[1;33m\u001b[0m\u001b[0m\n\u001b[0m\u001b[0;32m      4\u001b[0m \u001b[1;33m\u001b[0m\u001b[0m\n\u001b[0;32m      5\u001b[0m \u001b[1;33m\u001b[0m\u001b[0m\n",
      "\u001b[1;31mNameError\u001b[0m: name 'test' is not defined"
     ]
    },
    {
     "data": {
      "image/png": "[encoded data removed]",
      "text/plain": [
       "<Figure size 432x288 with 1 Axes>"
      ]
     },
     "metadata": {
      "needs_background": "light"
     },
     "output_type": "display_data"
    }
   ],
   "source": [
    "# # Bar chart \n",
    "fig, ax = plt.subplots()\n",
    "ax.bar(test.index, test['Bill [EURO]'])\n",
    "\n",
    "\n",
    "#plt.bar(,)\n",
    " \n",
    "plt.title(\"Bar Chart\")\n",
    " \n",
    "# Setting the X and Y labels\n",
    "plt.xlabel('Date')\n",
    "plt.ylabel('Bill [EURO]')\n",
    " \n",
    "# Adding the legends\n",
    "plt.show()\n",
    "\n",
    "\n",
    "# Scatter plot with day against tip\n",
    "# plt.plot(df['Bill [EURO]'])\n",
    " \n",
    "# # Adding Title to the Plot\n",
    "# plt.title(\"Scatter Plot\")\n",
    " \n",
    "# # Setting the X and Y labels\n",
    "# plt.xlabel('Day')\n",
    "# plt.ylabel('Bill [EURO]')\n",
    " \n",
    "# plt.show()"
   ]
  },
  {
   "cell_type": "code",
   "execution_count": null,
   "metadata": {},
   "outputs": [],
   "source": [
    "import pandas as pd\n",
    "import matplotlib.pyplot as plt\n",
    "\n",
    "\n",
    "\n",
    "# group data by year and quarter\n",
    "grouped = df.groupby(['Year', 'Quarter']).sum()\n",
    "\n",
    "# reshape data into a pivot table\n",
    "pivot = grouped.pivot_table(index='Quarter', columns='Year', values='Value')\n",
    "\n",
    "# create the bar chart\n",
    "ax = pivot.plot(kind='bar', figsize=(10,6))\n",
    "\n",
    "# set the x-axis label and tick labels\n",
    "ax.set_xlabel('Quarter')\n",
    "ax.set_xticklabels(pivot.index, rotation=0)\n",
    "\n",
    "# set the y-axis label\n",
    "ax.set_ylabel('Value')\n",
    "\n",
    "# set the legend\n",
    "ax.legend(title='Year', bbox_to_anchor=(1.05, 1), loc='upper left')"
   ]
  },
  {
   "cell_type": "code",
   "execution_count": null,
   "metadata": {},
   "outputs": [],
   "source": [
    "import numpy as np\n",
    "import matplotlib.pyplot as plt\n",
    "\n",
    "#set width of bar\n",
    "barWidth = 0.25\n",
    "fig = plt.subplots(figsize =(12, 8))\n",
    "\n",
    "# set height of bar\n",
    "Q1 = [12, 30, 1, 8, 22]\n",
    "Q2 = [28, 6, 16, 5, 10]\n",
    "Q3 = [29, 3, 24, 25, 17]\n",
    "Q4 = [29, 3, 24, 25, 17]\n",
    "\n",
    "# Set position of bar on X axis\n",
    "br1 = np.arange(len(Q1))\n",
    "br2 = [x + barWidth for x in br1]\n",
    "br3 = [x + barWidth for x in br2]\n",
    "br4 = [x + barWidth for x in br3]\n",
    "\n",
    "# Make the plot\n",
    "plt.bar(br1, Q1, color ='r', width = barWidth,\n",
    "\t\tedgecolor ='grey', label ='Q1')\n",
    "plt.bar(br2, Q2, color ='g', width = barWidth,\n",
    "\t\tedgecolor ='grey', label ='Q2')\n",
    "plt.bar(br3, Q3, color ='b', width = barWidth,\n",
    "\t\tedgecolor ='grey', label ='Q3')\n",
    "plt.bar(br4, Q4, color ='b', width = barWidth,\n",
    "\t\tedgecolor ='grey', label ='Q4')\n",
    "\n",
    "# Adding Xticks\n",
    "plt.xlabel('Branch', fontweight ='bold', fontsize = 15)\n",
    "plt.ylabel('Students passed', fontweight ='bold', fontsize = 15)\n",
    "plt.xticks([r + barWidth for r in range(len(Q1))],\n",
    "\t\t['2015', '2016', '2017', '2018', '2019'])\n",
    "\n",
    "plt.legend()\n",
    "plt.show()\n"
   ]
  },
  {
   "cell_type": "code",
   "execution_count": null,
   "metadata": {},
   "outputs": [],
   "source": [
    "import matplotlib.pyplot as plt\n",
    "import numpy as np\n",
    "\n",
    "quarters = ['Q1', 'Q2', 'Q3', 'Q4']\n",
    "year1 = [100, 150, 200, 250]\n",
    "year2 = [125, 175, 225, 275]\n",
    "year3 = [110, 170, 210, 280]\n",
    "\n",
    "x = np.arange(len(quarters))  # the x locations for the quarters\n",
    "width = 0.2  # the width of the bars\n",
    "\n",
    "fig, ax = plt.subplots()\n",
    "rects1 = ax.bar(x - width, year1, width, label='Year 1')\n",
    "rects2 = ax.bar(x, year2, width, label='Year 2')\n",
    "rects3 = ax.bar(x + width, year3, width, label='Year 3')\n",
    "\n",
    "# Add some text for labels, title and custom x-axis tick labels, etc.\n",
    "ax.set_ylabel('Energy Bill')\n",
    "ax.set_title('Energy Bills by Quarter and Year')\n",
    "ax.set_xticks(x)\n",
    "ax.set_xticklabels(quarters)\n",
    "ax.legend()\n",
    "\n",
    "fig.tight_layout()\n",
    "\n",
    "plt.show()\n"
   ]
  },
  {
   "cell_type": "code",
   "execution_count": null,
   "metadata": {},
   "outputs": [],
   "source": [
    "#Results for each a year\n",
    "df_year=df.groupby(pd.to_datetime(df['Start']).dt.year).sum()\n",
    "\n",
    "# Create a figure with two subplots side by side\n",
    "fig, axs = plt.subplots(1, 2, figsize=(20, 10))\n",
    "\n",
    "# Plot the first bar figure in the left subplot\n",
    "axs[0].bar(df_year.index, df_year['Bill'])\n",
    "axs[0].set_title('Bill')\n",
    "axs[0].set_ylabel('[EURO]')\n",
    "axs[0].set_xlabel('Year')\n",
    "# Plot the second bar figure in the right subplot\n",
    "axs[1].bar(df_year.index, df_year['Consumption'])\n",
    "axs[1].set_title('Consumption')\n",
    "axs[1].set_ylabel('[kWh]')\n",
    "axs[1].set_xlabel('Year')\n",
    "# Add a title to the overall figure\n",
    "fig.suptitle('Comparison by year', fontsize=16)\n",
    "# Display the plot\n",
    "plt.show()\n"
   ]
  },
  {
   "cell_type": "code",
   "execution_count": null,
   "metadata": {},
   "outputs": [],
   "source": [
    "#pdf_files\n",
    "#pdf_text[-1]\n",
    "\n",
    "#PyPDF2 doenst work!\n",
    "# for file in pdf_files[0:1]:\n",
    "#     f = open(file,'rb')\n",
    "\n",
    "#     # List of every page's text.\n",
    "#     # The index will correspond to the page number.\n",
    "#     pdf_text = []\n",
    "\n",
    "#     pdf_reader = PyPDF2.PdfReader(f)\n",
    "\n",
    "#     for p in range(len(pdf_reader.pages)):\n",
    "        \n",
    "#         single_page = pdf_reader.pages[p]\n",
    "\n",
    "#         pdf_text.append(single_page.extract_text())"
   ]
  },
  {
   "cell_type": "code",
   "execution_count": null,
   "metadata": {},
   "outputs": [],
   "source": []
  },
  {
   "cell_type": "code",
   "execution_count": null,
   "metadata": {},
   "outputs": [],
   "source": []
  }
 ],
 "metadata": {
  "kernelspec": {
   "display_name": "Python 3",
   "language": "python",
   "name": "python3"
  },
  "language_info": {
   "codemirror_mode": {
    "name": "ipython",
    "version": 3
   },
   "file_extension": ".py",
   "mimetype": "text/x-python",
   "name": "python",
   "nbconvert_exporter": "python",
   "pygments_lexer": "ipython3",
   "version": "3.8.0"
  },
  "orig_nbformat": 4,
  "vscode": {
   "interpreter": {
    "hash": "be96e54ac1641eb6b0b6e091bda5f4569f87f77d93d2c1fb370b248d11e29b0c"
   }
  }
 },
 "nbformat": 4,
 "nbformat_minor": 2
}
