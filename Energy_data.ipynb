{
 "cells": [
  {
   "cell_type": "code",
   "execution_count": 2,
   "metadata": {},
   "outputs": [],
   "source": [
    "import os\n",
    "import fnmatch\n",
    "import fitz #pip install PyMuPDF\n",
    "import re\n",
    "from datetime import datetime\n",
    "\n",
    "import pandas as pd\n",
    "import matplotlib.pyplot as plt\n",
    "import numpy as np"
   ]
  },
  {
   "cell_type": "code",
   "execution_count": 3,
   "metadata": {},
   "outputs": [],
   "source": [
    "\n",
    "#read all PDF files\n",
    "def find_all_files(path):\n",
    "    all_files = []\n",
    "\n",
    "    for root, dirs, files in os.walk(path):\n",
    "        for file in fnmatch.filter(files,'*.pdf'):\n",
    "#\n",
    "            full_path=os.path.abspath(file)\n",
    "            all_files.append(os.path.join(root, file))\n",
    "    return all_files"
   ]
  },
  {
   "cell_type": "code",
   "execution_count": 4,
   "metadata": {},
   "outputs": [],
   "source": [
    "#Specify the path of the folder to look the PDFs of the bills\n",
    "initial_folder='.'\n",
    "pdf_files=find_all_files(initial_folder)\n",
    "# List of every page's text.\n",
    "# # The index will correspond to the pdf number.\n",
    "pdf_text = []\n",
    "for file in pdf_files:\n",
    "   doc = fitz.open(file)\n",
    "   text = \"\"\n",
    "   for page in doc:\n",
    "      text+=page.get_text()\n",
    "   pdf_text.append(text)"
   ]
  },
  {
   "cell_type": "code",
   "execution_count": 5,
   "metadata": {},
   "outputs": [],
   "source": [
    "#Function to read the amount to pay. It always has the symbol * before the amount (in Euros), e.g., *195,00 \n",
    "def find_amount(text,amount):\n",
    "    match=re.search(r'\\*\\d{1,},\\d{1,}',text)\n",
    "    #add exception when there is a refund and no amount is written\n",
    "    try:\n",
    "        #print(match.group(0))\n",
    "        value=match.group(0)[1:]\n",
    "        value=value[:-1]\n",
    "        value=value.replace(',', '.')\n",
    "        amount.append(float(value))\n",
    "    except:\n",
    "        print('Add zero if the bill is negative')\n",
    "        amount.append(0)\n",
    "    else:\n",
    "         pass\n",
    "    return amount"
   ]
  },
  {
   "cell_type": "code",
   "execution_count": 6,
   "metadata": {},
   "outputs": [],
   "source": [
    "#Function to read the consumption of kWh \n",
    "def find_consumption(text,amount):\n",
    "    match=re.search(r\"\\d{1,} kWh|\\d.\\d{1,} kWh\",text)\n",
    "    #print(match)\n",
    "    #add exception when there is a refund and no amount is written\n",
    "    # ATTENTION::: FIX The \n",
    "    try:\n",
    "        #print(match.group(0))\n",
    "        value=match.group(0).split()\n",
    "        amount.append(float(value[0]))\n",
    "    except:\n",
    "        print('Add zero if there is no consumption')\n",
    "        amount.append(0)\n",
    "\n",
    "    return amount"
   ]
  },
  {
   "cell_type": "code",
   "execution_count": 7,
   "metadata": {},
   "outputs": [],
   "source": [
    "#Function to read the date of consumption \n",
    "def find_date_old(text,begin,end,bill,dts):\n",
    "    match=re.findall(r\"\\d{2}/\\d{2}/\\d{4}\",text)\n",
    "    #print(match)\n",
    "    #25/06/2022\n",
    "    #add exception when there is a refund and no amount is written\n",
    "    # try:\n",
    "    #     print(match.group(0))\n",
    "    #     #value=match.group(0).split()\n",
    "    #     #amount.append(value[0])\n",
    "    # except:\n",
    "    #     print('No data for period of consumption available')\n",
    "    #     amount.append(0)\n",
    "    #amount.append(match[1:3])\n",
    "    dts=[]\n",
    "    for dt in match:\n",
    "        date_time_obj = datetime.strptime(dt,'%d/%m/%Y')\n",
    "        #print(date_time_obj)\n",
    "        dts.append(date_time_obj.date())\n",
    "        #print(dts)\n",
    "    #check date because the format of date changes after some bills\n",
    "    #Before the change in the bills (last bill of 2020)\n",
    "    if (dts[1]<dts[2] and dts[2]<dts[3]):\n",
    "        begin.append(dts[1])\n",
    "        end.append(dts[2])\n",
    "        bill.append(dts[0])\n",
    "    else:\n",
    "        begin.append(dts[2])\n",
    "        end.append(dts[3])\n",
    "        bill.append(dts[4])       \n",
    "    #Add date of bill\n",
    "    #match_bill==re.search(r\"Έκδοσης\\n\\d{2}/\\d{2}/\\d{4}\",text)\n",
    "    #chk=re.match(r\"Έκδοσης\\n\\d{2}/\\d{2}/\\d{4}\",text==True)\n",
    "    #if chk:\n",
    "    #    date_time_obj = datetime.strptime(chk,'%d/%m/%Y')\n",
    "    #    bill.append(dts[0])\n",
    "    #else:\n",
    "    #    bill.append(dts[0])\n",
    "\n",
    "    return begin,end,bill,dts"
   ]
  },
  {
   "cell_type": "code",
   "execution_count": 34,
   "metadata": {},
   "outputs": [],
   "source": [
    "#Function to read the dates of the bill \n",
    "def find_date(text,begin,end,bill,amount):\n",
    "    #First find all dates in the text\n",
    "    match=re.findall(r\"\\d{2}/\\d{2}/\\d{4}\",text)\n",
    "    dts=[]\n",
    "    for i in match:\n",
    "        date_time_obj = datetime.strptime(i,'%d/%m/%Y')\n",
    "        #print(date_time_obj)\n",
    "        dts.append(date_time_obj.date())\n",
    "        #print(dts)\n",
    "\n",
    "    #Older bills dont have these patterns while the new ones do\n",
    "    regex_date_publish = re.compile(r'(Έκδοσης)\\n(\\d{2}/\\d{2}/\\d{4})')\n",
    "    regex_date_publish_2 = re.compile(r'(\\d{10})\\s*-\\s*(\\d{2}/\\d{2}/\\d{4})')\n",
    "    \n",
    "    match = regex_date_publish.search(text)\n",
    "    match_2 = regex_date_publish_2.search(text)\n",
    "    #print(match,match_2)\n",
    "    dt=''\n",
    "    dt_d=datetime.strptime('01/01/2000','%d/%m/%Y')\n",
    "    if match: #New bill\n",
    "        word = match.group(1)\n",
    "        type(match.group(2))\n",
    "        dt=match.group(2)\n",
    "        dt_d = datetime.strptime(dt,'%d/%m/%Y')\n",
    "        bill.append(dt_d.date())\n",
    "        #print(word) # output: Έκδοσης\n",
    "        #print(match.group(2)) # output: 24/03/2023\n",
    "    elif match_2: #Older bills\n",
    "        dt=match_2.group(2)\n",
    "        dt_d = datetime.strptime(dt,'%d/%m/%Y')\n",
    "        bill.append(dt_d.date())       \n",
    "        #print('Middle bill')\n",
    "\n",
    "    #Consumption period\n",
    "    regex_date_period = re.compile(r'(Κατανάλωσης)\\n(\\d{2}/\\d{2}/\\d{4})\\s+-\\s+(\\d{2}/\\d{2}/\\d{4})')\n",
    "    regex_date_period_2 = re.compile(r'\\n(\\d{2}/\\d{2}/\\d{4})\\s+-\\s+(\\d{2}/\\d{2}/\\d{4})\\n')\n",
    "    match = regex_date_period.search(text)\n",
    "    match_2 = regex_date_period_2.search(text)\n",
    "    #print(match)\n",
    "    if match: #New bill\n",
    "        title = match.group(1)\n",
    "        start_date = match.group(2)\n",
    "        end_date= match.group(3)\n",
    "        \n",
    "        start_date=datetime.strptime(start_date,'%d/%m/%Y')\n",
    "        end_date=datetime.strptime(end_date,'%d/%m/%Y')\n",
    "        \n",
    "        begin.append( start_date.date())\n",
    "        end.append(end_date.date())\n",
    "        \n",
    "        print(f\"Title: {title}\\nStart Date: {start_date}\\nEnd Date: {end_date}\")\n",
    "    elif match_2: #Second format\n",
    "        start_date = match_2.group(1)\n",
    "        end_date= match_2.group(2)\n",
    "        print('Middle bill')\n",
    "        start_date=datetime.strptime(start_date,'%d/%m/%Y')\n",
    "        end_date=datetime.strptime(end_date,'%d/%m/%Y')\n",
    "        \n",
    "        begin.append( start_date.date())\n",
    "        end.append(end_date.date())     \n",
    "\n",
    "    else: #Find start and end date based on the date of the bill\n",
    "        check_date=datetime.strptime('01/12/2020','%d/%m/%Y')\n",
    "        #The format of the bill changes at the end of the 2020.\n",
    "        print(dt_d.date())\n",
    "        if dt_d<check_date:\n",
    "            begin.append(dts[1])\n",
    "            end.append(dts[2])\n",
    "        else:\n",
    "            begin.append(dts[2])\n",
    "            #If there is a refund, then the number of the period end moves up since there is no due date.\n",
    "            if amount[-1]==0:\n",
    "                print('mpika')\n",
    "                end.append(dts[4])\n",
    "            else:\n",
    "                end.append(dts[5])           \n",
    "\n",
    "    return begin,end,bill"
   ]
  },
  {
   "cell_type": "code",
   "execution_count": 9,
   "metadata": {},
   "outputs": [
    {
     "data": {
      "text/plain": [
       "\"ΔΗΜΟΣΙΑ ΕΠΙΧΕΙΡΗΣΗ ΗΛΕΚΤΡΙΣΜΟΥ Α.Ε.\\nΧαλκοκονδύλη 30,104 32 Αθήνα, e-mail: info@dei.com.gr\\nΑ.Φ.Μ. 090000045, Δ.Ο.Υ. ΦΑΕ ΑΘΗΝΩΝ\\nwww.dei.gr\\nΑριθμός Παροχής\\nΕπόμενη Καταμέτρηση:\\nΔιεύθυνση Ακινήτου\\nΚαταμέτρηση:\\nΠληροφορίες:\\n Βλάβες:\\nΕξυπηρέτηση Πελατών ΔΕΗ\\nΕξυπηρέτηση ΔΕΔΔΗΕ\\nΕίδος Λογαριασμού\\nΑρ. Παραστατικού\\nΠερίοδος Κατανάλωσης\\nΗμέρες\\nΚατανάλωση Ηλεκτρικής Ενέργειας\\nΗμερομηνία Έκδοσης\\nΑ/Α Λογαριασμού\\nΑΦΜ/ΑΔΤ\\nΕγγύηση\\nΛογαριασμός Συμβολαίου\\nΤιμολόγιο\\nΣτοιχεία Πελάτη\\nΚωδικός Εταίρου\\nΑΝΤΙΓΡΑΦΟ\\nΟ λογαριασμός  σας  συνοπτικά\\nΑΔΜΗΕ- ΔΕΔΔΗΕ\\nΥΚΩ\\nΕΤΜΕΑΡ\\nΛοιπές Χρεώσεις\\nΈναντι Κατανάλωσης\\nΔιάφορα\\nΠροηγούμενο Ανεξόφλητο Ποσό\\nΣΥΝΟΛΙΚΟ  ΠΟΣΟ  ΠΛΗΡΩΜΗΣ\\n(Αγνοήστε το εάν έχει πληρωθεί)\\nΑξία σε €\\nΔΕΗ\\nΝησιά / Κοινωνικό Τιμολόγιο / Πολύτεκνοι κ.λπ.\\nΑνανεώσιμες Πηγές Ενέργειας\\nΕΦΚ / Ειδικό Τέλος 5        κ.λπ.\\nΧρεώσεις  ΔΗΜΟΥ\\nΦΠΑ\\nΕΡΤ\\nΛήξη Προθεσμίας Πληρωμής\\nΚωδικός Ηλεκτρονικής Πληρωμής\\nΟ Κωδικός Ηλεκτρονικής Πληρωμής άλλαξε.\\nΓια τις πληρωμές σας χρησιμοποιήστε τον νέο\\n25ψήφιο Κωδικό Ηλεκτρονικής Πληρωμής.\\nRF53 9077 3800 0300 0052 5033 7 \\n���������\\n     1080628960010\\n00009464\\nΚΑΤΑΣΤΗΜΑ ΛΑΡΙΣΑΣ\\nΚΑΡΔΙΤΣΑΣ 99 & ΑΜΟΡΓΟΥ 413 35\\nΕΝΑΝΤΙ\\n11500\\nΤΣΙΜΠΟΥΚΗΣ ΑΘΑΝΑΣΙΟΣ\\n25ΗΣ ΜΑΡΤΙΟΥ 25\\n412 21 ΛΑΡΙΣΑ\\n   286\\n71,31 €\\n018057610\\n25ΗΣ ΜΑΡΤΙΟΥ 25\\n412 21 ΛΑΡΙΣΑ\\n18/04/2019\\n19/02/2019 - 16/04/2019\\n  57\\n4020 18 58 113000\\n4 40611581-01 1\\n    519 kWh\\n     33,70\\n21/06/2019\\n108 062896\\n2410 622995\\n2410 685300\\n    *118,00\\n          1,20\\n8,17\\n300005250337\\n751001705940\\n1173908575\\n108-2019\\n40,22\\n5,62\\n11 770\\n     13,70\\n      3,58\\n     11,77\\n      0,04\\n440611581014\\nΓ1Ν Οικιακό Τιμολόγιο\\n1104756372\\n \\nΈκπτωση συνέπειας\\n15,72 €\\n17/05/2019\\nΕξοφλήστε ηλεκτρονικά τον λογαριασμό σας χωρίς χρέωση, στο www.dei.gr, με χρήση καρτών VISA,\\nMasterCard, Maestro και καρτών American Express ή Diners της Alpha Bank.\\nΣας ενημερώνουμε ότι από 01.12.2018 ο έντυπος\\nλογαριασμός θα χρεώνεται με 1€. Στην περίπτωση\\nεπιλογής λήψης αποκλειστικά ηλεκτρονικού λογαριασμού,\\nμέσω της υπηρεσίας e-bill στο www.dei.gr, θα\\nαπαλλάσσεστε από την υπόψη χρέωση.\\nΔΗΜΟΣΙΑ ΕΠΙΧΕΙΡΗΣΗ ΗΛΕΚΤΡΙΣΜΟΥ Α.Ε.\\nΧαλκοκονδύλη 30,104 32 Αθήνα, e-mail: info@dei.com.gr\\nΑ.Φ.Μ. 090000045, Δ.Ο.Υ. ΦΑΕ ΑΘΗΝΩΝ\\nwww.dei.gr\\nΑριθμός Παροχής\\nΕπόμενη Καταμέτρηση:\\nΔιεύθυνση Ακινήτου\\nΚαταμέτρηση:\\nΠληροφορίες:\\n Βλάβες:\\nΕξυπηρέτηση Πελατών ΔΕΗ\\nΕξυπηρέτηση ΔΕΔΔΗΕ\\nΕίδος Λογαριασμού\\nΑρ. Παραστατικού\\nΠερίοδος Κατανάλωσης\\nΗμέρες\\nΚατανάλωση Ηλεκτρικής Ενέργειας\\nΗμερομηνία Έκδοσης\\nΑ/Α Λογαριασμού\\nΑΦΜ/ΑΔΤ\\nΕγγύηση\\nΛογαριασμός Συμβολαίου\\nΤιμολόγιο\\nΣτοιχεία Πελάτη\\nΚωδικός Εταίρου\\nΑΝΤΙΓΡΑΦΟ\\nΟ λογαριασμός  σας  συνοπτικά\\nΑΔΜΗΕ- ΔΕΔΔΗΕ\\nΥΚΩ\\nΕΤΜΕΑΡ\\nΛοιπές Χρεώσεις\\nΈναντι Κατανάλωσης\\nΔιάφορα\\nΠροηγούμενο Ανεξόφλητο Ποσό\\nΣΥΝΟΛΙΚΟ  ΠΟΣΟ  ΠΛΗΡΩΜΗΣ\\n(Αγνοήστε το εάν έχει πληρωθεί)\\nΑξία σε €\\nΔΕΗ\\nΝησιά / Κοινωνικό Τιμολόγιο / Πολύτεκνοι κ.λπ.\\nΑνανεώσιμες Πηγές Ενέργειας\\nΕΦΚ / Ειδικό Τέλος 5        κ.λπ.\\nΧρεώσεις  ΔΗΜΟΥ\\nΦΠΑ\\nΕΡΤ\\nΛήξη Προθεσμίας Πληρωμής\\nΚωδικός Ηλεκτρονικής Πληρωμής\\nΟ Κωδικός Ηλεκτρονικής Πληρωμής άλλαξε.\\nΓια τις πληρωμές σας χρησιμοποιήστε τον νέο\\n25ψήφιο Κωδικό Ηλεκτρονικής Πληρωμής.\\nRF53 9077 3800 0300 0052 5033 7 \\n���������\\n     1080628960010\\n00009464\\nΚΑΤΑΣΤΗΜΑ ΛΑΡΙΣΑΣ\\nΚΑΡΔΙΤΣΑΣ 99 & ΑΜΟΡΓΟΥ 413 35\\nΕΝΑΝΤΙ\\n11500\\nΤΣΙΜΠΟΥΚΗΣ ΑΘΑΝΑΣΙΟΣ\\n25ΗΣ ΜΑΡΤΙΟΥ 25\\n412 21 ΛΑΡΙΣΑ\\n   286\\n71,31 €\\n018057610\\n25ΗΣ ΜΑΡΤΙΟΥ 25\\n412 21 ΛΑΡΙΣΑ\\n18/04/2019\\n19/02/2019 - 16/04/2019\\n  57\\n4020 18 58 113000\\n4 40611581-01 1\\n    519 kWh\\n     33,70\\n21/06/2019\\n108 062896\\n2410 622995\\n2410 685300\\n    *118,00\\n          1,20\\n8,17\\n300005250337\\n751001705940\\n1173908575\\n108-2019\\n40,22\\n5,62\\n11 770\\n     13,70\\n      3,58\\n     11,77\\n      0,04\\n440611581014\\nΓ1Ν Οικιακό Τιμολόγιο\\n1104756372\\n \\nΈκπτωση συνέπειας\\n15,72 €\\n17/05/2019\\nΕξοφλήστε ηλεκτρονικά τον λογαριασμό σας χωρίς χρέωση, στο www.dei.gr, με χρήση καρτών VISA,\\nMasterCard, Maestro και καρτών American Express ή Diners της Alpha Bank.\\nΣας ενημερώνουμε ότι από 01.12.2018 ο έντυπος\\nλογαριασμός θα χρεώνεται με 1€. Στην περίπτωση\\nεπιλογής λήψης αποκλειστικά ηλεκτρονικού λογαριασμού,\\nμέσω της υπηρεσίας e-bill στο www.dei.gr, θα\\nαπαλλάσσεστε από την υπόψη χρέωση.\\n    Μέσω εμβασμάτων SEPA χρησιμοποιώντας  τα στοιχεία\\nΑρμόδιο Κατάστημα\\nΑριθμός Παροχής\\nΣτοιχεία Πελάτη\\nΠερίοδος Κατανάλωσης\\nΛογαριασμός Συμβολαίου\\nΧρεώσεις Προμήθειας ΔΕΗ\\nΡυθμιζόμενες Χρεώσεις\\nΈναντι Κατανάλωσης\\nΔιάφορα\\nΦΠΑ\\nΔΗΜΟΣ\\nΕΡΤ\\nΠροηγούμενο Ανεξόφλητο Ποσό\\n(Αγνοήστε το εάν έχει πληρωθεί)\\nΣΥΝΟΛΙΚΟ  ΠΟΣΟ  ΠΛΗΡΩΜΗΣ:\\n   Α Π Ο Κ Ο Μ Μ Α       Τ A M E I O Y                            Ε Ι Σ Π Ρ Α Ξ Η\\nΛΗΞΗ ΠΡΟΘΕΣΜΙΑΣ\\nΠ  Λ  Η  Ρ  Ω  Μ  Η  Σ\\nΠΟΣΟ ΠΛΗΡΩΜΗΣ\\nΠ  α  ρ  α  κ   α  λ  ο  ύ  μ   ε     κ  ό  ψ  τ   ε     ε  δ  ώ\\nΑξία σε €\\nΣε περίπτωση διαφωνίας ως  προς  τις χρεώσεις του λογαριασμού,\\nΣε περίπτωση εκπρόθεσμης εξόφλησης του λογαριασμού, επιβαρύνεστε με\\nΣΗΜΑΝΤΙΚΗ ΕΝΗΜΕΡΩΣΗ\\nΣε περίπτωση διακοπής ρεύματος, για την επανασύνδεση επιβαρύνεστε με\\nΕφόσον υπάρχουν ληξιπρόθεσμες οφειλές, εξουσιοδοτημένοι συνεργάτες\\nΤΡΟΠΟΙ ΕΞΟΦΛΗΣΗΣ ΛΟΓΑΡΙΑΣΜΩΝ\\nΧΡΗΣΙΜΕΣ ΠΛΗΡΟΦΟΡΙΕΣ\\n    Να διακοπεί η ηλεκτροδότησή σας μετά από σχετική ειδοποίηση\\n    Να γίνει καταγγελία της σύμβασης προμήθειας ηλεκτρικής ενέργειας\\nτόκους υπερημερίας και ενδέχεται:\\nέξοδα επανασύνδεσης & εφόσον απαιτείται, αναπροσαρμόζεται η εγγύηση.\\nδύναται να επικοινωνήσουν μαζί σας με σκοπό τη σχετική ενημέρωσή σας\\n(Ν.3758/09 & Κώδικας Προμήθειας σε Πελάτες ΦΕΚ 832/τΒ/9.4.13).\\n    Στα ταμεία της ΔΕΗ, (με μετρητά ή χρήση κάρτας), χωρίς επιβάρυνση\\nΗλεκτρονικά με χρήση κάρτας στο www.dei.gr, χωρίς επιβάρυνση\\nΣτις συνεργαζόμενες τράπεζες με πάγια εντολή, e-banking,\\n    και στα ταμεία των καταστημάτων τους\\n    Στα ιδρύματα πληρωμών, ιδρύματα ηλεκτρονικου χρήματος κ.α, όπως\\nΟι λογαριασμοί μετά τη λήξη τους εξοφλούνται με δική σας ευθύνη,\\nphone-banking, στα ATM, στα Μηχανήματα Αυτόματων Συναλλάγών\\n με όλους τους παραπάνω τρόπους.\\n11770, στο www.dei.gr ή  απευθυνθείτε σε οποιοδήποτε κατάστημα ΔΕΗ.\\nΓια οποιαδήποτε πληροφορία, αίτημα ή παράπονο επικοινωνήστε στο\\nαντιρρήσεις υποβάλλονται εγγράφως, πριν τη λήξη του επόμενου\\nλογαριασμού από αυτόν που αμφισβητείται.\\nΑνεξάρτητη Αρχή στην οποία μπορείτε να απευθυνθείτε για εξωδικαστική\\nεπίλυση της διαφοράς σας, είναι ο Συνήγορος του Καταναλωτή\\n(Λ. Αλεξάνδρας 144, 114 71 Αθήνα, τηλ: 210 6460862, 210 6460814).\\nΟ έναντι λογαριασμός εκτιμάται με βάση τα ιστορικά στοιχεία\\nτου πελάτη, όπως καταναλώσεις αντίστοιχης χρονικής περιόδου του\\nπροηγούμενου έτους.\\nΕνδείξεις Μετρητή\\nΑριθμός\\nΜετρητή\\nΤύπος\\nΈνδειξης\\nΚαταμέτρηση\\nΤελευταία Προηγούμενη Διαφορά\\nΠροσθ.\\nKwh\\nΣύνολο\\nΚατανάλωσης\\nΣυμφωνημένη\\nΙσχύς Παροχής (kVA)\\nΣυντ.\\nΜετ/σμού\\nσυνφ.\\nΧρεωστέα\\nΖήτηση (kW)\\nΣυντ.\\nΧρησ/σης\\n    καθορίζονται από το Νόμο 4446/2016\\n    Περισσότερες πληροφορίες στο www.dei.gr\\nBIC ETHNGRAA και IBAN GR6901100400000004020086700\\n(υποχρεωτικός ο Κωδικός Ηλεκτρονικής Πληρωμής).\\nΣε περίπτωση παραβίασης του θεσμικού πλαισίου εκ μέρους της ΔΕΗ, έχετε\\nτη δυνατότητα υποβολής αιτιολογημένης καταγγελίας ενώπιον της ΡΑΕ,\\nσύμφωνα με το Ν.4001/2011, άρθρο 34.\\nΗ συλλογή και επεξεργασία των δεδομένων προσωπικού χαρακτήρα από τη\\nΔΕΗ πραγματοποιείται σύννομα και σύμφωνα με τις προβλέψεις του\\nΚανονισμού (ΕΕ) 679/2016,όπως αυτές ενσωματώνονται στη Δήλωση\\nΠροστασίας Προσωπικών Δεδομένων της ΔΕΗ.\\nΠάγια Χρέωση\\n2,28\\nkWh 417X0,09460€/kWh\\n39,45\\nΠάγια Χρέωση Νύχτας        \\n0,95\\nkWh 102X0,06608€/kWh       \\n6,74\\nΈκπτωση Συνέπειας        \\n-15,72\\n ΛΑΡΙΣΑΙΩΝ\\n36,00 x\\n57/365  \\n108x1250,00x0,60x0,00030x57/365 =\\n    *118,00\\n5,62\\n08113170\\n11\\n417\\n08113170\\n12\\n102\\n25\\n1\\n1,0000\\nΔΤ :\\nΔΦ:\\nτμ      χ      €/τμ     χ   συντ.ημερών\\nτμ     χ   τιμή ζώνης χ παλαιότητα χ  συντ.ΤΑΠ  χ  συντ.ημερών\\nΤΑΠ:\\n40,22\\nετήσια χρέωση  χ   συντ.ημερών   -  ΕΝΑΝΤΙ ΕΡΤ\\n=\\n35,08\\n144 x 1,56 x57/365\\nΦΠΑ\\n62,79 x\\n13%\\n=\\n8,17\\nΑΔΜΗΕ:Σύστημα Μεταφοράς Η/Ε\\n      2,71\\n(25kVAx57/365x0,130€/kVA)+(417kWhx0,00527€/kWh)\\nΔΕΔΔΗΕ:Δίκτυο Διανομής Η/Ε\\n     10,99\\n(25kVAx57/365x0,540€/kVA)+(417kWhx0,02130€/kWh)\\nΥΚΩ:Υπηρεσίες Κοινής Ωφέλειας\\n      3,58\\nΗΜΕΡΑΣ  57νημ (417kWh x 0,00690€/kWh)\\nΝΥΧΤΑΣ   57νημ (102kWh x 0,00690€/kWh)\\nΕΤΜΕΑΡ\\n    11,77\\n519kWhx0,02267€/kWh\\nΛοιπές Χρεώσεις\\n      0,04\\n417kWhx0,00007€/kWh\\n102kWhx0,00007€/kWh\\nΧΡΕΩΣΗ ΕΝΤΥΠΟΥ (Χ)         \\n1,00\\nΦΠΑ ΕΣΟΔΩΝ 24%             \\n0,24\\nΣτρογγ/ση Πληρ.Ποσού      \\n-0,39\\nΠοσό Στρογγ.Προηγ.Λογ.     \\n0,35\\n108 x 0,08 x57/365\\n=\\n1,35\\n   286\\nΛΑΡΙΣΑΣ\\n4 40611581-01 1\\n4020 18 58 113000\\n19/02/2019 - 16/04/2019\\n17/05/2019\\n    *118,00€\\n00009464\\nA 4\\n���������\\n     1080628960010\\n300005250337\\nΤΣΙΜΠΟΥΚΗΣ ΑΘΑΝΑΣΙΟΣ\\n25ΗΣ ΜΑΡΤΙΟΥ 25\\n412 21 ΛΑΡΙΣΑ\\n108-2019\\n3,79\\nΣε συνέχεια του υπ' αριθμού A/A Λογαριασμού  1173908575 - 18/04/2019   με αριθμό παροχής    4 40611581-01 1\\n     33,70\\n29,09\\n8,17\\n \\n5,62\\n          1,20\\nRF53 9077 3800 0300 0052 5033 7\\n000000118,00   0\\n�������������������������\\n�������������������������\\n�������������������������\\n�������������������������\\n������������������������\\n    Μέσω εμβασμάτων SEPA χρησιμοποιώντας  τα στοιχεία\\nΑρμόδιο Κατάστημα\\nΑριθμός Παροχής\\nΣτοιχεία Πελάτη\\nΠερίοδος Κατανάλωσης\\nΛογαριασμός Συμβολαίου\\nΧρεώσεις Προμήθειας ΔΕΗ\\nΡυθμιζόμενες Χρεώσεις\\nΈναντι Κατανάλωσης\\nΔιάφορα\\nΦΠΑ\\nΔΗΜΟΣ\\nΕΡΤ\\nΠροηγούμενο Ανεξόφλητο Ποσό\\n(Αγνοήστε το εάν έχει πληρωθεί)\\nΣΥΝΟΛΙΚΟ  ΠΟΣΟ  ΠΛΗΡΩΜΗΣ:\\n   Α Π Ο Κ Ο Μ Μ Α       Τ A M E I O Y                            Ε Ι Σ Π Ρ Α Ξ Η\\nΛΗΞΗ ΠΡΟΘΕΣΜΙΑΣ\\nΠ  Λ  Η  Ρ  Ω  Μ  Η  Σ\\nΠΟΣΟ ΠΛΗΡΩΜΗΣ\\nΠ  α  ρ  α  κ   α  λ  ο  ύ  μ   ε     κ  ό  ψ  τ   ε     ε  δ  ώ\\nΑξία σε €\\nΣε περίπτωση διαφωνίας ως  προς  τις χρεώσεις του λογαριασμού,\\nΣε περίπτωση εκπρόθεσμης εξόφλησης του λογαριασμού, επιβαρύνεστε με\\nΣΗΜΑΝΤΙΚΗ ΕΝΗΜΕΡΩΣΗ\\nΣε περίπτωση διακοπής ρεύματος, για την επανασύνδεση επιβαρύνεστε με\\nΕφόσον υπάρχουν ληξιπρόθεσμες οφειλές, εξουσιοδοτημένοι συνεργάτες\\nΤΡΟΠΟΙ ΕΞΟΦΛΗΣΗΣ ΛΟΓΑΡΙΑΣΜΩΝ\\nΧΡΗΣΙΜΕΣ ΠΛΗΡΟΦΟΡΙΕΣ\\n    Να διακοπεί η ηλεκτροδότησή σας μετά από σχετική ειδοποίηση\\n    Να γίνει καταγγελία της σύμβασης προμήθειας ηλεκτρικής ενέργειας\\nτόκους υπερημερίας και ενδέχεται:\\nέξοδα επανασύνδεσης & εφόσον απαιτείται, αναπροσαρμόζεται η εγγύηση.\\nδύναται να επικοινωνήσουν μαζί σας με σκοπό τη σχετική ενημέρωσή σας\\n(Ν.3758/09 & Κώδικας Προμήθειας σε Πελάτες ΦΕΚ 832/τΒ/9.4.13).\\n    Στα ταμεία της ΔΕΗ, (με μετρητά ή χρήση κάρτας), χωρίς επιβάρυνση\\nΗλεκτρονικά με χρήση κάρτας στο www.dei.gr, χωρίς επιβάρυνση\\nΣτις συνεργαζόμενες τράπεζες με πάγια εντολή, e-banking,\\n    και στα ταμεία των καταστημάτων τους\\n    Στα ιδρύματα πληρωμών, ιδρύματα ηλεκτρονικου χρήματος κ.α, όπως\\nΟι λογαριασμοί μετά τη λήξη τους εξοφλούνται με δική σας ευθύνη,\\nphone-banking, στα ATM, στα Μηχανήματα Αυτόματων Συναλλάγών\\n με όλους τους παραπάνω τρόπους.\\n11770, στο www.dei.gr ή  απευθυνθείτε σε οποιοδήποτε κατάστημα ΔΕΗ.\\nΓια οποιαδήποτε πληροφορία, αίτημα ή παράπονο επικοινωνήστε στο\\nαντιρρήσεις υποβάλλονται εγγράφως, πριν τη λήξη του επόμενου\\nλογαριασμού από αυτόν που αμφισβητείται.\\nΑνεξάρτητη Αρχή στην οποία μπορείτε να απευθυνθείτε για εξωδικαστική\\nεπίλυση της διαφοράς σας, είναι ο Συνήγορος του Καταναλωτή\\n(Λ. Αλεξάνδρας 144, 114 71 Αθήνα, τηλ: 210 6460862, 210 6460814).\\nΟ έναντι λογαριασμός εκτιμάται με βάση τα ιστορικά στοιχεία\\nτου πελάτη, όπως καταναλώσεις αντίστοιχης χρονικής περιόδου του\\nπροηγούμενου έτους.\\nΕνδείξεις Μετρητή\\nΑριθμός\\nΜετρητή\\nΤύπος\\nΈνδειξης\\nΚαταμέτρηση\\nΤελευταία Προηγούμενη Διαφορά\\nΠροσθ.\\nKwh\\nΣύνολο\\nΚατανάλωσης\\nΣυμφωνημένη\\nΙσχύς Παροχής (kVA)\\nΣυντ.\\nΜετ/σμού\\nσυνφ.\\nΧρεωστέα\\nΖήτηση (kW)\\nΣυντ.\\nΧρησ/σης\\n    καθορίζονται από το Νόμο 4446/2016\\n    Περισσότερες πληροφορίες στο www.dei.gr\\nBIC ETHNGRAA και IBAN GR6901100400000004020086700\\n(υποχρεωτικός ο Κωδικός Ηλεκτρονικής Πληρωμής).\\nΣε περίπτωση παραβίασης του θεσμικού πλαισίου εκ μέρους της ΔΕΗ, έχετε\\nτη δυνατότητα υποβολής αιτιολογημένης καταγγελίας ενώπιον της ΡΑΕ,\\nσύμφωνα με το Ν.4001/2011, άρθρο 34.\\nΗ συλλογή και επεξεργασία των δεδομένων προσωπικού χαρακτήρα από τη\\nΔΕΗ πραγματοποιείται σύννομα και σύμφωνα με τις προβλέψεις του\\nΚανονισμού (ΕΕ) 679/2016,όπως αυτές ενσωματώνονται στη Δήλωση\\nΠροστασίας Προσωπικών Δεδομένων της ΔΕΗ.\\nΠάγια Χρέωση\\n2,28\\nkWh 417X0,09460€/kWh\\n39,45\\nΠάγια Χρέωση Νύχτας        \\n0,95\\nkWh 102X0,06608€/kWh       \\n6,74\\nΈκπτωση Συνέπειας        \\n-15,72\\n ΛΑΡΙΣΑΙΩΝ\\n36,00 x\\n57/365  \\n108x1250,00x0,60x0,00030x57/365 =\\n    *118,00\\n5,62\\n08113170\\n11\\n417\\n08113170\\n12\\n102\\n25\\n1\\n1,0000\\nΔΤ :\\nΔΦ:\\nτμ      χ      €/τμ     χ   συντ.ημερών\\nτμ     χ   τιμή ζώνης χ παλαιότητα χ  συντ.ΤΑΠ  χ  συντ.ημερών\\nΤΑΠ:\\n40,22\\nετήσια χρέωση  χ   συντ.ημερών   -  ΕΝΑΝΤΙ ΕΡΤ\\n=\\n35,08\\n144 x 1,56 x57/365\\nΦΠΑ\\n62,79 x\\n13%\\n=\\n8,17\\nΑΔΜΗΕ:Σύστημα Μεταφοράς Η/Ε\\n      2,71\\n(25kVAx57/365x0,130€/kVA)+(417kWhx0,00527€/kWh)\\nΔΕΔΔΗΕ:Δίκτυο Διανομής Η/Ε\\n     10,99\\n(25kVAx57/365x0,540€/kVA)+(417kWhx0,02130€/kWh)\\nΥΚΩ:Υπηρεσίες Κοινής Ωφέλειας\\n      3,58\\nΗΜΕΡΑΣ  57νημ (417kWh x 0,00690€/kWh)\\nΝΥΧΤΑΣ   57νημ (102kWh x 0,00690€/kWh)\\nΕΤΜΕΑΡ\\n    11,77\\n519kWhx0,02267€/kWh\\nΛοιπές Χρεώσεις\\n      0,04\\n417kWhx0,00007€/kWh\\n102kWhx0,00007€/kWh\\nΧΡΕΩΣΗ ΕΝΤΥΠΟΥ (Χ)         \\n1,00\\nΦΠΑ ΕΣΟΔΩΝ 24%             \\n0,24\\nΣτρογγ/ση Πληρ.Ποσού      \\n-0,39\\nΠοσό Στρογγ.Προηγ.Λογ.     \\n0,35\\n108 x 0,08 x57/365\\n=\\n1,35\\n   286\\nΛΑΡΙΣΑΣ\\n4 40611581-01 1\\n4020 18 58 113000\\n19/02/2019 - 16/04/2019\\n17/05/2019\\n    *118,00€\\n00009464\\nA 4\\n���������\\n     1080628960010\\n300005250337\\nΤΣΙΜΠΟΥΚΗΣ ΑΘΑΝΑΣΙΟΣ\\n25ΗΣ ΜΑΡΤΙΟΥ 25\\n412 21 ΛΑΡΙΣΑ\\n108-2019\\n3,79\\nΣε συνέχεια του υπ' αριθμού A/A Λογαριασμού  1173908575 - 18/04/2019   με αριθμό παροχής    4 40611581-01 1\\n     33,70\\n29,09\\n8,17\\n \\n5,62\\n          1,20\\nRF53 9077 3800 0300 0052 5033 7\\n000000118,00   0\\n�������������������������\\n�������������������������\\n�������������������������\\n�������������������������\\n������������������������\\n\""
      ]
     },
     "execution_count": 9,
     "metadata": {},
     "output_type": "execute_result"
    }
   ],
   "source": [
    "pdf_text[28]"
   ]
  },
  {
   "cell_type": "code",
   "execution_count": 10,
   "metadata": {},
   "outputs": [
    {
     "name": "stdout",
     "output_type": "stream",
     "text": [
      "18/12/2019\n"
     ]
    }
   ],
   "source": [
    "import re\n",
    "\n",
    "text = \"Σε συνέχεια του υπ' αριθμού A/A Λογαριασμού 1259012181 - 26/05/2021 με αριθμό παροχής\"\n",
    "pattern = r'(\\d+)\\s*-\\s*(\\d{2}/\\d{2}/\\d{4})'\n",
    "\n",
    "match = re.search(pattern, pdf_text[32])\n",
    "if match:\n",
    "    date = match.group(2)\n",
    "    print(date)\n",
    "else:\n",
    "    print(\"No match found\")\n"
   ]
  },
  {
   "cell_type": "code",
   "execution_count": 11,
   "metadata": {},
   "outputs": [
    {
     "name": "stdout",
     "output_type": "stream",
     "text": [
      "<re.Match object; span=(1255, 1298), match='Κατανάλωσης\\n23/02/2023     -     23/03/2023'>\n"
     ]
    }
   ],
   "source": [
    "import re\n",
    "\n",
    "# Define the text to search\n",
    "text = \"ότι Η Έκδοσης του βιβλίου ολοκληρώθηκε επιτέλους!\"\n",
    "#re.findall(r\"\\d{2}/\\d{2}/\\d{4}\",text)\n",
    "# Define the regular expression to search for Greek letters\n",
    "#regex = \"[Α-Ωα-ωάέ]+\"\n",
    "#Έκδοσης\\n24/03/2023\n",
    "regex_date_publish = re.compile(r'Έκδοσης\\n\\d{2}/\\d{2}/\\d{4}')\n",
    "regex_date_period = re.compile(r'Κατανάλωσης\\n\\d{2}/\\d{2}/\\d{4}')\n",
    "regex_date_period = re.compile(r'(Κατανάλωσης)\\n(\\d{2}/\\d{2}/\\d{4})\\s+-\\s+(\\d{2}/\\d{2}/\\d{4})')\n",
    "# Use the findall method to search for all occurrences of Greek letters in the text\n",
    "matches = re.search(regex_date_period, pdf_text[-1])\n",
    "\n",
    "# Print the matches\n",
    "print(matches)"
   ]
  },
  {
   "cell_type": "code",
   "execution_count": 12,
   "metadata": {},
   "outputs": [
    {
     "name": "stdout",
     "output_type": "stream",
     "text": [
      "<re.Match object; span=(12, 30), match='Έκδοσης\\n24/03/2023'>\n",
      "Έκδοσης\n",
      "24/03/2023\n"
     ]
    }
   ],
   "source": [
    "import re\n",
    "\n",
    "text = 'Lorem ipsum Έκδοσης\\n24/03/2023 dolor sit amet.'\n",
    "\n",
    "pattern = re.compile(r'(Έκδοσης)\\n(\\d{2}/\\d{2}/\\d{4})')\n",
    "\n",
    "match = pattern.search(text)\n",
    "print(match)\n",
    "if match:\n",
    "    word = match.group(1)\n",
    "    date = match.group(2)\n",
    "    print(word) # output: Έκδοσης\n",
    "    print(date) # output: 24/03/2023"
   ]
  },
  {
   "cell_type": "code",
   "execution_count": 13,
   "metadata": {},
   "outputs": [
    {
     "name": "stdout",
     "output_type": "stream",
     "text": [
      "10 days, 0:00:00\n"
     ]
    }
   ],
   "source": [
    "# # date in yyyy/mm/dd format\n",
    "# d1 = dt.datetime(2018, 5, 3)\n",
    "# d2 = dt.datetime(2018, 6, 1)\n",
    "  \n",
    "# # Comparing the dates will return\n",
    "# # either True or False\n",
    "# print(\"d1 is greater than d2 : \", d1 > d2)\n",
    "# print(\"d1 is less than d2 : \", d1 < d2)\n",
    "# print(\"d1 is not equal to d2 : \", d1 != d2)\n",
    "from datetime import datetime\n",
    "date_time_obj = datetime.strptime('30/06/2016','%d/%m/%Y')\n",
    "date_time_obj_2 = datetime.strptime('20/06/2016','%d/%m/%Y')\n",
    "print(date_time_obj.date()-date_time_obj_2.date())"
   ]
  },
  {
   "cell_type": "code",
   "execution_count": 35,
   "metadata": {},
   "outputs": [
    {
     "name": "stdout",
     "output_type": "stream",
     "text": [
      "Add zero if the bill is negative\n",
      "2000-01-01\n"
     ]
    },
    {
     "ename": "IndexError",
     "evalue": "list index out of range",
     "output_type": "error",
     "traceback": [
      "\u001b[0;31m---------------------------------------------------------------------------\u001b[0m",
      "\u001b[0;31mIndexError\u001b[0m                                Traceback (most recent call last)",
      "Cell \u001b[0;32mIn[35], line 15\u001b[0m\n\u001b[1;32m     13\u001b[0m find_amount(f,monthly_pay)\n\u001b[1;32m     14\u001b[0m \u001b[39m#Next, find the date of consumption.\u001b[39;00m\n\u001b[0;32m---> 15\u001b[0m find_date(f,begin_consumption,end_consumption,date_bill,monthly_pay)\n\u001b[1;32m     16\u001b[0m \u001b[39m#Finally, find the consumption of kWh.\u001b[39;00m\n\u001b[1;32m     17\u001b[0m find_consumption(f,consumption)\n",
      "Cell \u001b[0;32mIn[34], line 68\u001b[0m, in \u001b[0;36mfind_date\u001b[0;34m(text, begin, end, bill, amount)\u001b[0m\n\u001b[1;32m     66\u001b[0m \u001b[39mprint\u001b[39m(dt_d\u001b[39m.\u001b[39mdate())\n\u001b[1;32m     67\u001b[0m \u001b[39mif\u001b[39;00m dt_d\u001b[39m<\u001b[39mcheck_date:\n\u001b[0;32m---> 68\u001b[0m     begin\u001b[39m.\u001b[39mappend(dts[\u001b[39m1\u001b[39;49m])\n\u001b[1;32m     69\u001b[0m     end\u001b[39m.\u001b[39mappend(dts[\u001b[39m2\u001b[39m])\n\u001b[1;32m     70\u001b[0m \u001b[39melse\u001b[39;00m:\n",
      "\u001b[0;31mIndexError\u001b[0m: list index out of range"
     ]
    }
   ],
   "source": [
    "#Extract the info that we want\n",
    "#Katanalosi, euro and date\n",
    "monthly_pay=[]\n",
    "consumption=[]\n",
    "begin_consumption=[]\n",
    "end_consumption=[]\n",
    "date_bill=[]\n",
    "dates=[]\n",
    "\n",
    "#Iterate over the extracted PDF text.\n",
    "for f in pdf_text:\n",
    "    #First, find what do we pay each month.\n",
    "    find_amount(f,monthly_pay)\n",
    "    #Next, find the date of consumption.\n",
    "    find_date(f,begin_consumption,end_consumption,date_bill,monthly_pay)\n",
    "    #Finally, find the consumption of kWh.\n",
    "    find_consumption(f,consumption)\n"
   ]
  },
  {
   "cell_type": "code",
   "execution_count": null,
   "metadata": {},
   "outputs": [
    {
     "name": "stdout",
     "output_type": "stream",
     "text": [
      "False\n",
      "2800.0\n"
     ]
    }
   ],
   "source": [
    "#fix delimiter in new bills\n",
    "\n",
    "number = consumption[-1]  # Float value with a point as a thousand separator\n",
    "tst=str(number).split(\".\")\n",
    "print(tst[1]>tst[0])\n",
    "number = str(number).replace(\".\", \"\")  # Remove the point\n",
    "number = float(number)  # Convert the result back to float\n",
    "print(number)"
   ]
  },
  {
   "cell_type": "code",
   "execution_count": null,
   "metadata": {},
   "outputs": [],
   "source": [
    "#fix point delimiter considered as thousand in new bills\n",
    "for month in consumption:\n",
    "    try:\n",
    "        #Check if consumption has a point delimiter that denotes thousand instead of decimal\n",
    "        check=str(month).split(\".\")\n",
    "        if check[1]>check[0]: #It is going to have at least 3 values after the point that denotes thousands\n",
    "            number = str(month).replace(\".\", \"\")  # Remove the point\n",
    "            consumption[consumption.index(month)] = float(number)  # Convert the result back to float\n",
    "    except:\n",
    "        pass"
   ]
  },
  {
   "cell_type": "code",
   "execution_count": null,
   "metadata": {},
   "outputs": [],
   "source": [
    "# Calling DataFrame constructor after zipping\n",
    "# both lists, with columns specified\n",
    "df = pd.DataFrame(list(zip(date_bill,begin_consumption, end_consumption,consumption,monthly_pay,pdf_files)),\n",
    "               columns =['Date_bill','Start', 'End','Consumption','Bill','Pdf_file'])\n",
    "# forming dataframe\n",
    "data = pd.DataFrame(df) \n",
    "\n",
    "#\n",
    "# storing into the excel file\n",
    "data.to_excel(\"output.xlsx\")"
   ]
  },
  {
   "cell_type": "code",
   "execution_count": null,
   "metadata": {},
   "outputs": [],
   "source": [
    "#df.groupby(pd.to_datetime(df['Start of consumption']).dt.year).sum()\n",
    "\n",
    "df['quarter'] = pd.to_datetime(df['Date_bill']).dt.quarter\n",
    "df['year'] = pd.to_datetime(df['Date_bill']).dt.year\n",
    "#df.quarter=df.quarter.astype(str)\n",
    "#df.groupby(df['quarter']).sum()\n",
    "#type(df['quarter'])"
   ]
  },
  {
   "cell_type": "code",
   "execution_count": null,
   "metadata": {},
   "outputs": [],
   "source": [
    "#test=df.groupby(df['quarter']).sum()\n",
    "#test.dtypes"
   ]
  },
  {
   "cell_type": "code",
   "execution_count": null,
   "metadata": {},
   "outputs": [
    {
     "data": {
      "text/plain": [
       "<matplotlib.legend.Legend at 0x19d83e099a0>"
      ]
     },
     "execution_count": 60,
     "metadata": {},
     "output_type": "execute_result"
    },
    {
     "data": {
      "image/png": "[encoded data removed]",
      "text/plain": [
       "<Figure size 1440x648 with 1 Axes>"
      ]
     },
     "metadata": {
      "needs_background": "light"
     },
     "output_type": "display_data"
    }
   ],
   "source": [
    "import pandas as pd\n",
    "import matplotlib.pyplot as plt\n",
    "import numpy as np\n",
    "\n",
    "# group data by year and quarter\n",
    "grouped = df.groupby(['year','quarter']).sum()\n",
    "\n",
    "# reshape data into a pivot table\n",
    "pivot = grouped.pivot_table(index='quarter', columns='year', values=['Bill','Consumption'], aggfunc=np.sum)\n",
    "\n",
    "# create the bar chart\n",
    "ax = pivot.plot(kind='bar', figsize=(20,9))\n",
    "\n",
    "# set the x-axis label and tick labels\n",
    "ax.set_xlabel('Quarter')\n",
    "ax.set_xticklabels(pivot.index, rotation=0)\n",
    "\n",
    "# set the y-axis label\n",
    "ax.set_ylabel('Bill [Euro]')\n",
    "\n",
    "# set the legend\n",
    "ax.legend(title='Year', bbox_to_anchor=(1.05, 1), loc='upper left')"
   ]
  },
  {
   "cell_type": "code",
   "execution_count": null,
   "metadata": {},
   "outputs": [],
   "source": [
    "import numpy as np\n",
    "import matplotlib.pyplot as plt\n",
    "\n",
    "#set width of bar\n",
    "barWidth = 0.25\n",
    "fig = plt.subplots(figsize =(12, 8))\n",
    "\n",
    "# set height of bar\n",
    "Q1 = [12, 30, 1, 8, 22]\n",
    "Q2 = [28, 6, 16, 5, 10]\n",
    "Q3 = [29, 3, 24, 25, 17]\n",
    "Q4 = [29, 3, 24, 25, 17]\n",
    "\n",
    "# Set position of bar on X axis\n",
    "br1 = np.arange(len(Q1))\n",
    "br2 = [x + barWidth for x in br1]\n",
    "br3 = [x + barWidth for x in br2]\n",
    "br4 = [x + barWidth for x in br3]\n",
    "\n",
    "# Make the plot\n",
    "plt.bar(br1, Q1, color ='r', width = barWidth,\n",
    "\t\tedgecolor ='grey', label ='Q1')\n",
    "plt.bar(br2, Q2, color ='g', width = barWidth,\n",
    "\t\tedgecolor ='grey', label ='Q2')\n",
    "plt.bar(br3, Q3, color ='b', width = barWidth,\n",
    "\t\tedgecolor ='grey', label ='Q3')\n",
    "plt.bar(br4, Q4, color ='b', width = barWidth,\n",
    "\t\tedgecolor ='grey', label ='Q4')\n",
    "\n",
    "# Adding Xticks\n",
    "plt.xlabel('Branch', fontweight ='bold', fontsize = 15)\n",
    "plt.ylabel('Students passed', fontweight ='bold', fontsize = 15)\n",
    "plt.xticks([r + barWidth for r in range(len(Q1))],\n",
    "\t\t['2015', '2016', '2017', '2018', '2019'])\n",
    "\n",
    "plt.legend()\n",
    "plt.show()\n"
   ]
  },
  {
   "cell_type": "code",
   "execution_count": null,
   "metadata": {},
   "outputs": [],
   "source": [
    "import matplotlib.pyplot as plt\n",
    "import numpy as np\n",
    "\n",
    "quarters = ['Q1', 'Q2', 'Q3', 'Q4']\n",
    "year1 = [100, 150, 200, 250]\n",
    "year2 = [125, 175, 225, 275]\n",
    "year3 = [110, 170, 210, 280]\n",
    "\n",
    "x = np.arange(len(quarters))  # the x locations for the quarters\n",
    "width = 0.2  # the width of the bars\n",
    "\n",
    "fig, ax = plt.subplots()\n",
    "rects1 = ax.bar(x - width, year1, width, label='Year 1')\n",
    "rects2 = ax.bar(x, year2, width, label='Year 2')\n",
    "rects3 = ax.bar(x + width, year3, width, label='Year 3')\n",
    "\n",
    "# Add some text for labels, title and custom x-axis tick labels, etc.\n",
    "ax.set_ylabel('Energy Bill')\n",
    "ax.set_title('Energy Bills by Quarter and Year')\n",
    "ax.set_xticks(x)\n",
    "ax.set_xticklabels(quarters)\n",
    "ax.legend()\n",
    "\n",
    "fig.tight_layout()\n",
    "\n",
    "plt.show()\n"
   ]
  },
  {
   "cell_type": "code",
   "execution_count": null,
   "metadata": {},
   "outputs": [
    {
     "data": {
      "image/png": "[encoded data removed]",
      "text/plain": [
       "<Figure size 1440x720 with 2 Axes>"
      ]
     },
     "metadata": {
      "needs_background": "light"
     },
     "output_type": "display_data"
    }
   ],
   "source": [
    "#Results for each a year\n",
    "df_year=df.groupby(pd.to_datetime(df['Date_bill']).dt.year).sum()\n",
    "\n",
    "# Create a figure with two subplots side by side\n",
    "fig, axs = plt.subplots(1, 2, figsize=(20, 10))\n",
    "\n",
    "# Plot the first bar figure in the left subplot\n",
    "axs[0].bar(df_year.index, df_year['Bill'])\n",
    "axs[0].set_title('Bill')\n",
    "axs[0].set_ylabel('[EURO]')\n",
    "axs[0].set_xlabel('Year')\n",
    "# Plot the second bar figure in the right subplot\n",
    "axs[1].bar(df_year.index, df_year['Consumption'])\n",
    "axs[1].set_title('Consumption')\n",
    "axs[1].set_ylabel('[kWh]')\n",
    "axs[1].set_xlabel('Year')\n",
    "# Add a title to the overall figure\n",
    "fig.suptitle('Comparison by year', fontsize=16)\n",
    "# Display the plot\n",
    "plt.show()\n"
   ]
  },
  {
   "cell_type": "code",
   "execution_count": null,
   "metadata": {},
   "outputs": [],
   "source": [
    "#pdf_files\n",
    "#pdf_text[-1]\n",
    "\n",
    "#PyPDF2 doenst work!\n",
    "# for file in pdf_files[0:1]:\n",
    "#     f = open(file,'rb')\n",
    "\n",
    "#     # List of every page's text.\n",
    "#     # The index will correspond to the page number.\n",
    "#     pdf_text = []\n",
    "\n",
    "#     pdf_reader = PyPDF2.PdfReader(f)\n",
    "\n",
    "#     for p in range(len(pdf_reader.pages)):\n",
    "        \n",
    "#         single_page = pdf_reader.pages[p]\n",
    "\n",
    "#         pdf_text.append(single_page.extract_text())"
   ]
  },
  {
   "cell_type": "code",
   "execution_count": null,
   "metadata": {},
   "outputs": [],
   "source": []
  },
  {
   "cell_type": "code",
   "execution_count": null,
   "metadata": {},
   "outputs": [],
   "source": []
  }
 ],
 "metadata": {
  "kernelspec": {
   "display_name": "Python 3",
   "language": "python",
   "name": "python3"
  },
  "language_info": {
   "codemirror_mode": {
    "name": "ipython",
    "version": 3
   },
   "file_extension": ".py",
   "mimetype": "text/x-python",
   "name": "python",
   "nbconvert_exporter": "python",
   "pygments_lexer": "ipython3",
   "version": "3.10.6"
  },
  "orig_nbformat": 4,
  "vscode": {
   "interpreter": {
    "hash": "be96e54ac1641eb6b0b6e091bda5f4569f87f77d93d2c1fb370b248d11e29b0c"
   }
  }
 },
 "nbformat": 4,
 "nbformat_minor": 2
}
