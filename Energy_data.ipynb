{
 "cells": [
  {
   "cell_type": "code",
   "execution_count": 1,
   "metadata": {},
   "outputs": [],
   "source": [
    "import os\n",
    "import fnmatch\n",
    "import fitz #pip install PyMuPDF\n",
    "import re\n",
    "from datetime import datetime\n",
    "\n",
    "import pandas as pd\n",
    "import matplotlib.pyplot as plt\n",
    "import numpy as np"
   ]
  },
  {
   "cell_type": "code",
   "execution_count": 2,
   "metadata": {},
   "outputs": [],
   "source": [
    "\n",
    "#read all PDF files\n",
    "def find_all_files(path):\n",
    "    all_files = []\n",
    "\n",
    "    for root, dirs, files in os.walk(path):\n",
    "        for file in fnmatch.filter(files,'*.pdf'):\n",
    "#\n",
    "            full_path=os.path.abspath(file)\n",
    "            all_files.append(os.path.join(root, file))\n",
    "    return all_files"
   ]
  },
  {
   "cell_type": "code",
   "execution_count": 53,
   "metadata": {},
   "outputs": [],
   "source": [
    "#Specify the path of the folder to look the PDFs of the bills\n",
    "initial_folder='.'\n",
    "pdf_files=find_all_files(initial_folder)\n",
    "# List of every page's text.\n",
    "# # The index will correspond to the pdf number.\n",
    "pdf_text = []\n",
    "for file in pdf_files:\n",
    "   doc = fitz.open(file)\n",
    "   text = \"\"\n",
    "   for page in doc:\n",
    "      text+=page.get_text()\n",
    "   pdf_text.append(text)"
   ]
  },
  {
   "cell_type": "code",
   "execution_count": 4,
   "metadata": {},
   "outputs": [],
   "source": [
    "#Function to read the amount to pay. It always has the symbol * before the amount (in Euros), e.g., *195,00 \n",
    "def find_amount(text,amount):\n",
    "    match=re.search(r'\\*\\d{1,},\\d{1,}',text)\n",
    "    #add exception when there is a refund and no amount is written\n",
    "    try:\n",
    "        #print(match.group(0))\n",
    "        value=match.group(0)[1:]\n",
    "        value=value[:-1]\n",
    "        value=value.replace(',', '.')\n",
    "        amount.append(float(value))\n",
    "    except:\n",
    "        print('Add zero if the bill is negative')\n",
    "        amount.append(0)\n",
    "    else:\n",
    "         pass\n",
    "    return amount"
   ]
  },
  {
   "cell_type": "code",
   "execution_count": 5,
   "metadata": {},
   "outputs": [],
   "source": [
    "#Function to read the consumption of kWh \n",
    "def find_consumption(text,amount):\n",
    "    match=re.search(r\"\\d{1,} kWh|\\d.\\d{1,} kWh\",text)\n",
    "    #print(match)\n",
    "    #add exception when there is a refund and no amount is written\n",
    "    # ATTENTION::: FIX The \n",
    "    try:\n",
    "        #print(match.group(0))\n",
    "        value=match.group(0).split()\n",
    "        amount.append(float(value[0]))\n",
    "    except:\n",
    "        print('Add zero if there is no consumption')\n",
    "        amount.append(0)\n",
    "\n",
    "    return amount"
   ]
  },
  {
   "cell_type": "code",
   "execution_count": 63,
   "metadata": {},
   "outputs": [],
   "source": [
    "#Function to read the date of consumption \n",
    "def find_date(text,begin,end,bill,dts):\n",
    "    match=re.findall(r\"\\d{2}/\\d{2}/\\d{4}\",text)\n",
    "    #print(match)\n",
    "    #25/06/2022\n",
    "    #add exception when there is a refund and no amount is written\n",
    "    # try:\n",
    "    #     print(match.group(0))\n",
    "    #     #value=match.group(0).split()\n",
    "    #     #amount.append(value[0])\n",
    "    # except:\n",
    "    #     print('No data for period of consumption available')\n",
    "    #     amount.append(0)\n",
    "    #amount.append(match[1:3])\n",
    "    dts=[]\n",
    "    for dt in match:\n",
    "        date_time_obj = datetime.strptime(dt,'%d/%m/%Y')\n",
    "        #print(date_time_obj)\n",
    "        dts.append(date_time_obj.date())\n",
    "        #print(dts)\n",
    "    #Add date of bill\n",
    "    #match_bill==re.search(r\"Έκδοσης\\n\\d{2}/\\d{2}/\\d{4}\",text)\n",
    "    chk=re.match(r\"Έκδοσης\\n\\d{2}/\\d{2}/\\d{4}\",text==True)\n",
    "    if chk:\n",
    "        date_time_obj = datetime.strptime(chk,'%d/%m/%Y')\n",
    "        bill.append(dts[0])\n",
    "    else:\n",
    "        bill.append(dts[0])\n",
    "    #check date because the format of date changes after some bills\n",
    "    if (dts[1]<dts[2] and dts[2]<dts[3]):\n",
    "        begin.append(dts[1])\n",
    "        end.append(dts[2])\n",
    "    else:\n",
    "        begin.append(dts[2])\n",
    "        end.append(dts[3])       \n",
    "    return begin,end,dts"
   ]
  },
  {
   "cell_type": "code",
   "execution_count": 69,
   "metadata": {},
   "outputs": [
    {
     "ename": "TypeError",
     "evalue": "expected string or bytes-like object",
     "output_type": "error",
     "traceback": [
      "\u001b[0;31m---------------------------------------------------------------------------\u001b[0m",
      "\u001b[0;31mTypeError\u001b[0m                                 Traceback (most recent call last)",
      "Cell \u001b[0;32mIn[69], line 2\u001b[0m\n\u001b[1;32m      1\u001b[0m \u001b[39m#re.search(r\"Έκδοσης \\d{2}/\\d{2}/\\d{4}\",text==True)\u001b[39;00m\n\u001b[0;32m----> 2\u001b[0m re\u001b[39m.\u001b[39;49msearch(\u001b[39mr\u001b[39;49m\u001b[39m\"\u001b[39;49m\u001b[39mΈκδοσης\u001b[39;49m\u001b[39m\"\u001b[39;49m,text\u001b[39m==\u001b[39;49m\u001b[39mTrue\u001b[39;49;00m)\n",
      "File \u001b[0;32m/usr/lib/python3.10/re.py:200\u001b[0m, in \u001b[0;36msearch\u001b[0;34m(pattern, string, flags)\u001b[0m\n\u001b[1;32m    197\u001b[0m \u001b[39mdef\u001b[39;00m \u001b[39msearch\u001b[39m(pattern, string, flags\u001b[39m=\u001b[39m\u001b[39m0\u001b[39m):\n\u001b[1;32m    198\u001b[0m \u001b[39m    \u001b[39m\u001b[39m\"\"\"Scan through string looking for a match to the pattern, returning\u001b[39;00m\n\u001b[1;32m    199\u001b[0m \u001b[39m    a Match object, or None if no match was found.\"\"\"\u001b[39;00m\n\u001b[0;32m--> 200\u001b[0m     \u001b[39mreturn\u001b[39;00m _compile(pattern, flags)\u001b[39m.\u001b[39;49msearch(string)\n",
      "\u001b[0;31mTypeError\u001b[0m: expected string or bytes-like object"
     ]
    }
   ],
   "source": [
    "#re.search(r\"Έκδοσης \\d{2}/\\d{2}/\\d{4}\",text==True)\n",
    "re.search(r\"Έκδοσης\",text==True)"
   ]
  },
  {
   "cell_type": "code",
   "execution_count": 56,
   "metadata": {},
   "outputs": [
    {
     "data": {
      "text/plain": [
       "\"  \\n  \\nΑΔΜΗΕ-ΔΕΔΔΗΕ ....:\\n8,12\\nΥΚΩ..............:\\n1,93\\nΕΤΜΕΑΡ...........:\\n4,76\\nΛΟΙΠΕΣ ΧΡΕΩΣΕΙΣ..:\\nΔΙΑΦΟΡΕΣ ΧΡΕΩΣΕΙΣ:\\n0,29\\nΔΗΜΟΣ............:\\n25,88\\nΕΡΤ .............:\\n2,86\\nΚΑΤΑΝΑΛΩΣΗ ......:\\n280\\n1\\nΔΕΗ A.E.\\nΧαλκοκονδύλη 30, 104 32 Αθήνα,\\nΑ.Φ.Μ. 090000045, Δ.Ο.Υ. ΦΑΕ ΑΘΗΝΩΝ\\ndei.gr\\nΕΞΥΠΗΡΕΤΗΣΗ ΠΕΛΑΤΩΝ ΔΕΗ\\nΕΞΥΠΗΡΕΤΗΣΗ ΔΕΔΔΗΕ\\n��������\\n000128248097\\n�������������������������\\n�������������������������\\n�������������������������\\n�������������������������\\nΣκανάρετε\\nγια άμεση εξόφληση\\n800 900 1000 (ΔΩΡΕΑΝ)\\nΚΑΤΑΣΤΗΜΑ ΛΑΡΙΣΑΣ\\nΚΑΡΔΙΤΣΑΣ 99 & ΑΜΟΡΓΟΥ 413 35\\n800 400 4000 (ΔΩΡΕΑΝ)\\nΠληροφορίες | Βλάβες |\\nΚαταμέτρηση\\n016698\\nΤΣΙΜΠΟΥΚΗΣ ΑΘΑΝΑΣΙΟΣΧΡΗΣΤΟΣ\\n25ΗΣ ΜΑΡΤΙΟΥ 25\\n412 21 ΛΑΡΙΣΑ\\n5\\nΚωδικός ηλεκτρονικής πληρωμής\\nRF53907738000300005250337\\n������������������������\\n000000089,00  3\\nΈναντι\\nλογαριασμός\\nΤιμολόγιο:\\n myHome Open Ν\\nΔιεύθυνση ακινήτου:\\n25ΗΣ ΜΑΡΤΙΟΥ 25\\n412 21 ΛΑΡΙΣΑ\\nΕπόμενη καταμέτρηση:\\n23/06/2023\\nΑριθμός παροχής\\n4 40611581-01 1\\nΧρεώσεις προμήθειας ΔΕΗ\\n41 , 76€\\nΡυθμιζόμενες χρεώσεις\\n14 , 81€\\nΈναντι Κατανάλωσης\\nΔιάφορα - Δήμος - ΕΡΤ\\n29 , 03€\\nΦΠΑ\\n3 , 40€\\nΠροηγούμενο Ανεξόφλητο Ποσό\\nΑγνοήστε το εάν έχει πληρωθεί\\nΣυνολικό ποσό πληρωμής\\n*89 , 00€\\nΠΟΣΟ ΠΛΗΡΩΜΗΣ\\n*89,00€\\nΕΞΟΦΛΗΣΗ ΕΩΣ\\n19/04/2023\\nΗ κατανάλωσή σας\\nΚατανάλωση Ηλεκτρικής Ενέργειας 280 kWh\\nΠερίοδος Κατανάλωσης\\n23/02/2023     -     23/03/2023\\nΗμέρες\\n29\\nΗμ/νία Έκδοσης\\n24/03/2023\\nΑ/Α Λογαριασμού\\n1326321308\\nΣελίδα 1 από 2\\n  083-2023\\nEL-00016698\\n-11,20 €\\nΚλείστε τώρα ραντεβού, εύκολα & γρήγορα, σε ένα από τα επιλεγμένα καταστήματα, με ένα κλικ στο dei.gr\\nΈχετε ενεργοποιήσει Σύμβαση για το προϊόν myHome\\nOpen.\\nΗ Σύμβαση λήγει 29/12/2023.\\nΜε βάση το Νόμο 4951/2022 σας ενημερώνουμε ότι από 01/08/2022 δεν\\nεφαρμόζεται χρέωση Ρήτρας Αναπροσαρμογής στο τιμολόγιο σας.\\nΟι Χρεώσεις προ 01/08/2022 περιλαμβάνουν επιβαρύνσεις και εκπτώσεις όπως\\nίσχυαν πριν την εφαρμογή του ανωτέρω Νόμου.  Σύμφωνα με το Νόμο, από 1/8\\nτο νέο κυμαινόμενο τιμολόγιο σας αποτελείται από χρεώσεις που\\nμεταβάλλονται κάθε ημερολογιακό μήνα κι ανακοινώνονται ένα μήνα εκ των\\nπροτέρων. Για περισσότερες πληροφορίες επισκεφτείτε το  http://www.dei.gr\\nΠοσό Επιδότησης\\nΚράτους στον\\nΛογαριασμό\\n  \\n  \\nΑΔΜΗΕ-ΔΕΔΔΗΕ ....:\\n8,12\\nΥΚΩ..............:\\n1,93\\nΕΤΜΕΑΡ...........:\\n4,76\\nΛΟΙΠΕΣ ΧΡΕΩΣΕΙΣ..:\\nΔΙΑΦΟΡΕΣ ΧΡΕΩΣΕΙΣ:\\n0,29\\nΔΗΜΟΣ............:\\n25,88\\nΕΡΤ .............:\\n2,86\\nΚΑΤΑΝΑΛΩΣΗ ......:\\n280\\n1\\nΔΕΗ A.E.\\nΧαλκοκονδύλη 30, 104 32 Αθήνα,\\nΑ.Φ.Μ. 090000045, Δ.Ο.Υ. ΦΑΕ ΑΘΗΝΩΝ\\ndei.gr\\nΕΞΥΠΗΡΕΤΗΣΗ ΠΕΛΑΤΩΝ ΔΕΗ\\nΕΞΥΠΗΡΕΤΗΣΗ ΔΕΔΔΗΕ\\n��������\\n000128248097\\n�������������������������\\n�������������������������\\n�������������������������\\n�������������������������\\nΣκανάρετε\\nγια άμεση εξόφληση\\n800 900 1000 (ΔΩΡΕΑΝ)\\nΚΑΤΑΣΤΗΜΑ ΛΑΡΙΣΑΣ\\nΚΑΡΔΙΤΣΑΣ 99 & ΑΜΟΡΓΟΥ 413 35\\n800 400 4000 (ΔΩΡΕΑΝ)\\nΠληροφορίες | Βλάβες |\\nΚαταμέτρηση\\n016698\\nΤΣΙΜΠΟΥΚΗΣ ΑΘΑΝΑΣΙΟΣΧΡΗΣΤΟΣ\\n25ΗΣ ΜΑΡΤΙΟΥ 25\\n412 21 ΛΑΡΙΣΑ\\n5\\nΚωδικός ηλεκτρονικής πληρωμής\\nRF53907738000300005250337\\n������������������������\\n000000089,00  3\\nΈναντι\\nλογαριασμός\\nΤιμολόγιο:\\n myHome Open Ν\\nΔιεύθυνση ακινήτου:\\n25ΗΣ ΜΑΡΤΙΟΥ 25\\n412 21 ΛΑΡΙΣΑ\\nΕπόμενη καταμέτρηση:\\n23/06/2023\\nΑριθμός παροχής\\n4 40611581-01 1\\nΧρεώσεις προμήθειας ΔΕΗ\\n41 , 76€\\nΡυθμιζόμενες χρεώσεις\\n14 , 81€\\nΈναντι Κατανάλωσης\\nΔιάφορα - Δήμος - ΕΡΤ\\n29 , 03€\\nΦΠΑ\\n3 , 40€\\nΠροηγούμενο Ανεξόφλητο Ποσό\\nΑγνοήστε το εάν έχει πληρωθεί\\nΣυνολικό ποσό πληρωμής\\n*89 , 00€\\nΠΟΣΟ ΠΛΗΡΩΜΗΣ\\n*89,00€\\nΕΞΟΦΛΗΣΗ ΕΩΣ\\n19/04/2023\\nΗ κατανάλωσή σας\\nΚατανάλωση Ηλεκτρικής Ενέργειας 280 kWh\\nΠερίοδος Κατανάλωσης\\n23/02/2023     -     23/03/2023\\nΗμέρες\\n29\\nΗμ/νία Έκδοσης\\n24/03/2023\\nΑ/Α Λογαριασμού\\n1326321308\\nΣελίδα 1 από 2\\n  083-2023\\nEL-00016698\\n-11,20 €\\nΚλείστε τώρα ραντεβού, εύκολα & γρήγορα, σε ένα από τα επιλεγμένα καταστήματα, με ένα κλικ στο dei.gr\\nΈχετε ενεργοποιήσει Σύμβαση για το προϊόν myHome\\nOpen.\\nΗ Σύμβαση λήγει 29/12/2023.\\nΜε βάση το Νόμο 4951/2022 σας ενημερώνουμε ότι από 01/08/2022 δεν\\nεφαρμόζεται χρέωση Ρήτρας Αναπροσαρμογής στο τιμολόγιο σας.\\nΟι Χρεώσεις προ 01/08/2022 περιλαμβάνουν επιβαρύνσεις και εκπτώσεις όπως\\nίσχυαν πριν την εφαρμογή του ανωτέρω Νόμου.  Σύμφωνα με το Νόμο, από 1/8\\nτο νέο κυμαινόμενο τιμολόγιο σας αποτελείται από χρεώσεις που\\nμεταβάλλονται κάθε ημερολογιακό μήνα κι ανακοινώνονται ένα μήνα εκ των\\nπροτέρων. Για περισσότερες πληροφορίες επισκεφτείτε το  http://www.dei.gr\\nΠοσό Επιδότησης\\nΚράτους στον\\nΛογαριασμό\\nΣε συνέχεια του υπ' αριθμού Α/Α Λογαριασμού 1326321308 - 24/03/2023 με αριθμό παροχής  4 40611581-01 1\\nΤα στοιχεία σας\\nΚωδικός Εταίρου :\\n1104756372\\nΛογ. Συμβολαίου :\\n300005250337\\nΣτοιχεία Πελάτη :\\n4020 18 58 113000\\nΑρ. Παραστατικού :\\n747603346336\\nΑΦΜ/ΑΔΤ :\\n018057610\\nΕγγύηση :\\n71,31€\\nΕνδείξεις Μετρητή\\nΑριθμός\\nΜετρητή\\nΤύπος\\nΈνδειξης\\nΤελευταία\\nΚαταμέτρηση\\nΠροηγούμενη\\nΚαταμέτρηση\\nΔιαφορά\\nΚαταμέτρησης\\nΠροσθ.\\nKwh\\nΣύνολο\\nΚατανάλωσης\\n08113170\\n11\\n0\\n222\\n08113170\\n12\\n0\\n58\\nΣυμφωνημένη Ισχύς\\nΠαροχής (kVA)\\nΣυντ.\\nΜετ/σμού\\nΣυντ.\\nΧρησ/σης\\nσυνφ.\\nΧρεωστέα\\nΖήτηση (kW)\\n25\\n1\\n1,0000\\nΑναλυτικά οι χρεώσεις\\nΑξία σε €\\nΧρεώσεις Προμήθειας ΔΕΗ\\n41 , 76\\nΕπιδότηση Κράτους\\n- 1 1 , 20\\nΠάγια Χρέωση\\n4 , 83\\nkWh 46X0,19500€/kWh\\n8 , 97\\nkWh 176X0,19102€/kWh\\n33 , 62\\nkWh 12X0,15417€/kWh\\n1 , 85\\nkWh 46X0,15000€/kWh\\n6 , 90\\nΈκπτωση Συνέπειας\\n-3 , 2 1\\nΡυθμιζόμενες Χρεώσεις\\n14,81\\nΑΔΜΗΕ:Σύστημα Μεταφοράς Η/Ε\\n2 , 36\\n(222kWhx0,00844€/kWh)+\\n(58kWhx0,00844€/kWh)\\nΔΕΔΔΗΕ:Δίκτυο Διανομής Η/Ε\\n5 , 76\\n(25kVAx29/365x0,520€/kVA)+(222kWhx0,02130€/kWh)\\nΥΚΩ:Υπηρεσίες Κοινής Ωφέλειας\\n1 , 93\\nΗΜΕΡΑΣ  29νημ (222kWh x 0,00690€/kWh)\\nΝΥΧΤΑΣ   29νημ (58kWh x 0,00690€/kWh)\\nΕΤΜΕΑΡ\\n4 , 76\\n(280kWhx0,01700€/kWh)\\nΈναντι Κατανάλωσης\\nΔιάφορα\\n0,29\\nΣτρογγ/ση Πληρ.Ποσού\\n0 , 25\\nΠοσό Στρογγ.Προηγ.Λογ.\\n0 , 04\\nΦΠΑ\\n3,40\\nΦΠΑ ΡΕΥΜΑΤΟΣ\\n56,57\\nx\\n6%\\n=\\n3 , 40\\nΔήμος    ΛΑΡΙΣΑΙΩΝ\\n25,88\\nτμ\\nx\\n€/τμ\\nx\\nσυντ. ημερών\\nΔΤ :\\n182\\nx\\n1,56\\nx\\n29/365\\n=\\n22 , 56\\nΔΦ:\\n137\\nx\\n0,08\\nx\\n29/365\\n=\\n0 , 87\\nτμ\\nx τιμή ζώνης x παλαιότητα x συντ. ΤΑΠ x συντ. ημερών\\nΤΑΠ: 137\\nx 1250,00 x\\n0,60\\nx 0,00030 x\\n29/365\\n=\\n2 , 45\\nΕΡΤ\\n2,86\\nετήσια χρέωση\\nx\\nσυντ. ημερών -\\nΕΝΑΝΤΙ ΕΡΤ\\n36,00\\nx\\n29/365\\n2 , 86\\nΕΝΕΡΓΕΙΑΚΟ ΜΕΙΓΜΑ 2021 ΓΙΑ ΤΗ ΔΕΗ ΑΕ  (πηγή ΔΑΠΕΕΠ)\\nΠρωτογενής Παραγωγή & Εισαγωγή\\nΑνανεώσιμες Πηγές Ενέργειας 28,85% | Λιγνίτης 9,48% | Φυσικό Αέριο 43,32%\\nΠετρέλαιο 7,22%  |  Λοιπά Ορυκτά Καύσιμα 7,92%  |  Πυρηνική Ενέργεια 3,21%\\nΠεριβαλλοντικές Επιπτώσεις\\nΕκπομπές CO2 (g CO2/kWh) 407,35    |    Ραδιενεργά Απόβλητα (mgRW/kW) 0,13\\nΗ ΔΕΗ υποδέχεται τις ενδείξεις σας από 19/04/2023 έως 24/04/2023\\nστο ebill και στα Καταστήματά της.\\nΤρόποι εξόφλησης λογαριασμών\\n① Στα ταμεία της ΔΕΗ, (με μετρητά ή χρήση κάρτας), χωρίς επιβάρυνση\\n② Ηλεκτρονικά με χρήση κάρτας στο dei.gr, χωρίς επιβάρυνση\\n③ Στις συνεργαζόμενες τράπεζες με πάγια εντολή, e-banking,\\nphone-banking, στα ΑΤΜ, στα Μηχανήματα Αυτόματων\\nΣυναλλαγών και στα ταμεία των καταστημάτων τους\\n④ Στα ιδρύματα πληρωμών, ιδρύματα ηλεκτρονικού χρήματος και\\nτους πιστοποιημένους αντιπροσώπους αυτών (Ν.4021/2011 και\\nΝ.4537.2018), όπως, σε καταστήματα ΟΠΑΠ σε όλη την Ελλάδα\\n⑤ Μέσω εμβασμάτων SEPA χρησιμοποιώντας τα στοιχεία BIC ETHNGRAA\\nκαι IBAN GR6901100400000004020086700 (υποχρεωτικός ο Κωδικός\\nΗλεκτρονικής Πληρωμής)\\nΠερισσότερες πληροφορίες στο dei.gr. Oι λογαριασμοί μετά τη λήξη\\nτους εξοφλούνται με δική σας ευθύνη, με όλους τους παραπάνω\\nτρόπους.\\nΣημαντική ενημέρωση\\nΣε περίπτωση εκπρόθεσμης εξόφλησης του λογαριασμού,\\nεπιβαρύνεστε με τόκους υπερημερίας και ενδέχεται:\\n① Να διακοπεί η ηλεκτροδότησή σας μετά από σχετική ειδοποίηση\\n② Να γίνει καταγγελία της σύμβασης προμήθειας ηλεκτρικής ενέργειας\\nΣε περίπτωση διακοπής ρεύματος, για την επανασύνδεση επιβαρύνεστε\\nμε έξοδα επανασύνδεσης & εφόσον απαιτείται, αναπροσαρμόζεται η\\nεγγύηση. Εφόσον υπάρχουν ληξιπρόθεσμες οφειλές, εξουσιοδοτημένοι\\nσυνεργάτες δύναται να επικοινωνήσουν μαζί σας με σκοπό τη σχετική\\nενημέρωσή σας (Ν.3758/09 & Κώδικας Προμήθειας σε Πελάτες ΦΕΚ\\n832/ τΒ/9.4.13). • Η συλλογή και επεξεργασία των δεδομένων\\nπροσωπικού χαρακτήρα από τη ΔΕΗ πραγματοποιείται σύννομα και\\nσύμφωνα με τις προβλέψεις του Κανονισμού (ΕΕ) 679/2016, όπως αυτές\\nενσωματώνονται στη Δήλωση Προστασίας Προσωπικών Δεδομένων της\\nΔΕΗ. • Η ΔΕΗ Α.Ε. προχώρησε σε τιτλοποίηση απαιτήσεων της έως 60\\nημέρες και άνω των 90 ημερών. Μπορείτε να ενημερωθείτε σχετικά με\\nτην τιτλοποίηση και τα ζητήματα προστασίας δεδομένων προσωπικού\\nχαρακτήρα στην ιστοσελίδα μας https://www.dei.gr/el/titlop.\\nΧρήσιμες πληροφορίες\\nΓια οποιαδήποτε πληροφορία, αίτημα ή παράπονο καλέστε στο\\n800 900 1000 ΔΩΡΕΑΝ (ή στο +30 211 211 0770 από το εξωτερικό),\\nεπισκεφθείτε το dei.gr ή απευθυνθείτε σε οποιοδήποτε κατάστημα ΔΕΗ.\\n• Σε περίπτωση διαφωνίας ως προς τις χρεώσεις του λογαριασμού,\\nαντιρρήσεις υποβάλλονται εγγράφως, πριν τη λήξη του επόμενου\\nλογαριασμού από αυτόν που αμφισβητείται. • Ανεξάρτητη Αρχή στην\\nοποία μπορείτε να απευθυνθείτε για εξωδικαστική επίλυση της\\nδιαφοράς σας, είναι ο Συνήγορος του Καταναλωτή (Λ. Αλεξάνδρας 144,\\n114 71 Αθήνα, τηλ: 210 6460862, 210 6460814). • Σε περίπτωση παραβίασης\\nτου θεσμικού πλαισίου εκ μέρους της ΔΕΗ, έχετε τη δυνατότητα\\nυποβολής αιτιολογημένης καταγγελίας ενώπιον της PAE, σύμφωνα με το\\nΝ.4001/2011, άρθρο 34. • Η κατανάλωση στους έναντι λογαριασμούς\\nεκτιμάται βάσει καταναλώσεων αντίστοιχης χρονικής περιόδου του\\nπροηγούμενου έτους και οι χρεώσεις, Προμήθειας και Ρυθμιζόμενες,\\nαποτυπώνονται αναλυτικά.\\nΣελίδα 2 από 2\\nΣε συνέχεια του υπ' αριθμού Α/Α Λογαριασμού 1326321308 - 24/03/2023 με αριθμό παροχής  4 40611581-01 1\\nΤα στοιχεία σας\\nΚωδικός Εταίρου :\\n1104756372\\nΛογ. Συμβολαίου :\\n300005250337\\nΣτοιχεία Πελάτη :\\n4020 18 58 113000\\nΑρ. Παραστατικού :\\n747603346336\\nΑΦΜ/ΑΔΤ :\\n018057610\\nΕγγύηση :\\n71,31€\\nΕνδείξεις Μετρητή\\nΑριθμός\\nΜετρητή\\nΤύπος\\nΈνδειξης\\nΤελευταία\\nΚαταμέτρηση\\nΠροηγούμενη\\nΚαταμέτρηση\\nΔιαφορά\\nΚαταμέτρησης\\nΠροσθ.\\nKwh\\nΣύνολο\\nΚατανάλωσης\\n08113170\\n11\\n0\\n222\\n08113170\\n12\\n0\\n58\\nΣυμφωνημένη Ισχύς\\nΠαροχής (kVA)\\nΣυντ.\\nΜετ/σμού\\nΣυντ.\\nΧρησ/σης\\nσυνφ.\\nΧρεωστέα\\nΖήτηση (kW)\\n25\\n1\\n1,0000\\nΑναλυτικά οι χρεώσεις\\nΑξία σε €\\nΧρεώσεις Προμήθειας ΔΕΗ\\n41 , 76\\nΕπιδότηση Κράτους\\n- 1 1 , 20\\nΠάγια Χρέωση\\n4 , 83\\nkWh 46X0,19500€/kWh\\n8 , 97\\nkWh 176X0,19102€/kWh\\n33 , 62\\nkWh 12X0,15417€/kWh\\n1 , 85\\nkWh 46X0,15000€/kWh\\n6 , 90\\nΈκπτωση Συνέπειας\\n-3 , 2 1\\nΡυθμιζόμενες Χρεώσεις\\n14,81\\nΑΔΜΗΕ:Σύστημα Μεταφοράς Η/Ε\\n2 , 36\\n(222kWhx0,00844€/kWh)+\\n(58kWhx0,00844€/kWh)\\nΔΕΔΔΗΕ:Δίκτυο Διανομής Η/Ε\\n5 , 76\\n(25kVAx29/365x0,520€/kVA)+(222kWhx0,02130€/kWh)\\nΥΚΩ:Υπηρεσίες Κοινής Ωφέλειας\\n1 , 93\\nΗΜΕΡΑΣ  29νημ (222kWh x 0,00690€/kWh)\\nΝΥΧΤΑΣ   29νημ (58kWh x 0,00690€/kWh)\\nΕΤΜΕΑΡ\\n4 , 76\\n(280kWhx0,01700€/kWh)\\nΈναντι Κατανάλωσης\\nΔιάφορα\\n0,29\\nΣτρογγ/ση Πληρ.Ποσού\\n0 , 25\\nΠοσό Στρογγ.Προηγ.Λογ.\\n0 , 04\\nΦΠΑ\\n3,40\\nΦΠΑ ΡΕΥΜΑΤΟΣ\\n56,57\\nx\\n6%\\n=\\n3 , 40\\nΔήμος    ΛΑΡΙΣΑΙΩΝ\\n25,88\\nτμ\\nx\\n€/τμ\\nx\\nσυντ. ημερών\\nΔΤ :\\n182\\nx\\n1,56\\nx\\n29/365\\n=\\n22 , 56\\nΔΦ:\\n137\\nx\\n0,08\\nx\\n29/365\\n=\\n0 , 87\\nτμ\\nx τιμή ζώνης x παλαιότητα x συντ. ΤΑΠ x συντ. ημερών\\nΤΑΠ: 137\\nx 1250,00 x\\n0,60\\nx 0,00030 x\\n29/365\\n=\\n2 , 45\\nΕΡΤ\\n2,86\\nετήσια χρέωση\\nx\\nσυντ. ημερών -\\nΕΝΑΝΤΙ ΕΡΤ\\n36,00\\nx\\n29/365\\n2 , 86\\nΕΝΕΡΓΕΙΑΚΟ ΜΕΙΓΜΑ 2021 ΓΙΑ ΤΗ ΔΕΗ ΑΕ  (πηγή ΔΑΠΕΕΠ)\\nΠρωτογενής Παραγωγή & Εισαγωγή\\nΑνανεώσιμες Πηγές Ενέργειας 28,85% | Λιγνίτης 9,48% | Φυσικό Αέριο 43,32%\\nΠετρέλαιο 7,22%  |  Λοιπά Ορυκτά Καύσιμα 7,92%  |  Πυρηνική Ενέργεια 3,21%\\nΠεριβαλλοντικές Επιπτώσεις\\nΕκπομπές CO2 (g CO2/kWh) 407,35    |    Ραδιενεργά Απόβλητα (mgRW/kW) 0,13\\nΗ ΔΕΗ υποδέχεται τις ενδείξεις σας από 19/04/2023 έως 24/04/2023\\nστο ebill και στα Καταστήματά της.\\nΤρόποι εξόφλησης λογαριασμών\\n① Στα ταμεία της ΔΕΗ, (με μετρητά ή χρήση κάρτας), χωρίς επιβάρυνση\\n② Ηλεκτρονικά με χρήση κάρτας στο dei.gr, χωρίς επιβάρυνση\\n③ Στις συνεργαζόμενες τράπεζες με πάγια εντολή, e-banking,\\nphone-banking, στα ΑΤΜ, στα Μηχανήματα Αυτόματων\\nΣυναλλαγών και στα ταμεία των καταστημάτων τους\\n④ Στα ιδρύματα πληρωμών, ιδρύματα ηλεκτρονικού χρήματος και\\nτους πιστοποιημένους αντιπροσώπους αυτών (Ν.4021/2011 και\\nΝ.4537.2018), όπως, σε καταστήματα ΟΠΑΠ σε όλη την Ελλάδα\\n⑤ Μέσω εμβασμάτων SEPA χρησιμοποιώντας τα στοιχεία BIC ETHNGRAA\\nκαι IBAN GR6901100400000004020086700 (υποχρεωτικός ο Κωδικός\\nΗλεκτρονικής Πληρωμής)\\nΠερισσότερες πληροφορίες στο dei.gr. Oι λογαριασμοί μετά τη λήξη\\nτους εξοφλούνται με δική σας ευθύνη, με όλους τους παραπάνω\\nτρόπους.\\nΣημαντική ενημέρωση\\nΣε περίπτωση εκπρόθεσμης εξόφλησης του λογαριασμού,\\nεπιβαρύνεστε με τόκους υπερημερίας και ενδέχεται:\\n① Να διακοπεί η ηλεκτροδότησή σας μετά από σχετική ειδοποίηση\\n② Να γίνει καταγγελία της σύμβασης προμήθειας ηλεκτρικής ενέργειας\\nΣε περίπτωση διακοπής ρεύματος, για την επανασύνδεση επιβαρύνεστε\\nμε έξοδα επανασύνδεσης & εφόσον απαιτείται, αναπροσαρμόζεται η\\nεγγύηση. Εφόσον υπάρχουν ληξιπρόθεσμες οφειλές, εξουσιοδοτημένοι\\nσυνεργάτες δύναται να επικοινωνήσουν μαζί σας με σκοπό τη σχετική\\nενημέρωσή σας (Ν.3758/09 & Κώδικας Προμήθειας σε Πελάτες ΦΕΚ\\n832/ τΒ/9.4.13). • Η συλλογή και επεξεργασία των δεδομένων\\nπροσωπικού χαρακτήρα από τη ΔΕΗ πραγματοποιείται σύννομα και\\nσύμφωνα με τις προβλέψεις του Κανονισμού (ΕΕ) 679/2016, όπως αυτές\\nενσωματώνονται στη Δήλωση Προστασίας Προσωπικών Δεδομένων της\\nΔΕΗ. • Η ΔΕΗ Α.Ε. προχώρησε σε τιτλοποίηση απαιτήσεων της έως 60\\nημέρες και άνω των 90 ημερών. Μπορείτε να ενημερωθείτε σχετικά με\\nτην τιτλοποίηση και τα ζητήματα προστασίας δεδομένων προσωπικού\\nχαρακτήρα στην ιστοσελίδα μας https://www.dei.gr/el/titlop.\\nΧρήσιμες πληροφορίες\\nΓια οποιαδήποτε πληροφορία, αίτημα ή παράπονο καλέστε στο\\n800 900 1000 ΔΩΡΕΑΝ (ή στο +30 211 211 0770 από το εξωτερικό),\\nεπισκεφθείτε το dei.gr ή απευθυνθείτε σε οποιοδήποτε κατάστημα ΔΕΗ.\\n• Σε περίπτωση διαφωνίας ως προς τις χρεώσεις του λογαριασμού,\\nαντιρρήσεις υποβάλλονται εγγράφως, πριν τη λήξη του επόμενου\\nλογαριασμού από αυτόν που αμφισβητείται. • Ανεξάρτητη Αρχή στην\\nοποία μπορείτε να απευθυνθείτε για εξωδικαστική επίλυση της\\nδιαφοράς σας, είναι ο Συνήγορος του Καταναλωτή (Λ. Αλεξάνδρας 144,\\n114 71 Αθήνα, τηλ: 210 6460862, 210 6460814). • Σε περίπτωση παραβίασης\\nτου θεσμικού πλαισίου εκ μέρους της ΔΕΗ, έχετε τη δυνατότητα\\nυποβολής αιτιολογημένης καταγγελίας ενώπιον της PAE, σύμφωνα με το\\nΝ.4001/2011, άρθρο 34. • Η κατανάλωση στους έναντι λογαριασμούς\\nεκτιμάται βάσει καταναλώσεων αντίστοιχης χρονικής περιόδου του\\nπροηγούμενου έτους και οι χρεώσεις, Προμήθειας και Ρυθμιζόμενες,\\nαποτυπώνονται αναλυτικά.\\nΣελίδα 2 από 2\\n\""
      ]
     },
     "metadata": {},
     "output_type": "display_data"
    }
   ],
   "source": [
    "display(pdf_text[-1])"
   ]
  },
  {
   "cell_type": "code",
   "execution_count": 7,
   "metadata": {},
   "outputs": [],
   "source": [
    "# # date in yyyy/mm/dd format\n",
    "# d1 = dt.datetime(2018, 5, 3)\n",
    "# d2 = dt.datetime(2018, 6, 1)\n",
    "  \n",
    "# # Comparing the dates will return\n",
    "# # either True or False\n",
    "# print(\"d1 is greater than d2 : \", d1 > d2)\n",
    "# print(\"d1 is less than d2 : \", d1 < d2)\n",
    "# print(\"d1 is not equal to d2 : \", d1 != d2)\n",
    "from datetime import datetime\n",
    "date_time_obj = datetime.strptime('30/06/2016','%d/%m/%Y')\n",
    "date_time_obj_2 = datetime.strptime('20/06/2016','%d/%m/%Y')"
   ]
  },
  {
   "cell_type": "code",
   "execution_count": 8,
   "metadata": {},
   "outputs": [
    {
     "name": "stdout",
     "output_type": "stream",
     "text": [
      "10 days, 0:00:00\n"
     ]
    }
   ],
   "source": [
    "print(date_time_obj.date()-date_time_obj_2.date())"
   ]
  },
  {
   "cell_type": "code",
   "execution_count": 64,
   "metadata": {},
   "outputs": [
    {
     "ename": "TypeError",
     "evalue": "expected string or bytes-like object",
     "output_type": "error",
     "traceback": [
      "\u001b[0;31m---------------------------------------------------------------------------\u001b[0m",
      "\u001b[0;31mTypeError\u001b[0m                                 Traceback (most recent call last)",
      "Cell \u001b[0;32mIn[64], line 15\u001b[0m\n\u001b[1;32m     13\u001b[0m find_amount(f,monthly_pay)\n\u001b[1;32m     14\u001b[0m \u001b[39m#Next, find the date of consumption.\u001b[39;00m\n\u001b[0;32m---> 15\u001b[0m find_date(f,begin_consumption,end_consumption,date_bill,dates)\n\u001b[1;32m     16\u001b[0m \u001b[39m#Finally, find the consumption of kWh.\u001b[39;00m\n\u001b[1;32m     17\u001b[0m find_consumption(f,consumption)\n",
      "Cell \u001b[0;32mIn[63], line 23\u001b[0m, in \u001b[0;36mfind_date\u001b[0;34m(text, begin, end, bill, dts)\u001b[0m\n\u001b[1;32m     19\u001b[0m     dts\u001b[39m.\u001b[39mappend(date_time_obj\u001b[39m.\u001b[39mdate())\n\u001b[1;32m     20\u001b[0m     \u001b[39m#print(dts)\u001b[39;00m\n\u001b[1;32m     21\u001b[0m \u001b[39m#Add date of bill\u001b[39;00m\n\u001b[1;32m     22\u001b[0m \u001b[39m#match_bill==re.search(r\"Έκδοσης\\n\\d{2}/\\d{2}/\\d{4}\",text)\u001b[39;00m\n\u001b[0;32m---> 23\u001b[0m \u001b[39mprint\u001b[39m(re\u001b[39m.\u001b[39;49msearch(\u001b[39mr\u001b[39;49m\u001b[39m\"\u001b[39;49m\u001b[39mΈκδοσης\u001b[39;49m\u001b[39m\\\u001b[39;49m\u001b[39mn\u001b[39;49m\u001b[39m\\\u001b[39;49m\u001b[39md\u001b[39;49m\u001b[39m{2}\u001b[39;49;00m\u001b[39m/\u001b[39;49m\u001b[39m\\\u001b[39;49m\u001b[39md\u001b[39;49m\u001b[39m{2}\u001b[39;49;00m\u001b[39m/\u001b[39;49m\u001b[39m\\\u001b[39;49m\u001b[39md\u001b[39;49m\u001b[39m{4}\u001b[39;49;00m\u001b[39m\"\u001b[39;49m,text\u001b[39m==\u001b[39;49m\u001b[39mTrue\u001b[39;49;00m))\n\u001b[1;32m     24\u001b[0m \u001b[39m#if :\u001b[39;00m\n\u001b[1;32m     25\u001b[0m \u001b[39m#    bill.append(dts[0])\u001b[39;00m\n\u001b[1;32m     26\u001b[0m \u001b[39m#else\u001b[39;00m\n\u001b[1;32m     27\u001b[0m \u001b[39m#    bill.append(dts[0])\u001b[39;00m\n\u001b[1;32m     28\u001b[0m \u001b[39m#check date because the format of date changes after some bills\u001b[39;00m\n\u001b[1;32m     29\u001b[0m \u001b[39mif\u001b[39;00m (dts[\u001b[39m1\u001b[39m]\u001b[39m<\u001b[39mdts[\u001b[39m2\u001b[39m] \u001b[39mand\u001b[39;00m dts[\u001b[39m2\u001b[39m]\u001b[39m<\u001b[39mdts[\u001b[39m3\u001b[39m]):\n",
      "File \u001b[0;32m/usr/lib/python3.10/re.py:200\u001b[0m, in \u001b[0;36msearch\u001b[0;34m(pattern, string, flags)\u001b[0m\n\u001b[1;32m    197\u001b[0m \u001b[39mdef\u001b[39;00m \u001b[39msearch\u001b[39m(pattern, string, flags\u001b[39m=\u001b[39m\u001b[39m0\u001b[39m):\n\u001b[1;32m    198\u001b[0m \u001b[39m    \u001b[39m\u001b[39m\"\"\"Scan through string looking for a match to the pattern, returning\u001b[39;00m\n\u001b[1;32m    199\u001b[0m \u001b[39m    a Match object, or None if no match was found.\"\"\"\u001b[39;00m\n\u001b[0;32m--> 200\u001b[0m     \u001b[39mreturn\u001b[39;00m _compile(pattern, flags)\u001b[39m.\u001b[39;49msearch(string)\n",
      "\u001b[0;31mTypeError\u001b[0m: expected string or bytes-like object"
     ]
    }
   ],
   "source": [
    "#Extract the info that we want\n",
    "#Katanalosi, euro and date\n",
    "monthly_pay=[]\n",
    "consumption=[]\n",
    "begin_consumption=[]\n",
    "end_consumption=[]\n",
    "date_bill=[]\n",
    "dates=[]\n",
    "\n",
    "#Iterate over the extracted PDF text.\n",
    "for f in pdf_text:\n",
    "    #First, find what do we pay each month.\n",
    "    find_amount(f,monthly_pay)\n",
    "    #Next, find the date of consumption.\n",
    "    find_date(f,begin_consumption,end_consumption,date_bill,dates)\n",
    "    #Finally, find the consumption of kWh.\n",
    "    find_consumption(f,consumption)\n"
   ]
  },
  {
   "cell_type": "code",
   "execution_count": 10,
   "metadata": {},
   "outputs": [
    {
     "name": "stdout",
     "output_type": "stream",
     "text": [
      "False\n",
      "2800.0\n"
     ]
    }
   ],
   "source": [
    "#fix delimiter in new bills\n",
    "\n",
    "number = consumption[-1]  # Float value with a point as a thousand separator\n",
    "tst=str(number).split(\".\")\n",
    "print(tst[1]>tst[0])\n",
    "number = str(number).replace(\".\", \"\")  # Remove the point\n",
    "number = float(number)  # Convert the result back to float\n",
    "print(number)"
   ]
  },
  {
   "cell_type": "code",
   "execution_count": 11,
   "metadata": {},
   "outputs": [],
   "source": [
    "#fix point delimiter considered as thousand in new bills\n",
    "for month in consumption:\n",
    "    try:\n",
    "        #Check if consumption has a point delimiter that denotes thousand instead of decimal\n",
    "        check=str(month).split(\".\")\n",
    "        if check[1]>check[0]: #It is going to have at least 3 values after the point that denotes thousands\n",
    "            number = str(month).replace(\".\", \"\")  # Remove the point\n",
    "            consumption[consumption.index(month)] = float(number)  # Convert the result back to float\n",
    "    except:\n",
    "        pass"
   ]
  },
  {
   "cell_type": "code",
   "execution_count": 46,
   "metadata": {},
   "outputs": [],
   "source": [
    "# Calling DataFrame constructor after zipping\n",
    "# both lists, with columns specified\n",
    "df = pd.DataFrame(list(zip(begin_consumption, end_consumption,consumption,monthly_pay)),\n",
    "               columns =['Start', 'End','Consumption','Bill'])\n",
    "# forming dataframe\n",
    "data = pd.DataFrame(df) \n",
    "\n",
    "#\n",
    "# storing into the excel file\n",
    "#data.to_excel(\"output.xlsx\")"
   ]
  },
  {
   "cell_type": "code",
   "execution_count": 37,
   "metadata": {},
   "outputs": [],
   "source": [
    "#df.groupby(pd.to_datetime(df['Start of consumption']).dt.year).sum()\n",
    "\n",
    "df['quarter'] = pd.to_datetime(df['End']).dt.quarter\n",
    "df['year'] = pd.to_datetime(df['End']).dt.year\n",
    "#df.quarter=df.quarter.astype(str)\n",
    "#df.groupby(df['quarter']).sum()\n",
    "#type(df['quarter'])"
   ]
  },
  {
   "cell_type": "code",
   "execution_count": 35,
   "metadata": {},
   "outputs": [
    {
     "name": "stderr",
     "output_type": "stream",
     "text": [
      "/tmp/ipykernel_247/1778079388.py:1: FutureWarning: The default value of numeric_only in DataFrameGroupBy.sum is deprecated. In a future version, numeric_only will default to False. Either specify numeric_only or select only columns which should be valid for the function.\n",
      "  test=df.groupby(df['quarter']).sum()\n"
     ]
    },
    {
     "data": {
      "text/plain": [
       "Consumption    float64\n",
       "Bill           float64\n",
       "year             int64\n",
       "dtype: object"
      ]
     },
     "execution_count": 35,
     "metadata": {},
     "output_type": "execute_result"
    }
   ],
   "source": [
    "#test=df.groupby(df['quarter']).sum()\n",
    "#test.dtypes"
   ]
  },
  {
   "cell_type": "code",
   "execution_count": 41,
   "metadata": {},
   "outputs": [
    {
     "ename": "AttributeError",
     "evalue": "'DataFrameGroupBy' object has no attribute 'isnull'",
     "output_type": "error",
     "traceback": [
      "\u001b[0;31m---------------------------------------------------------------------------\u001b[0m",
      "\u001b[0;31mAttributeError\u001b[0m                            Traceback (most recent call last)",
      "Cell \u001b[0;32mIn[41], line 6\u001b[0m\n\u001b[1;32m      3\u001b[0m \u001b[39mimport\u001b[39;00m \u001b[39mnumpy\u001b[39;00m \u001b[39mas\u001b[39;00m \u001b[39mnp\u001b[39;00m\n\u001b[1;32m      5\u001b[0m \u001b[39m# group data by year and quarter\u001b[39;00m\n\u001b[0;32m----> 6\u001b[0m grouped \u001b[39m=\u001b[39m df\u001b[39m.\u001b[39;49mgroupby([\u001b[39m'\u001b[39;49m\u001b[39myear\u001b[39;49m\u001b[39m'\u001b[39;49m,\u001b[39m'\u001b[39;49m\u001b[39mquarter\u001b[39;49m\u001b[39m'\u001b[39;49m])\u001b[39m.\u001b[39;49misnull()\u001b[39m.\u001b[39msum()\n\u001b[1;32m      8\u001b[0m \u001b[39m# reshape data into a pivot table\u001b[39;00m\n\u001b[1;32m      9\u001b[0m pivot \u001b[39m=\u001b[39m grouped\u001b[39m.\u001b[39mpivot_table(index\u001b[39m=\u001b[39m\u001b[39m'\u001b[39m\u001b[39mquarter\u001b[39m\u001b[39m'\u001b[39m, columns\u001b[39m=\u001b[39m\u001b[39m'\u001b[39m\u001b[39myear\u001b[39m\u001b[39m'\u001b[39m, values\u001b[39m=\u001b[39m\u001b[39m'\u001b[39m\u001b[39mBill\u001b[39m\u001b[39m'\u001b[39m, aggfunc\u001b[39m=\u001b[39mnp\u001b[39m.\u001b[39msum)\n",
      "File \u001b[0;32m~/.local/lib/python3.10/site-packages/pandas/core/groupby/groupby.py:987\u001b[0m, in \u001b[0;36mGroupBy.__getattr__\u001b[0;34m(self, attr)\u001b[0m\n\u001b[1;32m    984\u001b[0m \u001b[39mif\u001b[39;00m attr \u001b[39min\u001b[39;00m \u001b[39mself\u001b[39m\u001b[39m.\u001b[39mobj:\n\u001b[1;32m    985\u001b[0m     \u001b[39mreturn\u001b[39;00m \u001b[39mself\u001b[39m[attr]\n\u001b[0;32m--> 987\u001b[0m \u001b[39mraise\u001b[39;00m \u001b[39mAttributeError\u001b[39;00m(\n\u001b[1;32m    988\u001b[0m     \u001b[39mf\u001b[39m\u001b[39m\"\u001b[39m\u001b[39m'\u001b[39m\u001b[39m{\u001b[39;00m\u001b[39mtype\u001b[39m(\u001b[39mself\u001b[39m)\u001b[39m.\u001b[39m\u001b[39m__name__\u001b[39m\u001b[39m}\u001b[39;00m\u001b[39m'\u001b[39m\u001b[39m object has no attribute \u001b[39m\u001b[39m'\u001b[39m\u001b[39m{\u001b[39;00mattr\u001b[39m}\u001b[39;00m\u001b[39m'\u001b[39m\u001b[39m\"\u001b[39m\n\u001b[1;32m    989\u001b[0m )\n",
      "\u001b[0;31mAttributeError\u001b[0m: 'DataFrameGroupBy' object has no attribute 'isnull'"
     ]
    }
   ],
   "source": [
    "import pandas as pd\n",
    "import matplotlib.pyplot as plt\n",
    "import numpy as np\n",
    "\n",
    "# group data by year and quarter\n",
    "grouped = df.groupby(['year','quarter']).sum()\n",
    "\n",
    "# reshape data into a pivot table\n",
    "pivot = grouped.pivot_table(index='quarter', columns='year', values='Bill', aggfunc=np.sum)\n",
    "\n",
    "# create the bar chart\n",
    "ax = pivot.plot(kind='bar', figsize=(10,6))\n",
    "\n",
    "# set the x-axis label and tick labels\n",
    "ax.set_xlabel('Quarter')\n",
    "ax.set_xticklabels(pivot.index, rotation=0)\n",
    "\n",
    "# set the y-axis label\n",
    "ax.set_ylabel('Bill [Euro]')\n",
    "\n",
    "# set the legend\n",
    "ax.legend(title='Year', bbox_to_anchor=(1.05, 1), loc='upper left')"
   ]
  },
  {
   "cell_type": "code",
   "execution_count": null,
   "metadata": {},
   "outputs": [
    {
     "ename": "TypeError",
     "evalue": "the dtypes of parameters x (object) and width (float64) are incompatible",
     "output_type": "error",
     "traceback": [
      "\u001b[1;31m---------------------------------------------------------------------------\u001b[0m",
      "\u001b[1;31mTypeError\u001b[0m                                 Traceback (most recent call last)",
      "\u001b[1;32mc:\\Users\\Alex\\AppData\\Local\\Programs\\Python\\Python38\\lib\\site-packages\\matplotlib\\axes\\_axes.py\u001b[0m in \u001b[0;36mbar\u001b[1;34m(self, x, height, width, bottom, align, **kwargs)\u001b[0m\n\u001b[0;32m   2372\u001b[0m                 \u001b[1;32mtry\u001b[0m\u001b[1;33m:\u001b[0m\u001b[1;33m\u001b[0m\u001b[1;33m\u001b[0m\u001b[0m\n\u001b[1;32m-> 2373\u001b[1;33m                     \u001b[0mleft\u001b[0m \u001b[1;33m=\u001b[0m \u001b[0mx\u001b[0m \u001b[1;33m-\u001b[0m \u001b[0mwidth\u001b[0m \u001b[1;33m/\u001b[0m \u001b[1;36m2\u001b[0m\u001b[1;33m\u001b[0m\u001b[1;33m\u001b[0m\u001b[0m\n\u001b[0m\u001b[0;32m   2374\u001b[0m                 \u001b[1;32mexcept\u001b[0m \u001b[0mTypeError\u001b[0m \u001b[1;32mas\u001b[0m \u001b[0me\u001b[0m\u001b[1;33m:\u001b[0m\u001b[1;33m\u001b[0m\u001b[1;33m\u001b[0m\u001b[0m\n",
      "\u001b[1;31mTypeError\u001b[0m: unsupported operand type(s) for -: 'Period' and 'float'",
      "\nThe above exception was the direct cause of the following exception:\n",
      "\u001b[1;31mTypeError\u001b[0m                                 Traceback (most recent call last)",
      "\u001b[1;32m~\\AppData\\Local\\Temp/ipykernel_6052/16657757.py\u001b[0m in \u001b[0;36m<module>\u001b[1;34m\u001b[0m\n\u001b[0;32m      1\u001b[0m \u001b[1;31m# # Bar chart\u001b[0m\u001b[1;33m\u001b[0m\u001b[1;33m\u001b[0m\u001b[1;33m\u001b[0m\u001b[0m\n\u001b[0;32m      2\u001b[0m \u001b[0mfig\u001b[0m\u001b[1;33m,\u001b[0m \u001b[0max\u001b[0m \u001b[1;33m=\u001b[0m \u001b[0mplt\u001b[0m\u001b[1;33m.\u001b[0m\u001b[0msubplots\u001b[0m\u001b[1;33m(\u001b[0m\u001b[1;33m)\u001b[0m\u001b[1;33m\u001b[0m\u001b[1;33m\u001b[0m\u001b[0m\n\u001b[1;32m----> 3\u001b[1;33m \u001b[0max\u001b[0m\u001b[1;33m.\u001b[0m\u001b[0mbar\u001b[0m\u001b[1;33m(\u001b[0m\u001b[0mtest\u001b[0m\u001b[1;33m.\u001b[0m\u001b[0mindex\u001b[0m\u001b[1;33m,\u001b[0m \u001b[0mtest\u001b[0m\u001b[1;33m[\u001b[0m\u001b[1;34m'Bill [EURO]'\u001b[0m\u001b[1;33m]\u001b[0m\u001b[1;33m)\u001b[0m\u001b[1;33m\u001b[0m\u001b[1;33m\u001b[0m\u001b[0m\n\u001b[0m\u001b[0;32m      4\u001b[0m \u001b[1;33m\u001b[0m\u001b[0m\n\u001b[0;32m      5\u001b[0m \u001b[1;33m\u001b[0m\u001b[0m\n",
      "\u001b[1;32mc:\\Users\\Alex\\AppData\\Local\\Programs\\Python\\Python38\\lib\\site-packages\\matplotlib\\__init__.py\u001b[0m in \u001b[0;36minner\u001b[1;34m(ax, data, *args, **kwargs)\u001b[0m\n\u001b[0;32m   1410\u001b[0m     \u001b[1;32mdef\u001b[0m \u001b[0minner\u001b[0m\u001b[1;33m(\u001b[0m\u001b[0max\u001b[0m\u001b[1;33m,\u001b[0m \u001b[1;33m*\u001b[0m\u001b[0margs\u001b[0m\u001b[1;33m,\u001b[0m \u001b[0mdata\u001b[0m\u001b[1;33m=\u001b[0m\u001b[1;32mNone\u001b[0m\u001b[1;33m,\u001b[0m \u001b[1;33m**\u001b[0m\u001b[0mkwargs\u001b[0m\u001b[1;33m)\u001b[0m\u001b[1;33m:\u001b[0m\u001b[1;33m\u001b[0m\u001b[1;33m\u001b[0m\u001b[0m\n\u001b[0;32m   1411\u001b[0m         \u001b[1;32mif\u001b[0m \u001b[0mdata\u001b[0m \u001b[1;32mis\u001b[0m \u001b[1;32mNone\u001b[0m\u001b[1;33m:\u001b[0m\u001b[1;33m\u001b[0m\u001b[1;33m\u001b[0m\u001b[0m\n\u001b[1;32m-> 1412\u001b[1;33m             \u001b[1;32mreturn\u001b[0m \u001b[0mfunc\u001b[0m\u001b[1;33m(\u001b[0m\u001b[0max\u001b[0m\u001b[1;33m,\u001b[0m \u001b[1;33m*\u001b[0m\u001b[0mmap\u001b[0m\u001b[1;33m(\u001b[0m\u001b[0msanitize_sequence\u001b[0m\u001b[1;33m,\u001b[0m \u001b[0margs\u001b[0m\u001b[1;33m)\u001b[0m\u001b[1;33m,\u001b[0m \u001b[1;33m**\u001b[0m\u001b[0mkwargs\u001b[0m\u001b[1;33m)\u001b[0m\u001b[1;33m\u001b[0m\u001b[1;33m\u001b[0m\u001b[0m\n\u001b[0m\u001b[0;32m   1413\u001b[0m \u001b[1;33m\u001b[0m\u001b[0m\n\u001b[0;32m   1414\u001b[0m         \u001b[0mbound\u001b[0m \u001b[1;33m=\u001b[0m \u001b[0mnew_sig\u001b[0m\u001b[1;33m.\u001b[0m\u001b[0mbind\u001b[0m\u001b[1;33m(\u001b[0m\u001b[0max\u001b[0m\u001b[1;33m,\u001b[0m \u001b[1;33m*\u001b[0m\u001b[0margs\u001b[0m\u001b[1;33m,\u001b[0m \u001b[1;33m**\u001b[0m\u001b[0mkwargs\u001b[0m\u001b[1;33m)\u001b[0m\u001b[1;33m\u001b[0m\u001b[1;33m\u001b[0m\u001b[0m\n",
      "\u001b[1;32mc:\\Users\\Alex\\AppData\\Local\\Programs\\Python\\Python38\\lib\\site-packages\\matplotlib\\axes\\_axes.py\u001b[0m in \u001b[0;36mbar\u001b[1;34m(self, x, height, width, bottom, align, **kwargs)\u001b[0m\n\u001b[0;32m   2373\u001b[0m                     \u001b[0mleft\u001b[0m \u001b[1;33m=\u001b[0m \u001b[0mx\u001b[0m \u001b[1;33m-\u001b[0m \u001b[0mwidth\u001b[0m \u001b[1;33m/\u001b[0m \u001b[1;36m2\u001b[0m\u001b[1;33m\u001b[0m\u001b[1;33m\u001b[0m\u001b[0m\n\u001b[0;32m   2374\u001b[0m                 \u001b[1;32mexcept\u001b[0m \u001b[0mTypeError\u001b[0m \u001b[1;32mas\u001b[0m \u001b[0me\u001b[0m\u001b[1;33m:\u001b[0m\u001b[1;33m\u001b[0m\u001b[1;33m\u001b[0m\u001b[0m\n\u001b[1;32m-> 2375\u001b[1;33m                     raise TypeError(f'the dtypes of parameters x ({x.dtype}) '\n\u001b[0m\u001b[0;32m   2376\u001b[0m                                     \u001b[1;34mf'and width ({width.dtype}) '\u001b[0m\u001b[1;33m\u001b[0m\u001b[1;33m\u001b[0m\u001b[0m\n\u001b[0;32m   2377\u001b[0m                                     f'are incompatible') from e\n",
      "\u001b[1;31mTypeError\u001b[0m: the dtypes of parameters x (object) and width (float64) are incompatible"
     ]
    },
    {
     "data": {
      "image/png": "[encoded data removed]",
      "text/plain": [
       "<Figure size 432x288 with 1 Axes>"
      ]
     },
     "metadata": {
      "needs_background": "light"
     },
     "output_type": "display_data"
    }
   ],
   "source": [
    "# # Bar chart \n",
    "fig, ax = plt.subplots()\n",
    "ax.bar(test.index, test['Bill [EURO]'])\n",
    "\n",
    "\n",
    "#plt.bar(,)\n",
    " \n",
    "plt.title(\"Bar Chart\")\n",
    " \n",
    "# Setting the X and Y labels\n",
    "plt.xlabel('Date')\n",
    "plt.ylabel('Bill [EURO]')\n",
    " \n",
    "# Adding the legends\n",
    "plt.show()\n",
    "\n",
    "\n",
    "# Scatter plot with day against tip\n",
    "# plt.plot(df['Bill [EURO]'])\n",
    " \n",
    "# # Adding Title to the Plot\n",
    "# plt.title(\"Scatter Plot\")\n",
    " \n",
    "# # Setting the X and Y labels\n",
    "# plt.xlabel('Day')\n",
    "# plt.ylabel('Bill [EURO]')\n",
    " \n",
    "# plt.show()"
   ]
  },
  {
   "cell_type": "code",
   "execution_count": null,
   "metadata": {},
   "outputs": [],
   "source": [
    "import pandas as pd\n",
    "import matplotlib.pyplot as plt\n",
    "\n",
    "\n",
    "\n",
    "# group data by year and quarter\n",
    "grouped = df.groupby(['Year', 'Quarter']).sum()\n",
    "\n",
    "# reshape data into a pivot table\n",
    "pivot = grouped.pivot_table(index='Quarter', columns='Year', values='Value')\n",
    "\n",
    "# create the bar chart\n",
    "ax = pivot.plot(kind='bar', figsize=(10,6))\n",
    "\n",
    "# set the x-axis label and tick labels\n",
    "ax.set_xlabel('Quarter')\n",
    "ax.set_xticklabels(pivot.index, rotation=0)\n",
    "\n",
    "# set the y-axis label\n",
    "ax.set_ylabel('Value')\n",
    "\n",
    "# set the legend\n",
    "ax.legend(title='Year', bbox_to_anchor=(1.05, 1), loc='upper left')"
   ]
  },
  {
   "cell_type": "code",
   "execution_count": null,
   "metadata": {},
   "outputs": [],
   "source": [
    "import numpy as np\n",
    "import matplotlib.pyplot as plt\n",
    "\n",
    "#set width of bar\n",
    "barWidth = 0.25\n",
    "fig = plt.subplots(figsize =(12, 8))\n",
    "\n",
    "# set height of bar\n",
    "Q1 = [12, 30, 1, 8, 22]\n",
    "Q2 = [28, 6, 16, 5, 10]\n",
    "Q3 = [29, 3, 24, 25, 17]\n",
    "Q4 = [29, 3, 24, 25, 17]\n",
    "\n",
    "# Set position of bar on X axis\n",
    "br1 = np.arange(len(Q1))\n",
    "br2 = [x + barWidth for x in br1]\n",
    "br3 = [x + barWidth for x in br2]\n",
    "br4 = [x + barWidth for x in br3]\n",
    "\n",
    "# Make the plot\n",
    "plt.bar(br1, Q1, color ='r', width = barWidth,\n",
    "\t\tedgecolor ='grey', label ='Q1')\n",
    "plt.bar(br2, Q2, color ='g', width = barWidth,\n",
    "\t\tedgecolor ='grey', label ='Q2')\n",
    "plt.bar(br3, Q3, color ='b', width = barWidth,\n",
    "\t\tedgecolor ='grey', label ='Q3')\n",
    "plt.bar(br4, Q4, color ='b', width = barWidth,\n",
    "\t\tedgecolor ='grey', label ='Q4')\n",
    "\n",
    "# Adding Xticks\n",
    "plt.xlabel('Branch', fontweight ='bold', fontsize = 15)\n",
    "plt.ylabel('Students passed', fontweight ='bold', fontsize = 15)\n",
    "plt.xticks([r + barWidth for r in range(len(Q1))],\n",
    "\t\t['2015', '2016', '2017', '2018', '2019'])\n",
    "\n",
    "plt.legend()\n",
    "plt.show()\n"
   ]
  },
  {
   "cell_type": "code",
   "execution_count": null,
   "metadata": {},
   "outputs": [],
   "source": [
    "import matplotlib.pyplot as plt\n",
    "import numpy as np\n",
    "\n",
    "quarters = ['Q1', 'Q2', 'Q3', 'Q4']\n",
    "year1 = [100, 150, 200, 250]\n",
    "year2 = [125, 175, 225, 275]\n",
    "year3 = [110, 170, 210, 280]\n",
    "\n",
    "x = np.arange(len(quarters))  # the x locations for the quarters\n",
    "width = 0.2  # the width of the bars\n",
    "\n",
    "fig, ax = plt.subplots()\n",
    "rects1 = ax.bar(x - width, year1, width, label='Year 1')\n",
    "rects2 = ax.bar(x, year2, width, label='Year 2')\n",
    "rects3 = ax.bar(x + width, year3, width, label='Year 3')\n",
    "\n",
    "# Add some text for labels, title and custom x-axis tick labels, etc.\n",
    "ax.set_ylabel('Energy Bill')\n",
    "ax.set_title('Energy Bills by Quarter and Year')\n",
    "ax.set_xticks(x)\n",
    "ax.set_xticklabels(quarters)\n",
    "ax.legend()\n",
    "\n",
    "fig.tight_layout()\n",
    "\n",
    "plt.show()\n"
   ]
  },
  {
   "cell_type": "code",
   "execution_count": 43,
   "metadata": {},
   "outputs": [
    {
     "name": "stderr",
     "output_type": "stream",
     "text": [
      "/tmp/ipykernel_247/241010218.py:2: FutureWarning: The default value of numeric_only in DataFrameGroupBy.sum is deprecated. In a future version, numeric_only will default to False. Either specify numeric_only or select only columns which should be valid for the function.\n",
      "  df_year=df.groupby(pd.to_datetime(df['Start']).dt.year).sum()\n"
     ]
    },
    {
     "data": {
      "image/png": "[encoded data removed]",
      "text/plain": [
       "<Figure size 2000x1000 with 2 Axes>"
      ]
     },
     "metadata": {},
     "output_type": "display_data"
    }
   ],
   "source": [
    "#Results for each a year\n",
    "df_year=df.groupby(pd.to_datetime(df['Start']).dt.year).sum()\n",
    "\n",
    "# Create a figure with two subplots side by side\n",
    "fig, axs = plt.subplots(1, 2, figsize=(20, 10))\n",
    "\n",
    "# Plot the first bar figure in the left subplot\n",
    "axs[0].bar(df_year.index, df_year['Bill'])\n",
    "axs[0].set_title('Bill')\n",
    "axs[0].set_ylabel('[EURO]')\n",
    "axs[0].set_xlabel('Year')\n",
    "# Plot the second bar figure in the right subplot\n",
    "axs[1].bar(df_year.index, df_year['Consumption'])\n",
    "axs[1].set_title('Consumption')\n",
    "axs[1].set_ylabel('[kWh]')\n",
    "axs[1].set_xlabel('Year')\n",
    "# Add a title to the overall figure\n",
    "fig.suptitle('Comparison by year', fontsize=16)\n",
    "# Display the plot\n",
    "plt.show()\n"
   ]
  },
  {
   "cell_type": "code",
   "execution_count": null,
   "metadata": {},
   "outputs": [],
   "source": [
    "#pdf_files\n",
    "#pdf_text[-1]\n",
    "\n",
    "#PyPDF2 doenst work!\n",
    "# for file in pdf_files[0:1]:\n",
    "#     f = open(file,'rb')\n",
    "\n",
    "#     # List of every page's text.\n",
    "#     # The index will correspond to the page number.\n",
    "#     pdf_text = []\n",
    "\n",
    "#     pdf_reader = PyPDF2.PdfReader(f)\n",
    "\n",
    "#     for p in range(len(pdf_reader.pages)):\n",
    "        \n",
    "#         single_page = pdf_reader.pages[p]\n",
    "\n",
    "#         pdf_text.append(single_page.extract_text())"
   ]
  }
 ],
 "metadata": {
  "kernelspec": {
   "display_name": "Python 3",
   "language": "python",
   "name": "python3"
  },
  "language_info": {
   "codemirror_mode": {
    "name": "ipython",
    "version": 3
   },
   "file_extension": ".py",
   "mimetype": "text/x-python",
   "name": "python",
   "nbconvert_exporter": "python",
   "pygments_lexer": "ipython3",
   "version": "3.10.6"
  },
  "orig_nbformat": 4,
  "vscode": {
   "interpreter": {
    "hash": "be96e54ac1641eb6b0b6e091bda5f4569f87f77d93d2c1fb370b248d11e29b0c"
   }
  }
 },
 "nbformat": 4,
 "nbformat_minor": 2
}
